{
 "cells": [
  {
   "cell_type": "code",
   "execution_count": 1,
   "metadata": {
    "scrolled": true
   },
   "outputs": [
    {
     "name": "stderr",
     "output_type": "stream",
     "text": [
      "2024-05-21 13:46:07.460901: I tensorflow/tsl/cuda/cudart_stub.cc:28] Could not find cuda drivers on your machine, GPU will not be used.\n",
      "2024-05-21 13:46:08.887860: I tensorflow/tsl/cuda/cudart_stub.cc:28] Could not find cuda drivers on your machine, GPU will not be used.\n",
      "2024-05-21 13:46:08.894231: I tensorflow/core/platform/cpu_feature_guard.cc:182] This TensorFlow binary is optimized to use available CPU instructions in performance-critical operations.\n",
      "To enable the following instructions: AVX2 FMA, in other operations, rebuild TensorFlow with the appropriate compiler flags.\n",
      "2024-05-21 13:46:11.036380: W tensorflow/compiler/tf2tensorrt/utils/py_utils.cc:38] TF-TRT Warning: Could not find TensorRT\n"
     ]
    }
   ],
   "source": [
    "import os\n",
    "import shutil\n",
    "import zipfile\n",
    "import tensorflow as tf"
   ]
  },
  {
   "cell_type": "code",
   "execution_count": 2,
   "metadata": {
    "colab": {
     "base_uri": "https://localhost:8080/"
    },
    "id": "uIQyJWYevhPD",
    "outputId": "36dae6f4-42bc-4fea-fa95-a524ee294b91"
   },
   "outputs": [],
   "source": [
    "# from google.colab import drive\n",
    "# drive.mount('/content/drive')"
   ]
  },
  {
   "cell_type": "code",
   "execution_count": 3,
   "metadata": {
    "colab": {
     "base_uri": "https://localhost:8080/"
    },
    "id": "Qp0rhmxbUR22",
    "outputId": "a475cfbd-973c-420a-c194-ea8bfe8c47dc"
   },
   "outputs": [],
   "source": [
    "# drive.mount('/content/drive')"
   ]
  },
  {
   "cell_type": "code",
   "execution_count": 4,
   "metadata": {
    "id": "6aO1plF0ZWt9"
   },
   "outputs": [],
   "source": [
    "# Function to rename files in a folder\n",
    "def rename_files(folder_path, label):\n",
    "    # List all files in the folder\n",
    "    files = os.listdir(folder_path)\n",
    "\n",
    "    # Filter to include only .gif files\n",
    "    gif_files = [f for f in files if f.endswith('.gif')]\n",
    "\n",
    "    # Rename each file\n",
    "    for index, filename in enumerate(gif_files):\n",
    "        # Construct new file name\n",
    "        new_name = f\"{label}_{index + 1}.gif\"\n",
    "\n",
    "        # Get full path for the old and new file names\n",
    "        old_file = os.path.join(folder_path, filename)\n",
    "        new_file = os.path.join(folder_path, new_name)\n",
    "\n",
    "        # Rename the file\n",
    "        os.rename(old_file, new_file)\n",
    "    print(f\"Renamed files in {folder_path} to {label}_#.gif\")"
   ]
  },
  {
   "cell_type": "code",
   "execution_count": 5,
   "metadata": {
    "colab": {
     "base_uri": "https://localhost:8080/",
     "height": 315
    },
    "id": "l5JMUSPUZZmT",
    "outputId": "40eb53d5-2574-426a-c4cb-f0a6431329a6"
   },
   "outputs": [],
   "source": [
    "# Extract the zip file\n",
    "zip_file_path = '/dgxa_home/se20ucam045/gif_data.zip'\n",
    "extracted_folder = 'gif_data_extracted.zip'\n",
    "with zipfile.ZipFile(zip_file_path, 'r') as zip_ref:\n",
    "    zip_ref.extractall(extracted_folder)"
   ]
  },
  {
   "cell_type": "code",
   "execution_count": 6,
   "metadata": {
    "id": "X2S_oMruZa_o"
   },
   "outputs": [],
   "source": [
    "# Paths to the extracted folders\n",
    "sad_folder = os.path.join(extracted_folder, 'Sad_2')\n",
    "happy_folder = os.path.join(extracted_folder, 'Happy_3')"
   ]
  },
  {
   "cell_type": "code",
   "execution_count": 7,
   "metadata": {
    "colab": {
     "base_uri": "https://localhost:8080/"
    },
    "id": "lWr_yj0Ba9A7",
    "outputId": "016df008-18a1-41ec-af4e-987812b38cf3"
   },
   "outputs": [
    {
     "name": "stdout",
     "output_type": "stream",
     "text": [
      "Renamed files in gif_data_extracted.zip/Sad_2 to sad_#.gif\n",
      "Renamed files in gif_data_extracted.zip/Happy_3 to happy_#.gif\n"
     ]
    }
   ],
   "source": [
    "# Rename the files in each folder\n",
    "rename_files(sad_folder, 'sad')\n",
    "rename_files(happy_folder, 'happy')"
   ]
  },
  {
   "cell_type": "code",
   "execution_count": 8,
   "metadata": {
    "id": "cBnDwTeIZuUq"
   },
   "outputs": [],
   "source": [
    "# Load and preprocess data without data augmentation\n",
    "def load_data(data_dir, image_size, batch_size, validation_split=0.35):\n",
    "    # Load and preprocess training data with validation split\n",
    "    train_data = tf.keras.utils.image_dataset_from_directory(\n",
    "        data_dir,\n",
    "        labels='inferred',\n",
    "        label_mode='categorical',\n",
    "        color_mode='rgb',\n",
    "        batch_size=batch_size,\n",
    "        image_size=image_size,\n",
    "        validation_split=validation_split,\n",
    "        subset='training',\n",
    "        seed=123\n",
    "    )\n",
    "\n",
    "    # Load and preprocess validation data with validation split\n",
    "    val_data = tf.keras.utils.image_dataset_from_directory(\n",
    "        data_dir,\n",
    "        labels='inferred',\n",
    "        label_mode='categorical',\n",
    "        color_mode='rgb',\n",
    "        batch_size=batch_size,\n",
    "        image_size=image_size,\n",
    "        validation_split=validation_split,\n",
    "        subset='validation',\n",
    "        seed=123\n",
    "    )\n",
    "\n",
    "    return train_data, val_data"
   ]
  },
  {
   "cell_type": "code",
   "execution_count": 9,
   "metadata": {
    "id": "l0lJHvdYZwHZ"
   },
   "outputs": [],
   "source": [
    "# Set parameters (gloabl for all algo)\n",
    "data_dir = '/dgxa_home/se20ucam045/project_last_sem/gif_data_extracted.zip'\n",
    "image_size = (224, 224)\n",
    "batch_size = 32\n",
    "num_classes = 2"
   ]
  },
  {
   "cell_type": "code",
   "execution_count": 10,
   "metadata": {
    "id": "o-bux-iWZ04X"
   },
   "outputs": [],
   "source": [
    "# Calculate class weights to handle class imbalance\n",
    "def calculate_class_weights(data_dir):\n",
    "    # Count the number of samples in each class\n",
    "    class_counts = {}\n",
    "    for class_name in os.listdir(data_dir):\n",
    "        class_path = os.path.join(data_dir, class_name)\n",
    "        class_counts[class_name] = len(os.listdir(class_path))\n",
    "\n",
    "\n",
    "    # Calculate class weights\n",
    "    total_samples = sum(class_counts.values())\n",
    "    class_weights = {}\n",
    "    for class_name, count in class_counts.items():\n",
    "        class_weights[class_name] = total_samples / (len(class_counts) * count)\n",
    "\n",
    "    return class_weights"
   ]
  },
  {
   "cell_type": "code",
   "execution_count": 11,
   "metadata": {
    "colab": {
     "base_uri": "https://localhost:8080/"
    },
    "id": "UIQZdgqqZ_bk",
    "outputId": "387e6f9b-44ca-4cc0-982b-b46a28fdb9db"
   },
   "outputs": [
    {
     "name": "stdout",
     "output_type": "stream",
     "text": [
      "Found 4242 files belonging to 2 classes.\n",
      "Using 2758 files for training.\n",
      "Found 4242 files belonging to 2 classes.\n",
      "Using 1484 files for validation.\n"
     ]
    },
    {
     "name": "stderr",
     "output_type": "stream",
     "text": [
      "2024-05-21 13:47:54.740947: E tensorflow/compiler/xla/stream_executor/cuda/cuda_driver.cc:268] failed call to cuInit: CUDA_ERROR_NO_DEVICE: no CUDA-capable device is detected\n",
      "2024-05-21 13:47:54.740998: I tensorflow/compiler/xla/stream_executor/cuda/cuda_diagnostics.cc:168] retrieving CUDA diagnostic information for host: dgxb\n",
      "2024-05-21 13:47:54.741003: I tensorflow/compiler/xla/stream_executor/cuda/cuda_diagnostics.cc:175] hostname: dgxb\n",
      "2024-05-21 13:47:54.741337: I tensorflow/compiler/xla/stream_executor/cuda/cuda_diagnostics.cc:199] libcuda reported version is: 470.161.3\n",
      "2024-05-21 13:47:54.741353: I tensorflow/compiler/xla/stream_executor/cuda/cuda_diagnostics.cc:203] kernel reported version is: 470.161.3\n",
      "2024-05-21 13:47:54.741357: I tensorflow/compiler/xla/stream_executor/cuda/cuda_diagnostics.cc:309] kernel version seems to match DSO: 470.161.3\n"
     ]
    }
   ],
   "source": [
    "# Load the data (global for all algo)\n",
    "train_data, val_data = load_data(data_dir, image_size, batch_size)"
   ]
  },
  {
   "cell_type": "code",
   "execution_count": 12,
   "metadata": {
    "colab": {
     "base_uri": "https://localhost:8080/"
    },
    "id": "fSgH-BzHbnfa",
    "outputId": "1bed4357-f62f-456a-8f7e-083125118671"
   },
   "outputs": [
    {
     "data": {
      "text/plain": [
       "{'Happy_3': 0.6041013956137853, 'Sad_2': 2.9015047879616964}"
      ]
     },
     "execution_count": 12,
     "metadata": {},
     "output_type": "execute_result"
    }
   ],
   "source": [
    "calculate_class_weights(data_dir)"
   ]
  },
  {
   "cell_type": "code",
   "execution_count": null,
   "metadata": {
    "id": "oQSQRnZMFhcW"
   },
   "outputs": [],
   "source": []
  },
  {
   "cell_type": "code",
   "execution_count": 41,
   "metadata": {
    "id": "QWQBbue0Fhf0"
   },
   "outputs": [],
   "source": [
    "#-------------------------CNN------------------------------------------------"
   ]
  },
  {
   "cell_type": "code",
   "execution_count": 42,
   "metadata": {
    "id": "c7C_j6mRezp8"
   },
   "outputs": [],
   "source": [
    "import os\n",
    "import zipfile\n",
    "import shutil\n",
    "import numpy as np\n",
    "import tensorflow as tf\n",
    "from tensorflow.keras.layers import Conv2D, MaxPooling2D, Flatten, Dense\n",
    "from tensorflow.keras.preprocessing.image import ImageDataGenerator\n",
    "from sklearn.model_selection import train_test_split\n",
    "from sklearn.metrics import classification_report\n",
    "from sklearn.metrics import roc_curve, auc\n",
    "import sklearn.metrics as metrics"
   ]
  },
  {
   "cell_type": "code",
   "execution_count": 43,
   "metadata": {
    "colab": {
     "base_uri": "https://localhost:8080/",
     "height": 775
    },
    "id": "qcWFoBnKFtpY",
    "outputId": "e4efc128-5aae-41d5-9fa7-9c1b150b8831"
   },
   "outputs": [
    {
     "name": "stdout",
     "output_type": "stream",
     "text": [
      "Requirement already satisfied: scikeras in /dgxa_home/se20ucam045/.local/lib/python3.8/site-packages (0.12.0)\n",
      "Requirement already satisfied: scikit-learn>=1.0.0 in /dgxa_home/se20ucam045/.local/lib/python3.8/site-packages (from scikeras) (1.3.2)\n",
      "Requirement already satisfied: packaging>=0.21 in /dgxa_home/se20ucam045/.local/lib/python3.8/site-packages (from scikeras) (24.0)\n",
      "Requirement already satisfied: numpy<2.0,>=1.17.3 in /dgxa_home/se20ucam045/.local/lib/python3.8/site-packages (from scikit-learn>=1.0.0->scikeras) (1.24.3)\n",
      "Requirement already satisfied: threadpoolctl>=2.0.0 in /dgxa_home/se20ucam045/.local/lib/python3.8/site-packages (from scikit-learn>=1.0.0->scikeras) (3.5.0)\n",
      "Requirement already satisfied: scipy>=1.5.0 in /dgxa_home/se20ucam045/.local/lib/python3.8/site-packages (from scikit-learn>=1.0.0->scikeras) (1.10.1)\n",
      "Requirement already satisfied: joblib>=1.1.1 in /dgxa_home/se20ucam045/.local/lib/python3.8/site-packages (from scikit-learn>=1.0.0->scikeras) (1.4.2)\n"
     ]
    }
   ],
   "source": [
    "!pip install scikeras"
   ]
  },
  {
   "cell_type": "code",
   "execution_count": 44,
   "metadata": {
    "id": "rCFohPklFb9_"
   },
   "outputs": [],
   "source": [
    "from tensorflow.keras.models import Sequential\n",
    "from tensorflow.keras.layers import Conv2D, MaxPooling2D, Flatten, Dense\n",
    "import numpy as np\n",
    "from sklearn.model_selection import GridSearchCV\n",
    "#from tensorflow.keras.wrappers.scikit_learn import KerasClassifier\n",
    "from scikeras.wrappers import KerasClassifier\n",
    "\n",
    "def build_model_CNN(input_shape, num_classes):\n",
    "    model = tf.keras.Sequential([\n",
    "        Conv2D(16, kernel_size=(3, 3), activation='relu', input_shape=input_shape),\n",
    "        MaxPooling2D(pool_size=(2, 2)),\n",
    "        Conv2D(32, kernel_size=(3, 3), activation='relu'),\n",
    "        MaxPooling2D(pool_size=(2, 2)),\n",
    "        Conv2D(64, kernel_size=(3, 3), activation='relu'),\n",
    "        MaxPooling2D(pool_size=(2, 2)),\n",
    "        Flatten(),\n",
    "        Dense(256, activation='relu'),\n",
    "        Dense(num_classes, activation='softmax')\n",
    "    ])\n",
    "    return model"
   ]
  },
  {
   "cell_type": "code",
   "execution_count": 45,
   "metadata": {
    "colab": {
     "base_uri": "https://localhost:8080/"
    },
    "id": "k-PSzMvWFcAg",
    "outputId": "6ed9b78d-3ac4-4559-fd09-676ab807159a"
   },
   "outputs": [],
   "source": [
    "# Build the model\n",
    "model_cnn = build_model_CNN(input_shape=image_size + (3,), num_classes=num_classes)"
   ]
  },
  {
   "cell_type": "code",
   "execution_count": 46,
   "metadata": {
    "id": "YNjbhiakFcCe"
   },
   "outputs": [],
   "source": [
    "# Compile the model\n",
    "model_cnn.compile(optimizer='adam', loss='categorical_crossentropy', metrics=['accuracy'])"
   ]
  },
  {
   "cell_type": "code",
   "execution_count": 47,
   "metadata": {
    "id": "6126PM3pFcE1"
   },
   "outputs": [
    {
     "name": "stdout",
     "output_type": "stream",
     "text": [
      "Epoch 1/200\n",
      "87/87 [==============================] - 101s 1s/step - loss: 36.9334 - accuracy: 0.7887 - val_loss: 0.5393 - val_accuracy: 0.8415\n",
      "Epoch 2/200\n",
      "87/87 [==============================] - 70s 758ms/step - loss: 0.3650 - accuracy: 0.8719 - val_loss: 0.4891 - val_accuracy: 0.8618\n",
      "Epoch 3/200\n",
      "87/87 [==============================] - 71s 774ms/step - loss: 0.2215 - accuracy: 0.9165 - val_loss: 0.5158 - val_accuracy: 0.8665\n",
      "Epoch 4/200\n",
      "87/87 [==============================] - 67s 723ms/step - loss: 0.1521 - accuracy: 0.9463 - val_loss: 0.5853 - val_accuracy: 0.8793\n",
      "Epoch 5/200\n",
      "87/87 [==============================] - 67s 716ms/step - loss: 0.0960 - accuracy: 0.9666 - val_loss: 0.6576 - val_accuracy: 0.8854\n",
      "Epoch 6/200\n",
      "87/87 [==============================] - 68s 738ms/step - loss: 0.0801 - accuracy: 0.9742 - val_loss: 0.8183 - val_accuracy: 0.8847\n",
      "Epoch 7/200\n",
      "87/87 [==============================] - 65s 704ms/step - loss: 0.0817 - accuracy: 0.9735 - val_loss: 1.3089 - val_accuracy: 0.8867\n",
      "Epoch 8/200\n",
      "87/87 [==============================] - 66s 714ms/step - loss: 0.0718 - accuracy: 0.9789 - val_loss: 0.8151 - val_accuracy: 0.8726\n",
      "Epoch 9/200\n",
      "87/87 [==============================] - 65s 711ms/step - loss: 0.1119 - accuracy: 0.9750 - val_loss: 0.8777 - val_accuracy: 0.8806\n",
      "Epoch 10/200\n",
      "87/87 [==============================] - 67s 727ms/step - loss: 0.0604 - accuracy: 0.9844 - val_loss: 1.0251 - val_accuracy: 0.8867\n",
      "Epoch 11/200\n",
      "87/87 [==============================] - 67s 734ms/step - loss: 0.0526 - accuracy: 0.9862 - val_loss: 1.1017 - val_accuracy: 0.8854\n",
      "Epoch 12/200\n",
      "87/87 [==============================] - 68s 746ms/step - loss: 0.0320 - accuracy: 0.9895 - val_loss: 1.2707 - val_accuracy: 0.8887\n",
      "Epoch 13/200\n",
      "87/87 [==============================] - 66s 723ms/step - loss: 0.0135 - accuracy: 0.9960 - val_loss: 1.4145 - val_accuracy: 0.8901\n",
      "Epoch 14/200\n",
      "87/87 [==============================] - 66s 715ms/step - loss: 0.0152 - accuracy: 0.9971 - val_loss: 1.5914 - val_accuracy: 0.8921\n",
      "Epoch 15/200\n",
      "87/87 [==============================] - 66s 712ms/step - loss: 0.0075 - accuracy: 0.9982 - val_loss: 1.5464 - val_accuracy: 0.8867\n",
      "Epoch 16/200\n",
      "87/87 [==============================] - 65s 711ms/step - loss: 0.0246 - accuracy: 0.9920 - val_loss: 1.4535 - val_accuracy: 0.8806\n",
      "Epoch 17/200\n",
      "87/87 [==============================] - 66s 723ms/step - loss: 0.0514 - accuracy: 0.9877 - val_loss: 1.3818 - val_accuracy: 0.8894\n",
      "Epoch 18/200\n",
      "87/87 [==============================] - 69s 748ms/step - loss: 0.0486 - accuracy: 0.9837 - val_loss: 1.2592 - val_accuracy: 0.8874\n",
      "Epoch 19/200\n",
      "87/87 [==============================] - 67s 724ms/step - loss: 0.0427 - accuracy: 0.9884 - val_loss: 1.2561 - val_accuracy: 0.8921\n",
      "Epoch 20/200\n",
      "87/87 [==============================] - 67s 723ms/step - loss: 0.0602 - accuracy: 0.9811 - val_loss: 1.4461 - val_accuracy: 0.8773\n",
      "Epoch 21/200\n",
      "87/87 [==============================] - 67s 730ms/step - loss: 0.0536 - accuracy: 0.9869 - val_loss: 1.7358 - val_accuracy: 0.8773\n",
      "Epoch 22/200\n",
      "87/87 [==============================] - 66s 713ms/step - loss: 0.0619 - accuracy: 0.9848 - val_loss: 1.5107 - val_accuracy: 0.8928\n",
      "Epoch 23/200\n",
      "87/87 [==============================] - 67s 730ms/step - loss: 0.0425 - accuracy: 0.9902 - val_loss: 1.5203 - val_accuracy: 0.8773\n",
      "Epoch 24/200\n",
      "87/87 [==============================] - 66s 709ms/step - loss: 0.0454 - accuracy: 0.9884 - val_loss: 1.7413 - val_accuracy: 0.8901\n",
      "Epoch 25/200\n",
      "87/87 [==============================] - 66s 717ms/step - loss: 0.0156 - accuracy: 0.9953 - val_loss: 1.7528 - val_accuracy: 0.8887\n",
      "Epoch 26/200\n",
      "87/87 [==============================] - 68s 743ms/step - loss: 0.0070 - accuracy: 0.9975 - val_loss: 1.9819 - val_accuracy: 0.8908\n",
      "Epoch 27/200\n",
      "87/87 [==============================] - 67s 728ms/step - loss: 0.0109 - accuracy: 0.9967 - val_loss: 1.9900 - val_accuracy: 0.8928\n",
      "Epoch 28/200\n",
      "87/87 [==============================] - 66s 719ms/step - loss: 0.0046 - accuracy: 0.9982 - val_loss: 2.0883 - val_accuracy: 0.8908\n",
      "Epoch 29/200\n",
      "87/87 [==============================] - 68s 733ms/step - loss: 0.0067 - accuracy: 0.9978 - val_loss: 2.1373 - val_accuracy: 0.8941\n",
      "Epoch 30/200\n",
      "87/87 [==============================] - 71s 774ms/step - loss: 0.0064 - accuracy: 0.9971 - val_loss: 2.2476 - val_accuracy: 0.8928\n",
      "Epoch 31/200\n",
      "87/87 [==============================] - 67s 718ms/step - loss: 0.0038 - accuracy: 0.9982 - val_loss: 2.2352 - val_accuracy: 0.8914\n",
      "Epoch 32/200\n",
      "87/87 [==============================] - 69s 752ms/step - loss: 0.0080 - accuracy: 0.9975 - val_loss: 2.0959 - val_accuracy: 0.8935\n",
      "Epoch 33/200\n",
      "87/87 [==============================] - 66s 714ms/step - loss: 0.0033 - accuracy: 0.9989 - val_loss: 2.2592 - val_accuracy: 0.8955\n",
      "Epoch 34/200\n",
      "87/87 [==============================] - 67s 724ms/step - loss: 0.0039 - accuracy: 0.9985 - val_loss: 2.1965 - val_accuracy: 0.8941\n",
      "Epoch 35/200\n",
      "87/87 [==============================] - 65s 706ms/step - loss: 0.0270 - accuracy: 0.9880 - val_loss: 2.6421 - val_accuracy: 0.8955\n",
      "Epoch 36/200\n",
      "87/87 [==============================] - 69s 744ms/step - loss: 0.0113 - accuracy: 0.9975 - val_loss: 2.2566 - val_accuracy: 0.8901\n",
      "Epoch 37/200\n",
      "87/87 [==============================] - 66s 723ms/step - loss: 0.0054 - accuracy: 0.9982 - val_loss: 2.4322 - val_accuracy: 0.8989\n",
      "Epoch 38/200\n",
      "87/87 [==============================] - 71s 773ms/step - loss: 0.0052 - accuracy: 0.9985 - val_loss: 2.2373 - val_accuracy: 0.8928\n",
      "Epoch 39/200\n",
      "87/87 [==============================] - 67s 714ms/step - loss: 0.0069 - accuracy: 0.9978 - val_loss: 2.2973 - val_accuracy: 0.8955\n",
      "Epoch 40/200\n",
      "87/87 [==============================] - 69s 753ms/step - loss: 0.0050 - accuracy: 0.9985 - val_loss: 2.2292 - val_accuracy: 0.8928\n",
      "Epoch 41/200\n",
      "87/87 [==============================] - 65s 706ms/step - loss: 0.0181 - accuracy: 0.9938 - val_loss: 1.8481 - val_accuracy: 0.8860\n",
      "Epoch 42/200\n",
      "87/87 [==============================] - 71s 774ms/step - loss: 0.0314 - accuracy: 0.9891 - val_loss: 2.4849 - val_accuracy: 0.9069\n",
      "Epoch 43/200\n",
      "87/87 [==============================] - 69s 734ms/step - loss: 0.1095 - accuracy: 0.9800 - val_loss: 1.3518 - val_accuracy: 0.8651\n",
      "Epoch 44/200\n",
      "87/87 [==============================] - 71s 759ms/step - loss: 0.1100 - accuracy: 0.9637 - val_loss: 1.5549 - val_accuracy: 0.8658\n",
      "Epoch 45/200\n",
      "87/87 [==============================] - 68s 743ms/step - loss: 0.0242 - accuracy: 0.9946 - val_loss: 2.0250 - val_accuracy: 0.9016\n",
      "Epoch 46/200\n",
      "87/87 [==============================] - 71s 768ms/step - loss: 0.0070 - accuracy: 0.9982 - val_loss: 2.0721 - val_accuracy: 0.9063\n",
      "Epoch 47/200\n",
      "87/87 [==============================] - 68s 733ms/step - loss: 0.0039 - accuracy: 0.9985 - val_loss: 2.0918 - val_accuracy: 0.9063\n",
      "Epoch 48/200\n",
      "87/87 [==============================] - 69s 749ms/step - loss: 0.0052 - accuracy: 0.9982 - val_loss: 2.0304 - val_accuracy: 0.9056\n",
      "Epoch 49/200\n",
      "87/87 [==============================] - 65s 708ms/step - loss: 0.0036 - accuracy: 0.9985 - val_loss: 2.0532 - val_accuracy: 0.9083\n",
      "Epoch 50/200\n",
      "87/87 [==============================] - 66s 717ms/step - loss: 0.0038 - accuracy: 0.9978 - val_loss: 2.0805 - val_accuracy: 0.9110\n",
      "Epoch 51/200\n",
      "87/87 [==============================] - 83s 914ms/step - loss: 0.0047 - accuracy: 0.9985 - val_loss: 2.0445 - val_accuracy: 0.9110\n",
      "Epoch 52/200\n",
      "87/87 [==============================] - 84s 889ms/step - loss: 0.0035 - accuracy: 0.9985 - val_loss: 2.0334 - val_accuracy: 0.9090\n",
      "Epoch 53/200\n",
      "87/87 [==============================] - 71s 777ms/step - loss: 0.0024 - accuracy: 0.9989 - val_loss: 2.0863 - val_accuracy: 0.9117\n",
      "Epoch 54/200\n",
      "87/87 [==============================] - 66s 713ms/step - loss: 0.0025 - accuracy: 0.9989 - val_loss: 2.1004 - val_accuracy: 0.9110\n",
      "Epoch 55/200\n",
      "87/87 [==============================] - 68s 742ms/step - loss: 0.0027 - accuracy: 0.9989 - val_loss: 2.1212 - val_accuracy: 0.9110\n",
      "Epoch 56/200\n",
      "87/87 [==============================] - 71s 763ms/step - loss: 0.0026 - accuracy: 0.9985 - val_loss: 2.1327 - val_accuracy: 0.9110\n",
      "Epoch 57/200\n",
      "87/87 [==============================] - 67s 720ms/step - loss: 0.0028 - accuracy: 0.9985 - val_loss: 2.1404 - val_accuracy: 0.9117\n",
      "Epoch 58/200\n",
      "87/87 [==============================] - 66s 715ms/step - loss: 0.0027 - accuracy: 0.9985 - val_loss: 2.1421 - val_accuracy: 0.9137\n",
      "Epoch 59/200\n",
      "87/87 [==============================] - 70s 753ms/step - loss: 0.0025 - accuracy: 0.9985 - val_loss: 2.1443 - val_accuracy: 0.9130\n",
      "Epoch 60/200\n",
      "87/87 [==============================] - 67s 728ms/step - loss: 0.0023 - accuracy: 0.9989 - val_loss: 2.1697 - val_accuracy: 0.9130\n",
      "Epoch 61/200\n",
      "87/87 [==============================] - 65s 710ms/step - loss: 0.0023 - accuracy: 0.9985 - val_loss: 2.1825 - val_accuracy: 0.9137\n",
      "Epoch 62/200\n",
      "87/87 [==============================] - 69s 750ms/step - loss: 0.0030 - accuracy: 0.9985 - val_loss: 2.1757 - val_accuracy: 0.9144\n",
      "Epoch 63/200\n",
      "87/87 [==============================] - 67s 721ms/step - loss: 0.0036 - accuracy: 0.9985 - val_loss: 2.0890 - val_accuracy: 0.9123\n",
      "Epoch 64/200\n",
      "87/87 [==============================] - 67s 731ms/step - loss: 0.0024 - accuracy: 0.9989 - val_loss: 2.1238 - val_accuracy: 0.9144\n",
      "Epoch 65/200\n",
      "87/87 [==============================] - 68s 741ms/step - loss: 0.0026 - accuracy: 0.9989 - val_loss: 2.1259 - val_accuracy: 0.9130\n",
      "Epoch 66/200\n",
      "87/87 [==============================] - 66s 711ms/step - loss: 0.0022 - accuracy: 0.9993 - val_loss: 2.1577 - val_accuracy: 0.9150\n",
      "Epoch 67/200\n",
      "87/87 [==============================] - 67s 734ms/step - loss: 0.0021 - accuracy: 0.9993 - val_loss: 2.1915 - val_accuracy: 0.9177\n",
      "Epoch 68/200\n",
      "87/87 [==============================] - 70s 759ms/step - loss: 0.0025 - accuracy: 0.9989 - val_loss: 2.1663 - val_accuracy: 0.9150\n",
      "Epoch 69/200\n",
      "87/87 [==============================] - 66s 709ms/step - loss: 0.0028 - accuracy: 0.9985 - val_loss: 2.1319 - val_accuracy: 0.9144\n",
      "Epoch 70/200\n",
      "87/87 [==============================] - 65s 707ms/step - loss: 0.0021 - accuracy: 0.9993 - val_loss: 2.1854 - val_accuracy: 0.9150\n",
      "Epoch 71/200\n",
      "87/87 [==============================] - 70s 761ms/step - loss: 0.0018 - accuracy: 0.9993 - val_loss: 2.2365 - val_accuracy: 0.9191\n",
      "Epoch 72/200\n",
      "87/87 [==============================] - 68s 732ms/step - loss: 0.0017 - accuracy: 0.9993 - val_loss: 2.2721 - val_accuracy: 0.9177\n",
      "Epoch 73/200\n",
      "87/87 [==============================] - 69s 748ms/step - loss: 0.0016 - accuracy: 0.9993 - val_loss: 2.2988 - val_accuracy: 0.9177\n",
      "Epoch 74/200\n",
      "87/87 [==============================] - 69s 748ms/step - loss: 0.0017 - accuracy: 0.9993 - val_loss: 2.3152 - val_accuracy: 0.9177\n",
      "Epoch 75/200\n",
      "87/87 [==============================] - 72s 779ms/step - loss: 0.0017 - accuracy: 0.9993 - val_loss: 2.3251 - val_accuracy: 0.9184\n",
      "Epoch 76/200\n",
      "87/87 [==============================] - 68s 746ms/step - loss: 0.0016 - accuracy: 0.9993 - val_loss: 2.3554 - val_accuracy: 0.9177\n",
      "Epoch 77/200\n",
      "87/87 [==============================] - 68s 736ms/step - loss: 0.0117 - accuracy: 0.9960 - val_loss: 2.3537 - val_accuracy: 0.8045\n",
      "Epoch 78/200\n",
      "87/87 [==============================] - 67s 729ms/step - loss: 0.4491 - accuracy: 0.9013 - val_loss: 0.8496 - val_accuracy: 0.8456\n",
      "Epoch 79/200\n",
      "87/87 [==============================] - 68s 731ms/step - loss: 0.1498 - accuracy: 0.9514 - val_loss: 0.9730 - val_accuracy: 0.8813\n",
      "Epoch 80/200\n",
      "87/87 [==============================] - 67s 725ms/step - loss: 0.0788 - accuracy: 0.9764 - val_loss: 1.2808 - val_accuracy: 0.8887\n",
      "Epoch 81/200\n",
      "87/87 [==============================] - 71s 774ms/step - loss: 0.0420 - accuracy: 0.9851 - val_loss: 1.4371 - val_accuracy: 0.8908\n",
      "Epoch 82/200\n",
      "87/87 [==============================] - 71s 771ms/step - loss: 0.0300 - accuracy: 0.9880 - val_loss: 1.6764 - val_accuracy: 0.8968\n",
      "Epoch 83/200\n",
      "87/87 [==============================] - 68s 736ms/step - loss: 0.0253 - accuracy: 0.9895 - val_loss: 1.8308 - val_accuracy: 0.9029\n",
      "Epoch 84/200\n",
      "87/87 [==============================] - 70s 762ms/step - loss: 0.0185 - accuracy: 0.9927 - val_loss: 1.5476 - val_accuracy: 0.8955\n",
      "Epoch 85/200\n",
      "87/87 [==============================] - 73s 779ms/step - loss: 0.0190 - accuracy: 0.9924 - val_loss: 1.8968 - val_accuracy: 0.9049\n",
      "Epoch 86/200\n",
      "87/87 [==============================] - 68s 740ms/step - loss: 0.0211 - accuracy: 0.9931 - val_loss: 1.6770 - val_accuracy: 0.9036\n",
      "Epoch 87/200\n",
      "87/87 [==============================] - 72s 782ms/step - loss: 0.0146 - accuracy: 0.9949 - val_loss: 1.8678 - val_accuracy: 0.8921\n",
      "Epoch 88/200\n",
      "87/87 [==============================] - 71s 765ms/step - loss: 0.0545 - accuracy: 0.9866 - val_loss: 1.2640 - val_accuracy: 0.8833\n",
      "Epoch 89/200\n",
      "87/87 [==============================] - 69s 750ms/step - loss: 0.0459 - accuracy: 0.9887 - val_loss: 1.2653 - val_accuracy: 0.8962\n",
      "Epoch 90/200\n",
      "87/87 [==============================] - 69s 754ms/step - loss: 0.0195 - accuracy: 0.9935 - val_loss: 1.4331 - val_accuracy: 0.8928\n",
      "Epoch 91/200\n",
      "87/87 [==============================] - 68s 731ms/step - loss: 0.0149 - accuracy: 0.9953 - val_loss: 1.6106 - val_accuracy: 0.8962\n",
      "Epoch 92/200\n",
      "87/87 [==============================] - 70s 750ms/step - loss: 0.0087 - accuracy: 0.9960 - val_loss: 1.5754 - val_accuracy: 0.8955\n",
      "Epoch 93/200\n",
      "87/87 [==============================] - 66s 717ms/step - loss: 0.0077 - accuracy: 0.9964 - val_loss: 1.6696 - val_accuracy: 0.8948\n",
      "Epoch 94/200\n",
      "87/87 [==============================] - 66s 720ms/step - loss: 0.0077 - accuracy: 0.9967 - val_loss: 1.7495 - val_accuracy: 0.8887\n",
      "Epoch 95/200\n",
      "87/87 [==============================] - 69s 748ms/step - loss: 0.0074 - accuracy: 0.9967 - val_loss: 1.7949 - val_accuracy: 0.8975\n",
      "Epoch 96/200\n",
      "87/87 [==============================] - 69s 746ms/step - loss: 0.0083 - accuracy: 0.9964 - val_loss: 1.7998 - val_accuracy: 0.8901\n",
      "Epoch 97/200\n",
      "87/87 [==============================] - 70s 770ms/step - loss: 0.0065 - accuracy: 0.9975 - val_loss: 1.9622 - val_accuracy: 0.8989\n",
      "Epoch 98/200\n",
      "87/87 [==============================] - 68s 727ms/step - loss: 0.0069 - accuracy: 0.9967 - val_loss: 1.7812 - val_accuracy: 0.8881\n",
      "Epoch 99/200\n",
      "87/87 [==============================] - 67s 733ms/step - loss: 0.0067 - accuracy: 0.9971 - val_loss: 1.8113 - val_accuracy: 0.8894\n",
      "Epoch 100/200\n",
      "87/87 [==============================] - 66s 712ms/step - loss: 0.0159 - accuracy: 0.9964 - val_loss: 1.9571 - val_accuracy: 0.8982\n",
      "Epoch 101/200\n",
      "87/87 [==============================] - 70s 761ms/step - loss: 0.0724 - accuracy: 0.9819 - val_loss: 1.3820 - val_accuracy: 0.8941\n",
      "Epoch 102/200\n",
      "87/87 [==============================] - 68s 730ms/step - loss: 0.0329 - accuracy: 0.9895 - val_loss: 1.8899 - val_accuracy: 0.9063\n",
      "Epoch 103/200\n",
      "87/87 [==============================] - 81s 886ms/step - loss: 0.0165 - accuracy: 0.9960 - val_loss: 1.7170 - val_accuracy: 0.8975\n",
      "Epoch 104/200\n",
      "87/87 [==============================] - 86s 912ms/step - loss: 0.0102 - accuracy: 0.9964 - val_loss: 1.7200 - val_accuracy: 0.9016\n",
      "Epoch 105/200\n",
      "87/87 [==============================] - 74s 812ms/step - loss: 0.0071 - accuracy: 0.9971 - val_loss: 1.8460 - val_accuracy: 0.9022\n",
      "Epoch 106/200\n",
      "87/87 [==============================] - 75s 825ms/step - loss: 0.0060 - accuracy: 0.9975 - val_loss: 1.9758 - val_accuracy: 0.9076\n",
      "Epoch 107/200\n",
      "87/87 [==============================] - 82s 887ms/step - loss: 0.0066 - accuracy: 0.9975 - val_loss: 1.6684 - val_accuracy: 0.9016\n",
      "Epoch 108/200\n",
      "87/87 [==============================] - 66s 717ms/step - loss: 0.0050 - accuracy: 0.9978 - val_loss: 1.8453 - val_accuracy: 0.9049\n",
      "Epoch 109/200\n",
      "87/87 [==============================] - 69s 740ms/step - loss: 0.0047 - accuracy: 0.9978 - val_loss: 1.9217 - val_accuracy: 0.9056\n",
      "Epoch 110/200\n",
      "87/87 [==============================] - 67s 724ms/step - loss: 0.0036 - accuracy: 0.9985 - val_loss: 1.9142 - val_accuracy: 0.9069\n",
      "Epoch 111/200\n",
      "87/87 [==============================] - 66s 716ms/step - loss: 0.0032 - accuracy: 0.9989 - val_loss: 1.9521 - val_accuracy: 0.9069\n",
      "Epoch 112/200\n",
      "87/87 [==============================] - 67s 729ms/step - loss: 0.0030 - accuracy: 0.9982 - val_loss: 2.0380 - val_accuracy: 0.9076\n",
      "Epoch 113/200\n",
      "87/87 [==============================] - 66s 714ms/step - loss: 0.0030 - accuracy: 0.9989 - val_loss: 2.0305 - val_accuracy: 0.9090\n",
      "Epoch 114/200\n",
      "87/87 [==============================] - 67s 726ms/step - loss: 0.0028 - accuracy: 0.9989 - val_loss: 2.0922 - val_accuracy: 0.9110\n",
      "Epoch 115/200\n",
      "87/87 [==============================] - 71s 774ms/step - loss: 0.0040 - accuracy: 0.9985 - val_loss: 2.0585 - val_accuracy: 0.9096\n",
      "Epoch 116/200\n",
      "87/87 [==============================] - 69s 752ms/step - loss: 0.0029 - accuracy: 0.9993 - val_loss: 2.1194 - val_accuracy: 0.9130\n",
      "Epoch 117/200\n",
      "87/87 [==============================] - 77s 847ms/step - loss: 0.0028 - accuracy: 0.9993 - val_loss: 2.1425 - val_accuracy: 0.9157\n",
      "Epoch 118/200\n",
      "87/87 [==============================] - 73s 784ms/step - loss: 0.0027 - accuracy: 0.9989 - val_loss: 2.1700 - val_accuracy: 0.9150\n",
      "Epoch 119/200\n",
      "87/87 [==============================] - 71s 775ms/step - loss: 0.0026 - accuracy: 0.9989 - val_loss: 2.2524 - val_accuracy: 0.9150\n",
      "Epoch 120/200\n",
      "87/87 [==============================] - 73s 804ms/step - loss: 0.0024 - accuracy: 0.9989 - val_loss: 2.2058 - val_accuracy: 0.9157\n",
      "Epoch 121/200\n",
      "87/87 [==============================] - 72s 788ms/step - loss: 0.0025 - accuracy: 0.9989 - val_loss: 2.2834 - val_accuracy: 0.9171\n",
      "Epoch 122/200\n",
      "87/87 [==============================] - 69s 738ms/step - loss: 0.0023 - accuracy: 0.9993 - val_loss: 2.3167 - val_accuracy: 0.9157\n",
      "Epoch 123/200\n",
      "87/87 [==============================] - 67s 726ms/step - loss: 0.0022 - accuracy: 0.9993 - val_loss: 2.3130 - val_accuracy: 0.9157\n",
      "Epoch 124/200\n",
      "87/87 [==============================] - 67s 732ms/step - loss: 0.0021 - accuracy: 0.9993 - val_loss: 2.3321 - val_accuracy: 0.9177\n",
      "Epoch 125/200\n",
      "87/87 [==============================] - 67s 734ms/step - loss: 0.0024 - accuracy: 0.9993 - val_loss: 2.4022 - val_accuracy: 0.9157\n",
      "Epoch 126/200\n",
      "87/87 [==============================] - 67s 717ms/step - loss: 0.0022 - accuracy: 0.9993 - val_loss: 2.4121 - val_accuracy: 0.9171\n",
      "Epoch 127/200\n",
      "87/87 [==============================] - 66s 710ms/step - loss: 0.0021 - accuracy: 0.9993 - val_loss: 2.4191 - val_accuracy: 0.9144\n",
      "Epoch 128/200\n",
      "87/87 [==============================] - 67s 733ms/step - loss: 0.0020 - accuracy: 0.9993 - val_loss: 2.4981 - val_accuracy: 0.9157\n",
      "Epoch 129/200\n",
      "87/87 [==============================] - 67s 731ms/step - loss: 0.0021 - accuracy: 0.9993 - val_loss: 2.4304 - val_accuracy: 0.9164\n",
      "Epoch 130/200\n",
      "87/87 [==============================] - 70s 758ms/step - loss: 0.0023 - accuracy: 0.9993 - val_loss: 2.3945 - val_accuracy: 0.9157\n",
      "Epoch 131/200\n",
      "87/87 [==============================] - 69s 753ms/step - loss: 0.0020 - accuracy: 0.9993 - val_loss: 2.5185 - val_accuracy: 0.9171\n",
      "Epoch 132/200\n",
      "87/87 [==============================] - 70s 760ms/step - loss: 0.0021 - accuracy: 0.9993 - val_loss: 1.9532 - val_accuracy: 0.9150\n",
      "Epoch 133/200\n",
      "87/87 [==============================] - 70s 766ms/step - loss: 0.0019 - accuracy: 0.9993 - val_loss: 2.0071 - val_accuracy: 0.9110\n",
      "Epoch 134/200\n",
      "87/87 [==============================] - 73s 790ms/step - loss: 0.1050 - accuracy: 0.9898 - val_loss: 2.6126 - val_accuracy: 0.8672\n",
      "Epoch 135/200\n",
      "87/87 [==============================] - 69s 754ms/step - loss: 0.2740 - accuracy: 0.9583 - val_loss: 1.3083 - val_accuracy: 0.8894\n",
      "Epoch 136/200\n",
      "87/87 [==============================] - 67s 722ms/step - loss: 0.0908 - accuracy: 0.9866 - val_loss: 2.7035 - val_accuracy: 0.8746\n",
      "Epoch 137/200\n",
      "87/87 [==============================] - 66s 711ms/step - loss: 0.1441 - accuracy: 0.9819 - val_loss: 1.2570 - val_accuracy: 0.8894\n",
      "Epoch 138/200\n",
      "87/87 [==============================] - 67s 715ms/step - loss: 0.0100 - accuracy: 0.9964 - val_loss: 1.6213 - val_accuracy: 0.9022\n",
      "Epoch 139/200\n",
      "87/87 [==============================] - 69s 744ms/step - loss: 0.0091 - accuracy: 0.9978 - val_loss: 1.5776 - val_accuracy: 0.9042\n",
      "Epoch 140/200\n",
      "87/87 [==============================] - 68s 741ms/step - loss: 0.0035 - accuracy: 0.9985 - val_loss: 1.6533 - val_accuracy: 0.9022\n",
      "Epoch 141/200\n",
      "87/87 [==============================] - 70s 762ms/step - loss: 0.0026 - accuracy: 0.9989 - val_loss: 1.7311 - val_accuracy: 0.9042\n",
      "Epoch 142/200\n",
      "87/87 [==============================] - 67s 718ms/step - loss: 0.0028 - accuracy: 0.9993 - val_loss: 1.7588 - val_accuracy: 0.9036\n",
      "Epoch 143/200\n",
      "87/87 [==============================] - 66s 711ms/step - loss: 0.0025 - accuracy: 0.9993 - val_loss: 1.8233 - val_accuracy: 0.9056\n",
      "Epoch 144/200\n",
      "87/87 [==============================] - 66s 721ms/step - loss: 0.0023 - accuracy: 0.9989 - val_loss: 1.8925 - val_accuracy: 0.9056\n",
      "Epoch 145/200\n",
      "87/87 [==============================] - 68s 731ms/step - loss: 0.0056 - accuracy: 0.9985 - val_loss: 1.7652 - val_accuracy: 0.9022\n",
      "Epoch 146/200\n",
      "87/87 [==============================] - 67s 729ms/step - loss: 0.0022 - accuracy: 0.9993 - val_loss: 1.8259 - val_accuracy: 0.9036\n",
      "Epoch 147/200\n",
      "87/87 [==============================] - 66s 713ms/step - loss: 0.0022 - accuracy: 0.9993 - val_loss: 1.8930 - val_accuracy: 0.9069\n",
      "Epoch 148/200\n",
      "87/87 [==============================] - 68s 743ms/step - loss: 0.0026 - accuracy: 0.9993 - val_loss: 1.9313 - val_accuracy: 0.9056\n",
      "Epoch 149/200\n",
      "87/87 [==============================] - 70s 760ms/step - loss: 0.0022 - accuracy: 0.9993 - val_loss: 1.9781 - val_accuracy: 0.9083\n",
      "Epoch 150/200\n",
      "87/87 [==============================] - 67s 734ms/step - loss: 0.0020 - accuracy: 0.9993 - val_loss: 2.0177 - val_accuracy: 0.9103\n",
      "Epoch 151/200\n",
      "87/87 [==============================] - 66s 721ms/step - loss: 0.0020 - accuracy: 0.9993 - val_loss: 2.0532 - val_accuracy: 0.9103\n",
      "Epoch 152/200\n",
      "87/87 [==============================] - 69s 746ms/step - loss: 0.0022 - accuracy: 0.9993 - val_loss: 2.0654 - val_accuracy: 0.9103\n",
      "Epoch 153/200\n",
      "87/87 [==============================] - 70s 759ms/step - loss: 0.0021 - accuracy: 0.9993 - val_loss: 2.1008 - val_accuracy: 0.9090\n",
      "Epoch 154/200\n",
      "87/87 [==============================] - 68s 741ms/step - loss: 0.0020 - accuracy: 0.9993 - val_loss: 2.1377 - val_accuracy: 0.9083\n",
      "Epoch 155/200\n",
      "87/87 [==============================] - 90s 982ms/step - loss: 0.0020 - accuracy: 0.9993 - val_loss: 2.1500 - val_accuracy: 0.9083\n",
      "Epoch 156/200\n",
      "87/87 [==============================] - 80s 854ms/step - loss: 0.0019 - accuracy: 0.9993 - val_loss: 2.1853 - val_accuracy: 0.9096\n",
      "Epoch 157/200\n",
      "87/87 [==============================] - 74s 801ms/step - loss: 0.0019 - accuracy: 0.9993 - val_loss: 2.2077 - val_accuracy: 0.9103\n",
      "Epoch 158/200\n",
      "87/87 [==============================] - 75s 814ms/step - loss: 0.0018 - accuracy: 0.9993 - val_loss: 2.2321 - val_accuracy: 0.9117\n",
      "Epoch 159/200\n",
      "87/87 [==============================] - 75s 815ms/step - loss: 0.0021 - accuracy: 0.9993 - val_loss: 2.2277 - val_accuracy: 0.9117\n",
      "Epoch 160/200\n",
      "87/87 [==============================] - 74s 800ms/step - loss: 0.0019 - accuracy: 0.9993 - val_loss: 2.2648 - val_accuracy: 0.9123\n",
      "Epoch 161/200\n",
      "87/87 [==============================] - 73s 783ms/step - loss: 0.0018 - accuracy: 0.9993 - val_loss: 2.2863 - val_accuracy: 0.9123\n",
      "Epoch 162/200\n",
      "87/87 [==============================] - 69s 750ms/step - loss: 0.0019 - accuracy: 0.9993 - val_loss: 2.2908 - val_accuracy: 0.9130\n",
      "Epoch 163/200\n",
      "87/87 [==============================] - 71s 768ms/step - loss: 0.0018 - accuracy: 0.9993 - val_loss: 2.3182 - val_accuracy: 0.9144\n",
      "Epoch 164/200\n",
      "87/87 [==============================] - 75s 815ms/step - loss: 0.0018 - accuracy: 0.9993 - val_loss: 2.3336 - val_accuracy: 0.9150\n",
      "Epoch 165/200\n",
      "87/87 [==============================] - 69s 750ms/step - loss: 0.0019 - accuracy: 0.9993 - val_loss: 2.3427 - val_accuracy: 0.9137\n",
      "Epoch 166/200\n",
      "87/87 [==============================] - 75s 820ms/step - loss: 0.0019 - accuracy: 0.9993 - val_loss: 2.3463 - val_accuracy: 0.9144\n",
      "Epoch 167/200\n",
      "87/87 [==============================] - 69s 748ms/step - loss: 0.0019 - accuracy: 0.9993 - val_loss: 2.3779 - val_accuracy: 0.9157\n",
      "Epoch 168/200\n",
      "87/87 [==============================] - 69s 747ms/step - loss: 0.0018 - accuracy: 0.9993 - val_loss: 2.3850 - val_accuracy: 0.9150\n",
      "Epoch 169/200\n",
      "87/87 [==============================] - 70s 759ms/step - loss: 0.0021 - accuracy: 0.9993 - val_loss: 2.3843 - val_accuracy: 0.9150\n",
      "Epoch 170/200\n",
      "87/87 [==============================] - 68s 738ms/step - loss: 0.0021 - accuracy: 0.9993 - val_loss: 2.4409 - val_accuracy: 0.9171\n",
      "Epoch 171/200\n",
      "87/87 [==============================] - 70s 755ms/step - loss: 0.0031 - accuracy: 0.9989 - val_loss: 2.2609 - val_accuracy: 0.9130\n",
      "Epoch 172/200\n",
      "87/87 [==============================] - 71s 777ms/step - loss: 0.0041 - accuracy: 0.9985 - val_loss: 2.0895 - val_accuracy: 0.9090\n",
      "Epoch 173/200\n",
      "87/87 [==============================] - 72s 780ms/step - loss: 0.0030 - accuracy: 0.9985 - val_loss: 2.1864 - val_accuracy: 0.9123\n",
      "Epoch 174/200\n",
      "87/87 [==============================] - 68s 736ms/step - loss: 0.0032 - accuracy: 0.9985 - val_loss: 2.2095 - val_accuracy: 0.9117\n",
      "Epoch 175/200\n",
      "87/87 [==============================] - 73s 800ms/step - loss: 0.0032 - accuracy: 0.9985 - val_loss: 2.2303 - val_accuracy: 0.9144\n",
      "Epoch 176/200\n",
      "87/87 [==============================] - 70s 758ms/step - loss: 0.0032 - accuracy: 0.9985 - val_loss: 2.2599 - val_accuracy: 0.9137\n",
      "Epoch 177/200\n",
      "87/87 [==============================] - 70s 760ms/step - loss: 0.0032 - accuracy: 0.9985 - val_loss: 2.3926 - val_accuracy: 0.9157\n",
      "Epoch 178/200\n",
      "87/87 [==============================] - 69s 746ms/step - loss: 0.0058 - accuracy: 0.9985 - val_loss: 2.0259 - val_accuracy: 0.9083\n",
      "Epoch 179/200\n",
      "87/87 [==============================] - 71s 779ms/step - loss: 0.0019 - accuracy: 0.9993 - val_loss: 2.0468 - val_accuracy: 0.9090\n",
      "Epoch 180/200\n",
      "87/87 [==============================] - 72s 781ms/step - loss: 0.0020 - accuracy: 0.9993 - val_loss: 2.1069 - val_accuracy: 0.9069\n",
      "Epoch 181/200\n",
      "87/87 [==============================] - 70s 758ms/step - loss: 0.0020 - accuracy: 0.9993 - val_loss: 2.2235 - val_accuracy: 0.9103\n",
      "Epoch 182/200\n",
      "87/87 [==============================] - 71s 779ms/step - loss: 0.0020 - accuracy: 0.9993 - val_loss: 2.2596 - val_accuracy: 0.9103\n",
      "Epoch 183/200\n",
      "87/87 [==============================] - 72s 789ms/step - loss: 0.0019 - accuracy: 0.9993 - val_loss: 2.2694 - val_accuracy: 0.9110\n",
      "Epoch 184/200\n",
      "87/87 [==============================] - 73s 785ms/step - loss: 0.0019 - accuracy: 0.9993 - val_loss: 2.2770 - val_accuracy: 0.9137\n",
      "Epoch 185/200\n",
      "87/87 [==============================] - 73s 801ms/step - loss: 0.0019 - accuracy: 0.9989 - val_loss: 2.3200 - val_accuracy: 0.9123\n",
      "Epoch 186/200\n",
      "87/87 [==============================] - 75s 816ms/step - loss: 0.0018 - accuracy: 0.9993 - val_loss: 2.3535 - val_accuracy: 0.9123\n",
      "Epoch 187/200\n",
      "87/87 [==============================] - 75s 821ms/step - loss: 0.0018 - accuracy: 0.9993 - val_loss: 2.4233 - val_accuracy: 0.9150\n",
      "Epoch 188/200\n",
      "87/87 [==============================] - 75s 815ms/step - loss: 0.2169 - accuracy: 0.9750 - val_loss: 2.0905 - val_accuracy: 0.8813\n",
      "Epoch 189/200\n",
      "87/87 [==============================] - 72s 780ms/step - loss: 0.1979 - accuracy: 0.9677 - val_loss: 2.9968 - val_accuracy: 0.8732\n",
      "Epoch 190/200\n",
      "87/87 [==============================] - 71s 765ms/step - loss: 0.1034 - accuracy: 0.9742 - val_loss: 2.6855 - val_accuracy: 0.8901\n",
      "Epoch 191/200\n",
      "87/87 [==============================] - 70s 760ms/step - loss: 0.0353 - accuracy: 0.9927 - val_loss: 2.7478 - val_accuracy: 0.9022\n",
      "Epoch 192/200\n",
      "87/87 [==============================] - 75s 813ms/step - loss: 0.0099 - accuracy: 0.9971 - val_loss: 2.6395 - val_accuracy: 0.9063\n",
      "Epoch 193/200\n",
      "87/87 [==============================] - 72s 791ms/step - loss: 0.0045 - accuracy: 0.9982 - val_loss: 2.8559 - val_accuracy: 0.9083\n",
      "Epoch 194/200\n",
      "87/87 [==============================] - 80s 875ms/step - loss: 0.0052 - accuracy: 0.9978 - val_loss: 2.8335 - val_accuracy: 0.9090\n",
      "Epoch 195/200\n",
      "87/87 [==============================] - 72s 785ms/step - loss: 0.0024 - accuracy: 0.9993 - val_loss: 2.8975 - val_accuracy: 0.9110\n",
      "Epoch 196/200\n",
      "87/87 [==============================] - 77s 828ms/step - loss: 0.0025 - accuracy: 0.9993 - val_loss: 2.9404 - val_accuracy: 0.9137\n",
      "Epoch 197/200\n",
      "87/87 [==============================] - 73s 791ms/step - loss: 0.0023 - accuracy: 0.9993 - val_loss: 2.9837 - val_accuracy: 0.9150\n",
      "Epoch 198/200\n",
      "87/87 [==============================] - 73s 800ms/step - loss: 0.0022 - accuracy: 0.9993 - val_loss: 3.0249 - val_accuracy: 0.9164\n",
      "Epoch 199/200\n",
      "87/87 [==============================] - 69s 744ms/step - loss: 0.0021 - accuracy: 0.9993 - val_loss: 3.0627 - val_accuracy: 0.9164\n",
      "Epoch 200/200\n",
      "87/87 [==============================] - 70s 767ms/step - loss: 0.0020 - accuracy: 0.9993 - val_loss: 3.0989 - val_accuracy: 0.9164\n"
     ]
    }
   ],
   "source": [
    "# this has to run using dgx\n",
    "history = model_cnn.fit(train_data, epochs=200, validation_data=val_data)"
   ]
  },
  {
   "cell_type": "code",
   "execution_count": 48,
   "metadata": {
    "id": "_FFZ9nEdFcHL"
   },
   "outputs": [
    {
     "name": "stdout",
     "output_type": "stream",
     "text": [
      "Evaluating the model...\n",
      "Training loss for cnn: 0.0018668484408408403\n",
      "Training accuracy for cnn: 0.9992740750312805\n",
      "--------------------------------x------------------------------------------\n",
      "Evaluating the model...\n",
      "val loss for cnn: 3.0988547801971436\n",
      "val accuracy for cnn: 0.9163857102394104\n"
     ]
    }
   ],
   "source": [
    "# Evaluate the model on the training data\n",
    "print(\"Evaluating the model...\")\n",
    "train_loss, train_accuracy = model_cnn.evaluate(train_data, verbose=0)\n",
    "print(f\"Training loss for cnn: {train_loss}\")\n",
    "print(f\"Training accuracy for cnn: {train_accuracy}\")\n",
    "print('--------------------------------x------------------------------------------')\n",
    "# Evaluate the model on the validation data\n",
    "print(\"Evaluating the model...\")\n",
    "Val_loss, val_acc = model_cnn.evaluate(val_data, verbose=0)\n",
    "print(f\"val loss for cnn: {Val_loss}\")\n",
    "print(f\"val accuracy for cnn: {val_acc}\")"
   ]
  },
  {
   "cell_type": "code",
   "execution_count": 49,
   "metadata": {
    "id": "LBYrmyozFcJz"
   },
   "outputs": [
    {
     "name": "stdout",
     "output_type": "stream",
     "text": [
      "87/87 [==============================] - 37s 373ms/step\n"
     ]
    }
   ],
   "source": [
    "# Get the true labels and predicted probabilities for the training data\n",
    "true_labels = np.concatenate([y for x, y in train_data], axis=0)\n",
    "predicted_probs = model_cnn.predict(train_data)\n",
    "# Convert probabilities to class labels\n",
    "predicted_labels = np.argmax(predicted_probs, axis=1)"
   ]
  },
  {
   "cell_type": "code",
   "execution_count": 50,
   "metadata": {
    "id": "EQwII0cAFcN1"
   },
   "outputs": [
    {
     "name": "stdout",
     "output_type": "stream",
     "text": [
      "Classification report:\n",
      "              precision    recall  f1-score   support\n",
      "\n",
      "           0       0.83      0.83      0.83      2295\n",
      "           1       0.14      0.14      0.14       460\n",
      "\n",
      "    accuracy                           0.71      2755\n",
      "   macro avg       0.48      0.48      0.48      2755\n",
      "weighted avg       0.71      0.71      0.71      2755\n",
      "\n"
     ]
    }
   ],
   "source": [
    "# Print classification report\n",
    "print(\"Classification report:\")\n",
    "print(classification_report(np.argmax(true_labels, axis=1), predicted_labels))"
   ]
  },
  {
   "cell_type": "code",
   "execution_count": 51,
   "metadata": {
    "id": "gmz5nCsSFcQf"
   },
   "outputs": [
    {
     "name": "stdout",
     "output_type": "stream",
     "text": [
      "47/47 [==============================] - 20s 341ms/step\n"
     ]
    }
   ],
   "source": [
    "y_pred = model_cnn.predict(val_data)\n",
    "y_true = np.concatenate([y for x, y in val_data], axis=0)"
   ]
  },
  {
   "cell_type": "code",
   "execution_count": 52,
   "metadata": {
    "id": "1oWBeLgEHMlv"
   },
   "outputs": [
    {
     "name": "stdout",
     "output_type": "stream",
     "text": [
      "{0: array([0.        , 0.        , 0.58661417, 0.5984252 , 0.5984252 ,\n",
      "       0.5984252 , 0.60629921, 0.60629921, 0.60629921, 0.61417323,\n",
      "       0.61811024, 0.61811024, 0.61811024, 0.61811024, 0.62204724,\n",
      "       0.62204724, 0.62204724, 0.62598425, 0.62598425, 0.62992126,\n",
      "       0.62992126, 0.62992126, 0.63779528, 0.63779528, 0.64173228,\n",
      "       0.64173228, 0.64173228, 0.64566929, 0.65354331, 0.65354331,\n",
      "       0.66141732, 0.66141732, 0.66535433, 0.66535433, 0.67322835,\n",
      "       0.67322835, 0.67716535, 0.67716535, 0.68110236, 0.68110236,\n",
      "       0.68110236, 0.68110236, 0.68110236, 0.68503937, 0.68503937,\n",
      "       0.68503937, 0.68503937, 0.68897638, 0.68897638, 0.68897638,\n",
      "       0.69291339, 0.69291339, 0.69291339, 0.69291339, 0.69291339,\n",
      "       0.69685039, 0.69685039, 0.69685039, 0.69685039, 0.69685039,\n",
      "       0.7007874 , 0.7007874 , 0.7007874 , 0.70472441, 0.70472441,\n",
      "       0.70866142, 0.70866142, 0.70866142, 0.70866142, 0.71259843,\n",
      "       0.71259843, 0.71259843, 0.71259843, 0.71653543, 0.72047244,\n",
      "       0.72047244, 0.72047244, 0.72047244, 0.72440945, 0.72440945,\n",
      "       0.72440945, 0.72834646, 0.72834646, 0.73228346, 0.73228346,\n",
      "       0.73228346, 0.73228346, 0.73228346, 0.73622047, 0.74015748,\n",
      "       0.74015748, 0.7480315 , 0.7480315 , 0.7480315 , 0.7519685 ,\n",
      "       0.7519685 , 0.7519685 , 0.7519685 , 0.75590551, 0.75590551,\n",
      "       0.75590551, 0.75984252, 0.75984252, 0.75984252, 0.76377953,\n",
      "       0.76377953, 0.76377953, 0.76771654, 0.77559055, 0.77952756,\n",
      "       0.77952756, 0.77952756, 0.77952756, 0.77952756, 0.77952756,\n",
      "       0.78346457, 0.78346457, 0.78740157, 0.78740157, 0.79527559,\n",
      "       0.79527559, 0.79527559, 0.7992126 , 0.7992126 , 0.7992126 ,\n",
      "       0.7992126 , 0.80314961, 0.80708661, 0.80708661, 0.80708661,\n",
      "       0.81102362, 0.81102362, 0.81496063, 0.81496063, 0.81889764,\n",
      "       0.81889764, 0.82283465, 0.82283465, 0.82677165, 0.82677165,\n",
      "       0.83070866, 0.83858268, 0.84645669, 0.84645669, 0.84645669,\n",
      "       0.84645669, 0.8503937 , 0.8503937 , 0.85826772, 0.85826772,\n",
      "       0.85826772, 0.86220472, 0.86220472, 0.86220472, 0.86614173,\n",
      "       0.86614173, 0.86614173, 0.87007874, 0.87401575, 0.87795276,\n",
      "       0.87795276, 0.88582677, 0.88582677, 0.88582677, 0.88582677,\n",
      "       0.88582677, 0.89370079, 0.89370079, 0.8976378 , 0.8976378 ,\n",
      "       0.8976378 , 0.8976378 , 0.8976378 , 0.90551181, 0.90551181,\n",
      "       0.90944882, 0.90944882, 0.91338583, 0.91338583, 0.91732283,\n",
      "       0.91732283, 0.92125984, 0.92125984, 0.92519685, 0.92519685,\n",
      "       0.92519685, 0.92913386, 0.92913386, 0.92913386, 0.92913386,\n",
      "       0.93700787, 0.93700787, 0.9488189 , 0.9488189 , 0.9488189 ,\n",
      "       0.9488189 , 0.95275591, 0.95275591, 0.95669291, 0.95669291,\n",
      "       0.96062992, 0.96062992, 0.96850394, 0.96850394, 0.97244094,\n",
      "       0.97244094, 0.97637795, 0.97637795, 0.98031496, 0.98031496,\n",
      "       0.98425197, 0.98425197, 0.98818898, 0.98818898, 0.99212598,\n",
      "       1.        ]), 1: array([0.        , 0.05695688, 0.06183889, 0.0642799 , 0.0642799 ,\n",
      "       0.06509357, 0.06834825, 0.06997559, 0.0724166 , 0.0724166 ,\n",
      "       0.07567128, 0.07567128, 0.07729862, 0.07892596, 0.0805533 ,\n",
      "       0.08380797, 0.08706265, 0.09438568, 0.09601302, 0.09601302,\n",
      "       0.09845403, 0.0992677 , 0.10089504, 0.10252238, 0.10577705,\n",
      "       0.10659072, 0.11635476, 0.11635476, 0.11716843, 0.12042311,\n",
      "       0.12042311, 0.12123678, 0.12449146, 0.1261188 , 0.1261188 ,\n",
      "       0.12774614, 0.12937347, 0.12937347, 0.13018714, 0.13181448,\n",
      "       0.13344182, 0.13506916, 0.13588283, 0.13751017, 0.13913751,\n",
      "       0.13995118, 0.14157852, 0.14157852, 0.14239219, 0.14320586,\n",
      "       0.14320586, 0.1448332 , 0.1448332 , 0.14808788, 0.14808788,\n",
      "       0.15052889, 0.15052889, 0.15378356, 0.15378356, 0.15703824,\n",
      "       0.15785191, 0.15785191, 0.15866558, 0.15947925, 0.16110659,\n",
      "       0.16517494, 0.16680228, 0.16842962, 0.16924329, 0.16924329,\n",
      "       0.17005696, 0.17005696, 0.17087063, 0.17249797, 0.17249797,\n",
      "       0.17493897, 0.17493897, 0.17656631, 0.17900732, 0.18063466,\n",
      "       0.182262  , 0.18307567, 0.18388934, 0.18388934, 0.18388934,\n",
      "       0.18551668, 0.18633035, 0.18633035, 0.18795769, 0.18958503,\n",
      "       0.18958503, 0.19121237, 0.19283971, 0.19446705, 0.19446705,\n",
      "       0.19528072, 0.19853539, 0.20016273, 0.2009764 , 0.20179007,\n",
      "       0.20341741, 0.20341741, 0.20423108, 0.20423108, 0.20504475,\n",
      "       0.20667209, 0.20829943, 0.2091131 , 0.21074044, 0.21074044,\n",
      "       0.21236778, 0.21236778, 0.21318145, 0.21480879, 0.21480879,\n",
      "       0.21643613, 0.21806347, 0.22050448, 0.22050448, 0.22131814,\n",
      "       0.22294548, 0.22457282, 0.22620016, 0.22620016, 0.22945484,\n",
      "       0.23108218, 0.23433686, 0.23433686, 0.23515053, 0.23677787,\n",
      "       0.23759154, 0.24003255, 0.24165989, 0.24247356, 0.24328723,\n",
      "       0.24491456, 0.24816924, 0.25223759, 0.25223759, 0.25305126,\n",
      "       0.2546786 , 0.2546786 , 0.25630594, 0.25793328, 0.26037429,\n",
      "       0.26037429, 0.2628153 , 0.26606998, 0.26851098, 0.27013832,\n",
      "       0.27176566, 0.27257933, 0.27420667, 0.27420667, 0.27583401,\n",
      "       0.27664768, 0.27746135, 0.27908869, 0.27908869, 0.27990236,\n",
      "       0.28071603, 0.28397071, 0.28397071, 0.28559805, 0.28559805,\n",
      "       0.28722539, 0.28722539, 0.28885273, 0.29048007, 0.29373474,\n",
      "       0.29373474, 0.29536208, 0.29536208, 0.29698942, 0.29861676,\n",
      "       0.29943043, 0.3002441 , 0.30105777, 0.30268511, 0.30431245,\n",
      "       0.30593979, 0.30675346, 0.30675346, 0.3083808 , 0.31000814,\n",
      "       0.31163548, 0.31326282, 0.31651749, 0.31733116, 0.3189585 ,\n",
      "       0.31977217, 0.31977217, 0.32058584, 0.32139951, 0.32302685,\n",
      "       0.32465419, 0.33197722, 0.33197722, 0.33279089, 0.33360456,\n",
      "       0.33848657, 0.34011391, 0.34255492, 0.3458096 , 0.34662327,\n",
      "       0.34825061, 0.35069162, 0.35069162, 0.35313263, 0.35313263,\n",
      "       0.35475997, 0.35638731, 0.35964199, 0.36126932, 0.364524  ,\n",
      "       0.36615134, 0.36859235, 0.36859235, 0.36940602, 0.37103336,\n",
      "       0.37184703, 0.37591538, 0.37754272, 0.37998373, 0.38161107,\n",
      "       0.38242474, 0.38242474, 0.38486574, 0.38486574, 0.38567941,\n",
      "       0.38649308, 0.38649308, 0.39381611, 0.39462978, 0.39462978,\n",
      "       0.39544345, 0.40032547, 0.40032547, 0.40113914, 0.40195281,\n",
      "       0.40439382, 0.40520749, 0.40683483, 0.40764849, 0.40927583,\n",
      "       0.41171684, 0.41334418, 0.41659886, 0.4182262 , 0.41985354,\n",
      "       0.41985354, 0.42148088, 0.42310822, 0.42473556, 0.4263629 ,\n",
      "       0.42880391, 0.42880391, 0.43043124, 0.43205858, 0.43205858,\n",
      "       0.43449959, 0.43449959, 0.43612693, 0.43612693, 0.43938161,\n",
      "       0.44100895, 0.44100895, 0.4450773 , 0.44670464, 0.44833198,\n",
      "       0.44833198, 0.44914565, 0.44995932, 0.45158666, 0.45240033,\n",
      "       0.45402766, 0.45890968, 0.46053702, 0.46460537, 0.46460537,\n",
      "       0.46948739, 0.47111473, 0.4719284 , 0.47274207, 0.47274207,\n",
      "       0.47436941, 0.47436941, 0.48087876, 0.48087876, 0.48087876,\n",
      "       0.48169243, 0.48331977, 0.48413344, 0.48576078, 0.48820179,\n",
      "       0.48982913, 0.49308381, 0.49389748, 0.49471115, 0.49471115,\n",
      "       0.49552482, 0.49715216, 0.4987795 , 0.50040683, 0.50284784,\n",
      "       0.50366151, 0.50772986, 0.50772986, 0.5093572 , 0.5093572 ,\n",
      "       0.51017087, 0.51017087, 0.51098454, 0.51261188, 0.51423922,\n",
      "       0.51423922, 0.51505289, 0.51505289, 0.51668023, 0.51668023,\n",
      "       0.53132628, 0.53213995, 0.53458096, 0.53458096, 0.53702197,\n",
      "       0.53702197, 0.53864931, 0.54515867, 0.54515867, 0.54759967,\n",
      "       0.54759967, 0.54841334, 0.54841334, 0.55573637, 0.55573637,\n",
      "       0.55899105, 0.56061839, 0.56468674, 0.56550041, 0.56956876,\n",
      "       0.56956876, 0.57038242, 0.57119609, 0.57526444, 0.57526444,\n",
      "       0.57689178, 0.57851912, 0.58014646, 0.5817738 , 0.58340114,\n",
      "       0.58502848, 0.58584215, 0.58584215, 0.58746949, 0.59316517,\n",
      "       0.59316517, 0.59479251, 0.59479251, 0.59641985, 0.59641985,\n",
      "       0.59804719, 0.60130187, 0.60211554, 0.60211554, 0.60374288,\n",
      "       0.60455655, 0.60699756, 0.60699756, 0.6086249 , 0.61025224,\n",
      "       0.61350692, 0.62082994, 0.62245728, 0.62489829, 0.62652563,\n",
      "       0.6273393 , 0.6273393 , 0.62978031, 0.62978031, 0.63140765,\n",
      "       0.63222132, 0.63466233, 0.63466233, 0.63628967, 0.63628967,\n",
      "       0.64035801, 0.64198535, 0.64361269, 0.64361269, 0.64442636,\n",
      "       0.64524003, 0.64686737, 0.64768104, 0.64930838, 0.65012205,\n",
      "       0.65093572, 0.65174939, 0.65174939, 0.6541904 , 0.65581774,\n",
      "       0.65744508, 0.65907242, 0.6623271 , 0.6647681 , 0.6647681 ,\n",
      "       0.66558177, 0.66883645, 0.67534581, 0.67534581, 0.67697315,\n",
      "       0.67941416, 0.68022783, 0.68185517, 0.68348251, 0.68510985,\n",
      "       0.68755085, 0.68755085, 0.68999186, 0.6916192 , 0.6916192 ,\n",
      "       0.69243287, 0.69406021, 0.69487388, 0.69650122, 0.69894223,\n",
      "       0.6997559 , 0.70138324, 0.70219691, 0.70626526, 0.7078926 ,\n",
      "       0.70951993, 0.71277461, 0.71358828, 0.71440195, 0.71765663,\n",
      "       0.71765663, 0.72009764, 0.72009764, 0.72335232, 0.72335232,\n",
      "       0.72497966, 0.72579333, 0.72904801, 0.73067535, 0.73393002,\n",
      "       0.7371847 , 0.73881204, 0.73962571, 0.74288039, 0.74369406,\n",
      "       0.7453214 , 0.74857608, 0.74857608, 0.74938975, 0.75101709,\n",
      "       0.75264443, 0.75264443, 0.75427177, 0.76078112, 0.76322213,\n",
      "       0.7640358 , 0.7640358 , 0.76566314, 0.76647681, 0.76891782,\n",
      "       0.77054516, 0.77135883, 0.77298617, 0.77298617, 0.77786819,\n",
      "       0.77868186, 0.77949552, 0.77949552, 0.7827502 , 0.78437754,\n",
      "       0.78519121, 0.78681855, 0.79007323, 0.79170057, 0.79170057,\n",
      "       0.79332791, 0.79658259, 0.80065094, 0.80227828, 0.80309194,\n",
      "       0.80390561, 0.80471928, 0.80716029, 0.80716029, 0.81041497,\n",
      "       0.81041497, 0.81122864, 0.81366965, 0.81366965, 0.81936534,\n",
      "       0.82099268, 0.82099268, 0.82180635, 0.82180635, 0.82343369,\n",
      "       0.82343369, 0.82506103, 0.82994304, 0.83157038, 0.83238405,\n",
      "       0.83238405, 0.8364524 , 0.83726607, 0.83970708, 0.84133442,\n",
      "       0.84133442, 0.84540277, 0.84621644, 0.84621644, 0.84947111,\n",
      "       0.85109845, 0.85272579, 0.85272579, 0.86086249, 0.86086249,\n",
      "       0.86411717, 0.86574451, 0.87062653, 0.87225386, 0.87306753,\n",
      "       0.8738812 , 0.87713588, 0.87876322, 0.8820179 , 0.88364524,\n",
      "       0.88445891, 0.88445891, 0.89340928, 0.89340928, 0.89666395,\n",
      "       1.        ])}\n",
      "{0: array([0.        , 0.00244101, 0.63140765, 0.65174939, 0.65825875,\n",
      "       0.66558177, 0.67046379, 0.67453214, 0.67778682, 0.6810415 ,\n",
      "       0.68510985, 0.68673718, 0.6916192 , 0.69243287, 0.69406021,\n",
      "       0.69568755, 0.69894223, 0.6997559 , 0.70056957, 0.70219691,\n",
      "       0.70301058, 0.70463792, 0.70463792, 0.70626526, 0.70870627,\n",
      "       0.71114727, 0.71277461, 0.71358828, 0.71440195, 0.71521562,\n",
      "       0.71684296, 0.71928397, 0.72009764, 0.72091131, 0.72416599,\n",
      "       0.72579333, 0.72579333, 0.72742067, 0.72986168, 0.73311635,\n",
      "       0.73555736, 0.7371847 , 0.73962571, 0.73962571, 0.74206672,\n",
      "       0.74369406, 0.7453214 , 0.7453214 , 0.74694874, 0.74776241,\n",
      "       0.74776241, 0.75101709, 0.7534581 , 0.75508544, 0.75671277,\n",
      "       0.75752644, 0.75834011, 0.75996745, 0.76078112, 0.76240846,\n",
      "       0.76322213, 0.76484947, 0.76566314, 0.76566314, 0.76891782,\n",
      "       0.77054516, 0.77135883, 0.77298617, 0.77379984, 0.77379984,\n",
      "       0.77542718, 0.77705452, 0.77868186, 0.77949552, 0.77949552,\n",
      "       0.78193653, 0.78356387, 0.78519121, 0.78519121, 0.78681855,\n",
      "       0.78763222, 0.78763222, 0.78925956, 0.78925956, 0.7908869 ,\n",
      "       0.79170057, 0.79332791, 0.79495525, 0.79576892, 0.79576892,\n",
      "       0.79658259, 0.79658259, 0.79820993, 0.7990236 , 0.79983727,\n",
      "       0.80146461, 0.80471928, 0.80553295, 0.80553295, 0.80716029,\n",
      "       0.81041497, 0.81041497, 0.81204231, 0.81366965, 0.81366965,\n",
      "       0.81448332, 0.81611066, 0.81611066, 0.81611066, 0.81692433,\n",
      "       0.817738  , 0.81936534, 0.82099268, 0.82343369, 0.82506103,\n",
      "       0.82506103, 0.82750203, 0.82750203, 0.82912937, 0.83075671,\n",
      "       0.83157038, 0.83319772, 0.83482506, 0.83889341, 0.84052075,\n",
      "       0.84133442, 0.84214809, 0.84214809, 0.84296176, 0.84621644,\n",
      "       0.84621644, 0.84947111, 0.84947111, 0.85191212, 0.85191212,\n",
      "       0.8551668 , 0.8551668 , 0.85679414, 0.85679414, 0.85760781,\n",
      "       0.85842148, 0.85842148, 0.86004882, 0.86086249, 0.86248983,\n",
      "       0.86411717, 0.86493084, 0.86655818, 0.86818552, 0.86981286,\n",
      "       0.87062653, 0.87062653, 0.87225386, 0.8738812 , 0.8738812 ,\n",
      "       0.87550854, 0.87876322, 0.87957689, 0.87957689, 0.88283157,\n",
      "       0.88364524, 0.88364524, 0.89340928, 0.89422295, 0.89747762,\n",
      "       0.9007323 , 0.90154597, 0.90398698, 0.90398698, 0.90561432,\n",
      "       0.91456469, 0.91619203, 0.9194467 , 0.92107404, 0.92432872,\n",
      "       0.92432872, 0.9275834 , 0.9275834 , 0.9357201 , 0.9357201 ,\n",
      "       0.93816111, 0.93816111, 0.94385679, 0.94385679, 0.94467046,\n",
      "       0.9462978 , 0.9462978 , 0.94711147, 0.94873881, 0.95036615,\n",
      "       0.95036615, 0.95117982, 0.95117982, 0.95362083, 0.95687551,\n",
      "       0.96175753, 0.9625712 , 0.96501221, 0.96501221, 0.97152156,\n",
      "       0.97152156, 0.97396257, 0.97396257, 0.97721725, 0.97721725,\n",
      "       0.97884459, 0.97884459, 0.98047193, 0.98047193, 0.98860862,\n",
      "       0.98942229, 0.99104963, 0.99104963, 0.99267697, 0.99267697,\n",
      "       1.        ]), 1: array([0.        , 0.07874016, 0.07874016, 0.08267717, 0.08661417,\n",
      "       0.08661417, 0.08661417, 0.08661417, 0.08661417, 0.09055118,\n",
      "       0.09055118, 0.09448819, 0.09448819, 0.09448819, 0.1023622 ,\n",
      "       0.1023622 , 0.1023622 , 0.1023622 , 0.1023622 , 0.10629921,\n",
      "       0.10629921, 0.11417323, 0.11417323, 0.11417323, 0.11417323,\n",
      "       0.11417323, 0.11417323, 0.12204724, 0.12204724, 0.12598425,\n",
      "       0.12992126, 0.13385827, 0.13385827, 0.13385827, 0.13779528,\n",
      "       0.13779528, 0.13779528, 0.14173228, 0.14173228, 0.14173228,\n",
      "       0.1496063 , 0.1496063 , 0.15354331, 0.15354331, 0.15354331,\n",
      "       0.15354331, 0.16141732, 0.16929134, 0.17322835, 0.17322835,\n",
      "       0.17716535, 0.17716535, 0.18110236, 0.18110236, 0.18503937,\n",
      "       0.18503937, 0.18897638, 0.18897638, 0.19291339, 0.19291339,\n",
      "       0.19291339, 0.19685039, 0.2007874 , 0.2007874 , 0.2007874 ,\n",
      "       0.2007874 , 0.20472441, 0.20472441, 0.20472441, 0.20866142,\n",
      "       0.20866142, 0.21259843, 0.21259843, 0.21259843, 0.21653543,\n",
      "       0.21653543, 0.22047244, 0.22047244, 0.22047244, 0.22047244,\n",
      "       0.22047244, 0.22047244, 0.22440945, 0.23228346, 0.23622047,\n",
      "       0.23622047, 0.23622047, 0.24015748, 0.24015748, 0.24015748,\n",
      "       0.24409449, 0.24409449, 0.24409449, 0.24409449, 0.2480315 ,\n",
      "       0.2480315 , 0.2480315 , 0.2480315 , 0.2519685 , 0.2519685 ,\n",
      "       0.2519685 , 0.25984252, 0.25984252, 0.26377953, 0.26771654,\n",
      "       0.26771654, 0.26771654, 0.26771654, 0.26771654, 0.27165354,\n",
      "       0.27165354, 0.27559055, 0.27559055, 0.27559055, 0.27952756,\n",
      "       0.27952756, 0.27952756, 0.27952756, 0.28346457, 0.28740157,\n",
      "       0.28740157, 0.28740157, 0.28740157, 0.29133858, 0.29133858,\n",
      "       0.29527559, 0.29527559, 0.2992126 , 0.2992126 , 0.2992126 ,\n",
      "       0.30314961, 0.30314961, 0.30314961, 0.30314961, 0.30708661,\n",
      "       0.30708661, 0.30708661, 0.30708661, 0.31102362, 0.31102362,\n",
      "       0.31102362, 0.31496063, 0.31496063, 0.31496063, 0.31496063,\n",
      "       0.31889764, 0.31889764, 0.31889764, 0.31889764, 0.31889764,\n",
      "       0.31889764, 0.32283465, 0.32283465, 0.32677165, 0.32677165,\n",
      "       0.33070866, 0.33070866, 0.33070866, 0.33464567, 0.33464567,\n",
      "       0.33858268, 0.33858268, 0.34645669, 0.34645669, 0.35433071,\n",
      "       0.35433071, 0.35826772, 0.35826772, 0.35826772, 0.35826772,\n",
      "       0.36220472, 0.36220472, 0.37007874, 0.37007874, 0.37007874,\n",
      "       0.37401575, 0.37401575, 0.37795276, 0.37795276, 0.37795276,\n",
      "       0.37795276, 0.37795276, 0.38188976, 0.38188976, 0.38188976,\n",
      "       0.38188976, 0.38188976, 0.38188976, 0.38582677, 0.38582677,\n",
      "       0.38582677, 0.38976378, 0.38976378, 0.39370079, 0.39370079,\n",
      "       0.39370079, 0.39370079, 0.3976378 , 0.3976378 , 0.4015748 ,\n",
      "       0.4015748 , 0.4015748 , 0.4015748 , 0.4015748 , 0.4015748 ,\n",
      "       0.4015748 , 0.4015748 , 0.40551181, 0.40551181, 0.40944882,\n",
      "       0.40944882, 0.40944882, 0.40944882, 0.40944882, 0.40944882,\n",
      "       0.40944882, 0.40944882, 0.41338583, 0.41338583, 0.41338583,\n",
      "       0.41732283, 0.41732283, 0.41732283, 0.41732283, 0.41732283,\n",
      "       0.41732283, 0.42125984, 0.42125984, 0.42519685, 0.42913386,\n",
      "       0.42913386, 0.43307087, 0.43307087, 0.43700787, 0.44094488,\n",
      "       0.44094488, 0.44094488, 0.44488189, 0.44488189, 0.4488189 ,\n",
      "       0.4488189 , 0.4488189 , 0.4488189 , 0.4488189 , 0.4488189 ,\n",
      "       0.4488189 , 0.4488189 , 0.4488189 , 0.4488189 , 0.4488189 ,\n",
      "       0.45669291, 0.45669291, 0.45669291, 0.45669291, 0.45669291,\n",
      "       0.45669291, 0.46062992, 0.46062992, 0.46062992, 0.46456693,\n",
      "       0.46456693, 0.47244094, 0.47244094, 0.48031496, 0.48031496,\n",
      "       0.48031496, 0.48425197, 0.48425197, 0.48425197, 0.48425197,\n",
      "       0.48818898, 0.49212598, 0.49212598, 0.49212598, 0.49212598,\n",
      "       0.49212598, 0.49212598, 0.49212598, 0.49212598, 0.49606299,\n",
      "       0.49606299, 0.49606299, 0.5       , 0.5       , 0.50787402,\n",
      "       0.50787402, 0.51181102, 0.51181102, 0.51968504, 0.52362205,\n",
      "       0.52362205, 0.52362205, 0.52362205, 0.52362205, 0.52362205,\n",
      "       0.52362205, 0.52362205, 0.52755906, 0.52755906, 0.53149606,\n",
      "       0.53149606, 0.53149606, 0.53149606, 0.53149606, 0.53149606,\n",
      "       0.53543307, 0.53543307, 0.53937008, 0.53937008, 0.54330709,\n",
      "       0.54330709, 0.54724409, 0.54724409, 0.54724409, 0.54724409,\n",
      "       0.55511811, 0.55511811, 0.55905512, 0.55905512, 0.56299213,\n",
      "       0.56299213, 0.56692913, 0.56692913, 0.57086614, 0.57086614,\n",
      "       0.57480315, 0.57480315, 0.57480315, 0.57874016, 0.57874016,\n",
      "       0.58267717, 0.58267717, 0.58661417, 0.58661417, 0.59055118,\n",
      "       0.59055118, 0.59055118, 0.59055118, 0.59448819, 0.59448819,\n",
      "       0.5984252 , 0.5984252 , 0.6023622 , 0.6023622 , 0.60629921,\n",
      "       0.60629921, 0.60629921, 0.60629921, 0.60629921, 0.60629921,\n",
      "       0.60629921, 0.60629921, 0.61417323, 0.61417323, 0.61417323,\n",
      "       0.61811024, 0.61811024, 0.62598425, 0.62598425, 0.63385827,\n",
      "       0.63385827, 0.63385827, 0.63779528, 0.64173228, 0.64173228,\n",
      "       0.64566929, 0.64566929, 0.65354331, 0.65748031, 0.65748031,\n",
      "       0.65748031, 0.65748031, 0.65748031, 0.65748031, 0.65748031,\n",
      "       0.65748031, 0.66141732, 0.66141732, 0.66535433, 0.66535433,\n",
      "       0.66929134, 0.66929134, 0.67322835, 0.67322835, 0.67716535,\n",
      "       0.67716535, 0.67716535, 0.67716535, 0.68110236, 0.68503937,\n",
      "       0.68503937, 0.68503937, 0.68503937, 0.68503937, 0.68503937,\n",
      "       0.68897638, 0.68897638, 0.69291339, 0.69291339, 0.69291339,\n",
      "       0.69291339, 0.69291339, 0.69291339, 0.69291339, 0.69685039,\n",
      "       0.69685039, 0.69685039, 0.69685039, 0.70472441, 0.70472441,\n",
      "       0.71653543, 0.71653543, 0.72440945, 0.72440945, 0.72440945,\n",
      "       0.72440945, 0.73228346, 0.73228346, 0.73228346, 0.73622047,\n",
      "       0.73622047, 0.73622047, 0.73622047, 0.73622047, 0.73622047,\n",
      "       0.74015748, 0.74015748, 0.74409449, 0.74409449, 0.74409449,\n",
      "       0.74409449, 0.74409449, 0.74409449, 0.7480315 , 0.7480315 ,\n",
      "       0.7519685 , 0.7519685 , 0.75984252, 0.75984252, 0.76377953,\n",
      "       0.76377953, 0.76377953, 0.76377953, 0.76377953, 0.76377953,\n",
      "       0.76377953, 0.76377953, 0.76771654, 0.76771654, 0.77165354,\n",
      "       0.77165354, 0.77165354, 0.77952756, 0.78346457, 0.78346457,\n",
      "       0.78346457, 0.78740157, 0.78740157, 0.78740157, 0.78740157,\n",
      "       0.78740157, 0.79133858, 0.79133858, 0.79527559, 0.79527559,\n",
      "       0.79527559, 0.79527559, 0.79527559, 0.7992126 , 0.7992126 ,\n",
      "       0.80314961, 0.80314961, 0.80708661, 0.80708661, 0.80708661,\n",
      "       0.80708661, 0.80708661, 0.80708661, 0.80708661, 0.81102362,\n",
      "       0.81102362, 0.81102362, 0.81102362, 0.81102362, 0.81496063,\n",
      "       0.81496063, 0.81889764, 0.81889764, 0.82283465, 0.82283465,\n",
      "       0.83070866, 0.83464567, 0.83464567, 0.83858268, 0.83858268,\n",
      "       0.83858268, 0.84251969, 0.84645669, 0.8503937 , 0.8503937 ,\n",
      "       0.85433071, 0.85433071, 0.85433071, 0.85826772, 0.85826772,\n",
      "       0.86220472, 0.86220472, 0.86614173, 0.86614173, 0.86614173,\n",
      "       0.87007874, 0.87007874, 0.87401575, 0.87795276, 0.87795276,\n",
      "       0.87795276, 0.87795276, 0.88188976, 0.88188976, 0.88976378,\n",
      "       0.88976378, 0.88976378, 0.88976378, 0.88976378, 0.88976378,\n",
      "       0.89370079, 0.89370079, 0.89370079, 0.89370079, 0.89370079,\n",
      "       0.89370079, 0.8976378 , 0.8976378 , 0.9015748 , 0.9015748 ,\n",
      "       1.        ])}\n",
      "{0: 0.5290870882799537, 1: 0.5311532966434526}\n"
     ]
    }
   ],
   "source": [
    "# Compute ROC curve and ROC area for each class\n",
    "fpr = dict()\n",
    "tpr = dict()\n",
    "roc_auc = dict()\n",
    "for i in range(num_classes):\n",
    "    fpr[i], tpr[i], _ = roc_curve(y_true[:, i], y_pred[:, i])\n",
    "    roc_auc[i] = auc(fpr[i], tpr[i])\n",
    "print(fpr)\n",
    "print(tpr)\n",
    "print(roc_auc)"
   ]
  },
  {
   "cell_type": "code",
   "execution_count": 59,
   "metadata": {
    "id": "L9G1ag93FcWO"
   },
   "outputs": [
    {
     "name": "stdout",
     "output_type": "stream",
     "text": [
      "Requirement already satisfied: matplotlib in /dgxa_home/se20ucam045/.local/lib/python3.8/site-packages (3.7.5)\n",
      "Requirement already satisfied: numpy<2,>=1.20 in /dgxa_home/se20ucam045/.local/lib/python3.8/site-packages (from matplotlib) (1.24.3)\n",
      "Requirement already satisfied: importlib-resources>=3.2.0; python_version < \"3.10\" in /dgxa_home/se20ucam045/.local/lib/python3.8/site-packages (from matplotlib) (6.4.0)\n",
      "Requirement already satisfied: packaging>=20.0 in /dgxa_home/se20ucam045/.local/lib/python3.8/site-packages (from matplotlib) (24.0)\n",
      "Requirement already satisfied: fonttools>=4.22.0 in /dgxa_home/se20ucam045/.local/lib/python3.8/site-packages (from matplotlib) (4.51.0)\n",
      "Requirement already satisfied: cycler>=0.10 in /dgxa_home/se20ucam045/.local/lib/python3.8/site-packages (from matplotlib) (0.12.1)\n",
      "Requirement already satisfied: kiwisolver>=1.0.1 in /dgxa_home/se20ucam045/.local/lib/python3.8/site-packages (from matplotlib) (1.4.5)\n",
      "Requirement already satisfied: pyparsing>=2.3.1 in /dgxa_home/se20ucam045/.local/lib/python3.8/site-packages (from matplotlib) (3.1.2)\n",
      "Requirement already satisfied: contourpy>=1.0.1 in /dgxa_home/se20ucam045/.local/lib/python3.8/site-packages (from matplotlib) (1.1.1)\n",
      "Requirement already satisfied: pillow>=6.2.0 in /dgxa_home/se20ucam045/.local/lib/python3.8/site-packages (from matplotlib) (10.3.0)\n",
      "Requirement already satisfied: python-dateutil>=2.7 in /dgxa_home/se20ucam045/.local/lib/python3.8/site-packages (from matplotlib) (2.9.0.post0)\n",
      "Requirement already satisfied: zipp>=3.1.0; python_version < \"3.10\" in /dgxa_home/se20ucam045/.local/lib/python3.8/site-packages (from importlib-resources>=3.2.0; python_version < \"3.10\"->matplotlib) (3.18.2)\n",
      "Requirement already satisfied: six>=1.5 in /usr/lib/python3/dist-packages (from python-dateutil>=2.7->matplotlib) (1.14.0)\n"
     ]
    }
   ],
   "source": [
    "!pip install matplotlib\n",
    "import matplotlib.pyplot as plt"
   ]
  },
  {
   "cell_type": "code",
   "execution_count": 60,
   "metadata": {
    "id": "uhmSi06KHMpJ"
   },
   "outputs": [
    {
     "data": {
      "image/png": "[encoded data removed]",
      "text/plain": [
       "<Figure size 800x600 with 1 Axes>"
      ]
     },
     "metadata": {},
     "output_type": "display_data"
    }
   ],
   "source": [
    "# Plot ROC curve\n",
    "plt.figure(figsize=(8, 6))\n",
    "for i in range(num_classes):\n",
    "    plt.plot(fpr[i], tpr[i], lw=2, label='ROC curve (area = %0.2f) for class %d' % (roc_auc[i], i))\n",
    "plt.plot([0, 1], [0, 1], color='navy', lw=2, linestyle='--')\n",
    "plt.xlim([0.0, 1.0])\n",
    "plt.ylim([0.0, 1.05])\n",
    "plt.xlabel('False Positive Rate')\n",
    "plt.ylabel('True Positive Rate')\n",
    "plt.title('Receiver Operating Characteristic (ROC) Curve')\n",
    "plt.legend(loc=\"lower right\")\n",
    "plt.show()"
   ]
  },
  {
   "cell_type": "code",
   "execution_count": 61,
   "metadata": {
    "id": "bjA8O7t2fHx-"
   },
   "outputs": [],
   "source": [
    "#---------------ResNet-----------------------------"
   ]
  },
  {
   "cell_type": "code",
   "execution_count": 13,
   "metadata": {
    "id": "L8oxWbnCfH0E"
   },
   "outputs": [],
   "source": [
    "import os\n",
    "import zipfile\n",
    "import shutil\n",
    "import numpy as np\n",
    "import tensorflow as tf\n",
    "from tensorflow.keras.layers import Dense, GlobalAveragePooling2D, Dropout\n",
    "from tensorflow.keras.preprocessing.image import ImageDataGenerator\n",
    "from sklearn.model_selection import train_test_split\n",
    "from tensorflow.keras.callbacks import EarlyStopping\n",
    "from tensorflow.keras.applications import ResNet50\n",
    "from tensorflow.keras.models import Model\n",
    "import matplotlib.pyplot as plt"
   ]
  },
  {
   "cell_type": "code",
   "execution_count": 14,
   "metadata": {
    "colab": {
     "base_uri": "https://localhost:8080/"
    },
    "id": "KhMB3G7QfH2q",
    "outputId": "c6971d99-32a1-43c1-d789-a4a8b12c5c17"
   },
   "outputs": [],
   "source": [
    "# Load pre-trained ResNet50 model without top layers\n",
    "base_model = ResNet50(weights='imagenet', include_top=False, input_shape=(image_size[0], image_size[1], 3))"
   ]
  },
  {
   "cell_type": "code",
   "execution_count": 15,
   "metadata": {
    "id": "XluwdSxkfH48"
   },
   "outputs": [],
   "source": [
    "# Add custom classification layers on top of ResNet50\n",
    "x = base_model.output\n",
    "x = GlobalAveragePooling2D()(x)\n",
    "x = Dense(64, activation='relu')(x)\n",
    "x = Dropout(0.5)(x)  # Dropout for regularization\n",
    "predictions = Dense(num_classes, activation='softmax')(x)"
   ]
  },
  {
   "cell_type": "code",
   "execution_count": 16,
   "metadata": {
    "id": "n-uQ4InJfSg4"
   },
   "outputs": [],
   "source": [
    "# Model to be trained\n",
    "model_resnet = Model(inputs=base_model.input, outputs=predictions)"
   ]
  },
  {
   "cell_type": "code",
   "execution_count": 17,
   "metadata": {
    "id": "a_1_2H9xfVka"
   },
   "outputs": [],
   "source": [
    "# Freeze the pre-trained layers\n",
    "for layer in base_model.layers:\n",
    "    layer.trainable = False"
   ]
  },
  {
   "cell_type": "code",
   "execution_count": 18,
   "metadata": {
    "id": "f2F0wWXufXAM"
   },
   "outputs": [],
   "source": [
    "model_resnet.compile(optimizer='adam', loss='categorical_crossentropy', metrics=['accuracy'])"
   ]
  },
  {
   "cell_type": "code",
   "execution_count": null,
   "metadata": {
    "colab": {
     "base_uri": "https://localhost:8080/"
    },
    "id": "uWcKdRBbfYZ1",
    "outputId": "de377729-2d6c-4fc2-eab6-4007ca300b9c"
   },
   "outputs": [
    {
     "name": "stdout",
     "output_type": "stream",
     "text": [
      "Epoch 1/100\n",
      "87/87 [==============================] - 187s 2s/step - loss: 0.5113 - accuracy: 0.8169 - val_loss: 0.4145 - val_accuracy: 0.8268\n",
      "Epoch 2/100\n",
      "87/87 [==============================] - 183s 2s/step - loss: 0.4326 - accuracy: 0.8256 - val_loss: 0.3966 - val_accuracy: 0.8309\n",
      "Epoch 3/100\n",
      "87/87 [==============================] - 185s 2s/step - loss: 0.3991 - accuracy: 0.8350 - val_loss: 0.3857 - val_accuracy: 0.8396\n",
      "Epoch 4/100\n",
      "87/87 [==============================] - 185s 2s/step - loss: 0.3707 - accuracy: 0.8463 - val_loss: 0.3761 - val_accuracy: 0.8389\n",
      "Epoch 5/100\n",
      "87/87 [==============================] - 192s 2s/step - loss: 0.3518 - accuracy: 0.8426 - val_loss: 0.3571 - val_accuracy: 0.8430\n",
      "Epoch 6/100\n",
      "87/87 [==============================] - 174s 2s/step - loss: 0.3385 - accuracy: 0.8470 - val_loss: 0.3721 - val_accuracy: 0.8464\n",
      "Epoch 7/100\n",
      "87/87 [==============================] - 181s 2s/step - loss: 0.3230 - accuracy: 0.8510 - val_loss: 0.3509 - val_accuracy: 0.8423\n",
      "Epoch 8/100\n",
      "87/87 [==============================] - 190s 2s/step - loss: 0.3122 - accuracy: 0.8553 - val_loss: 0.3444 - val_accuracy: 0.8544\n",
      "Epoch 9/100\n",
      "87/87 [==============================] - 188s 2s/step - loss: 0.2816 - accuracy: 0.8615 - val_loss: 0.3341 - val_accuracy: 0.8625\n",
      "Epoch 10/100\n",
      "87/87 [==============================] - 186s 2s/step - loss: 0.2870 - accuracy: 0.8629 - val_loss: 0.3379 - val_accuracy: 0.8585\n",
      "Epoch 11/100\n",
      "87/87 [==============================] - 184s 2s/step - loss: 0.2757 - accuracy: 0.8597 - val_loss: 0.3270 - val_accuracy: 0.8639\n",
      "Epoch 12/100\n",
      "87/87 [==============================] - 204s 2s/step - loss: 0.2624 - accuracy: 0.8687 - val_loss: 0.3338 - val_accuracy: 0.8612\n",
      "Epoch 13/100\n",
      " 9/87 [==>...........................] - ETA: 1:56 - loss: 0.2792 - accuracy: 0.8576"
     ]
    }
   ],
   "source": [
    "#Train the model---------------------------------------------------------------\n",
    "history = model_resnet.fit(train_data, epochs=100, validation_data=val_data)"
   ]
  },
  {
   "cell_type": "code",
   "execution_count": null,
   "metadata": {
    "colab": {
     "base_uri": "https://localhost:8080/"
    },
    "id": "6r1x4dpAoTNO",
    "outputId": "a8e186ca-4fca-49ed-c7fb-f5a0b26007a7"
   },
   "outputs": [
    {
     "name": "stdout",
     "output_type": "stream",
     "text": [
      "Evaluating the model...\n",
      "Training loss: 0.18877696990966797\n",
      "Training accuracy: 0.9059438109397888\n",
      "Evaluating the model...\n",
      "val loss: 0.5478980541229248\n",
      "val accuracy: 0.8213852047920227\n"
     ]
    }
   ],
   "source": [
    "# Evaluate the model on the training data\n",
    "print(\"Evaluating the model...\")\n",
    "train_loss, train_accuracy = model_resnet.evaluate(train_data, verbose=0)\n",
    "print(f\"Training loss for resnet: {train_loss}\")\n",
    "print(f\"Training accuracy for resnet: {train_accuracy}\")\n",
    "\n",
    "# Evaluate the model on the validation data\n",
    "print(\"Evaluating the model...\")\n",
    "Val_loss, val_acc = model_resnet.evaluate(val_data, verbose=0)\n",
    "print(f\"val loss for resnet: {Val_loss}\")\n",
    "print(f\"val accuracy for resnet: {val_acc}\")"
   ]
  },
  {
   "cell_type": "code",
   "execution_count": null,
   "metadata": {
    "colab": {
     "base_uri": "https://localhost:8080/"
    },
    "id": "4ePZIO4roxxx",
    "outputId": "eb4fe302-db24-45ef-fed7-e26a6693e116"
   },
   "outputs": [
    {
     "name": "stdout",
     "output_type": "stream",
     "text": [
      "26/26 [==============================] - 38s 912ms/step\n"
     ]
    }
   ],
   "source": [
    "y_pred = model_resnet.predict(val_data)\n",
    "y_true = np.concatenate([y for x, y in val_data], axis=0)"
   ]
  },
  {
   "cell_type": "code",
   "execution_count": null,
   "metadata": {
    "colab": {
     "base_uri": "https://localhost:8080/"
    },
    "id": "ALw9KBi_oywF",
    "outputId": "9ff75da9-e983-4dd6-86d6-311e51948f92"
   },
   "outputs": [
    {
     "name": "stdout",
     "output_type": "stream",
     "text": [
      "{0: 0.48757292652160206, 1: 0.4875778539892779}\n"
     ]
    }
   ],
   "source": [
    "# Compute ROC curve and ROC area for each class\n",
    "fpr = dict()\n",
    "tpr = dict()\n",
    "roc_auc = dict()\n",
    "for i in range(num_classes):\n",
    "    fpr[i], tpr[i], _ = roc_curve(y_true[:, i], y_pred[:, i])\n",
    "    roc_auc[i] = auc(fpr[i], tpr[i])\n",
    "    print(fpr[i])\n",
    "    print(tpr[i])\n",
    "print(roc_auc)"
   ]
  },
  {
   "cell_type": "code",
   "execution_count": null,
   "metadata": {
    "colab": {
     "base_uri": "https://localhost:8080/",
     "height": 519
    },
    "id": "m-ZpidlrpOam",
    "outputId": "4e2d62ee-6491-41e6-90a9-8ad4bba605e0"
   },
   "outputs": [
    {
     "data": {
      "image/png": "[encoded data removed]",
      "text/plain": [
       "<Figure size 800x600 with 1 Axes>"
      ]
     },
     "metadata": {},
     "output_type": "display_data"
    }
   ],
   "source": [
    "# Plot ROC curve\n",
    "plt.figure(figsize=(8, 6))\n",
    "for i in range(num_classes):\n",
    "    plt.plot(fpr[i], tpr[i], lw=2, label='ROC curve (area = %0.2f) for class %d' % (roc_auc[i], i))\n",
    "plt.plot([0, 1], [0, 1], color='navy', lw=2, linestyle='--')\n",
    "plt.xlim([0.0, 1.0])\n",
    "plt.ylim([0.0, 1.05])\n",
    "plt.xlabel('False Positive Rate')\n",
    "plt.ylabel('True Positive Rate')\n",
    "plt.title('Receiver Operating Characteristic (ROC) Curve')\n",
    "plt.legend(loc=\"lower right\")\n",
    "plt.show()"
   ]
  },
  {
   "cell_type": "code",
   "execution_count": null,
   "metadata": {
    "id": "LmLaAgKupQ91"
   },
   "outputs": [],
   "source": []
  },
  {
   "cell_type": "code",
   "execution_count": null,
   "metadata": {
    "id": "F_4g1MKsGXPW"
   },
   "outputs": [],
   "source": [
    "#----------------resnet+Cnn----------------------------------------#"
   ]
  },
  {
   "cell_type": "code",
   "execution_count": null,
   "metadata": {
    "id": "iXsobfhVGXwG"
   },
   "outputs": [],
   "source": [
    "import os\n",
    "import zipfile\n",
    "import shutil\n",
    "import numpy as np\n",
    "import tensorflow as tf\n",
    "from tensorflow.keras.layers import Dense, GlobalAveragePooling2D, Dropout, Conv2D, MaxPooling2D, Flatten\n",
    "from tensorflow.keras.preprocessing.image import ImageDataGenerator\n",
    "from sklearn.model_selection import train_test_split\n",
    "from tensorflow.keras.callbacks import EarlyStopping\n",
    "from tensorflow.keras.applications import ResNet50\n",
    "from tensorflow.keras.models import Model"
   ]
  },
  {
   "cell_type": "code",
   "execution_count": null,
   "metadata": {
    "id": "Hw_Ai108GaPG"
   },
   "outputs": [],
   "source": [
    "# Load pre-trained ResNet50 model without top layers\n",
    "base_model = ResNet50(weights='imagenet', include_top=False, input_shape=(image_size[0], image_size[1], 3))\n",
    "\n",
    "# Add custom CNN layers on top of ResNet50\n",
    "x = base_model.output\n",
    "x = GlobalAveragePooling2D()(x)\n",
    "x = Dense(256, activation='relu')(x)\n",
    "x = Dropout(0.5)(x)  # Dropout for regularization\n",
    "x = Dense(128, activation='relu')(x)\n",
    "x = Dropout(0.5)(x)  # Dropout for regularization\n",
    "x = Dense(64, activation='relu')(x)\n",
    "x = Dropout(0.5)(x)  # Dropout for regularization\n",
    "predictions = Dense(num_classes, activation='softmax')(x)"
   ]
  },
  {
   "cell_type": "code",
   "execution_count": null,
   "metadata": {
    "id": "Ccjn_d__GaT-"
   },
   "outputs": [],
   "source": [
    "# Model to be trained\n",
    "model_resnet_cnn = Model(inputs=base_model.input, outputs=predictions)"
   ]
  },
  {
   "cell_type": "code",
   "execution_count": null,
   "metadata": {
    "id": "htI0JXllGaWR"
   },
   "outputs": [],
   "source": [
    "# Freeze the pre-trained layers\n",
    "for layer in base_model.layers:\n",
    "    layer.trainable = False"
   ]
  },
  {
   "cell_type": "code",
   "execution_count": null,
   "metadata": {
    "id": "np9Ti0uvGaYu"
   },
   "outputs": [],
   "source": [
    "# Compile the model\n",
    "model_resnet_cnn.compile(optimizer='adam', loss='categorical_crossentropy', metrics=['accuracy'])"
   ]
  },
  {
   "cell_type": "code",
   "execution_count": null,
   "metadata": {
    "id": "StmcS_4qGadm"
   },
   "outputs": [],
   "source": [
    "# Train the model using dgx------------------------------------------------\n",
    "history = model_resnet_cnn.fit(train_data, epochs=10, validation_data=val_data)"
   ]
  },
  {
   "cell_type": "code",
   "execution_count": null,
   "metadata": {
    "id": "I0Mkh7dmGagO"
   },
   "outputs": [],
   "source": [
    "# Evaluate the model on the training data\n",
    "print(\"Evaluating the model...\")\n",
    "train_loss, train_accuracy = model_resnet_cnn.evaluate(train_data, verbose=0)\n",
    "print(f\"Training loss for resnet+cnn: {train_loss}\")\n",
    "print(f\"Training accuracy for resnet+cnn: {train_accuracy}\")\n",
    "\n",
    "# Evaluate the model on the validation data\n",
    "print(\"Evaluating the model...\")\n",
    "Val_loss, val_acc = model_resnet_cnn.evaluate(val_data, verbose=0)\n",
    "print(f\"val loss for resnet+cnn: {Val_loss}\")\n",
    "print(f\"val accuracy for resnet+cnn: {val_acc}\")"
   ]
  },
  {
   "cell_type": "code",
   "execution_count": null,
   "metadata": {
    "id": "Y0fvLq_AGaif"
   },
   "outputs": [],
   "source": [
    "y_pred = model_resnet_cnn.predict(val_data)\n",
    "y_true = np.concatenate([y for x, y in val_data], axis=0)"
   ]
  },
  {
   "cell_type": "code",
   "execution_count": null,
   "metadata": {
    "id": "N2yFHlERGak3"
   },
   "outputs": [],
   "source": [
    "# Compute ROC curve and ROC area for each class\n",
    "fpr = dict()\n",
    "tpr = dict()\n",
    "roc_auc = dict()\n",
    "for i in range(num_classes):\n",
    "    fpr[i], tpr[i], _ = roc_curve(y_true[:, i], y_pred[:, i])\n",
    "    roc_auc[i] = auc(fpr[i], tpr[i])\n",
    "    print(fpr[i])\n",
    "    print(tpr[i])\n",
    "print(roc_auc)"
   ]
  },
  {
   "cell_type": "code",
   "execution_count": null,
   "metadata": {
    "id": "ceSqzMeyGan_"
   },
   "outputs": [],
   "source": [
    "# Plot ROC curve\n",
    "plt.figure(figsize=(8, 6))\n",
    "for i in range(num_classes):\n",
    "    plt.plot(fpr[i], tpr[i], lw=2, label='ROC curve (area = %0.2f) for class %d' % (roc_auc[i], i))\n",
    "plt.plot([0, 1], [0, 1], color='navy', lw=2, linestyle='--')\n",
    "plt.xlim([0.0, 1.0])\n",
    "plt.ylim([0.0, 1.05])\n",
    "plt.xlabel('False Positive Rate')\n",
    "plt.ylabel('True Positive Rate')\n",
    "plt.title('Receiver Operating Characteristic (ROC) Curve')\n",
    "plt.legend(loc=\"lower right\")\n",
    "plt.show()"
   ]
  },
  {
   "cell_type": "code",
   "execution_count": null,
   "metadata": {
    "id": "61JNPhH9Gaq3"
   },
   "outputs": [],
   "source": []
  },
  {
   "cell_type": "code",
   "execution_count": null,
   "metadata": {
    "id": "pVfIUMHRIh4T"
   },
   "outputs": [],
   "source": [
    "#------------------------------vgg----------------------------------"
   ]
  },
  {
   "cell_type": "code",
   "execution_count": null,
   "metadata": {
    "id": "HuMn-wI4Ih7x"
   },
   "outputs": [],
   "source": [
    "import os\n",
    "import zipfile\n",
    "import shutil\n",
    "import numpy as np\n",
    "import tensorflow as tf\n",
    "from tensorflow.keras.layers import Dense, GlobalAveragePooling2D, Dropout\n",
    "from tensorflow.keras.preprocessing.image import ImageDataGenerator\n",
    "from sklearn.model_selection import train_test_split\n",
    "from tensorflow.keras.callbacks import EarlyStopping, ReduceLROnPlateau\n",
    "from tensorflow.keras.applications import VGG16"
   ]
  },
  {
   "cell_type": "code",
   "execution_count": null,
   "metadata": {
    "colab": {
     "base_uri": "https://localhost:8080/"
    },
    "id": "uJZfWuyIIkX0",
    "outputId": "fc77262c-e3e4-4424-d485-18b2b21ec7aa"
   },
   "outputs": [
    {
     "name": "stdout",
     "output_type": "stream",
     "text": [
      "Downloading data from https://storage.googleapis.com/tensorflow/keras-applications/vgg16/vgg16_weights_tf_dim_ordering_tf_kernels_notop.h5\n",
      "\u001b[1m58889256/58889256\u001b[0m \u001b[32m━━━━━━━━━━━━━━━━━━━━\u001b[0m\u001b[37m\u001b[0m \u001b[1m0s\u001b[0m 0us/step\n"
     ]
    }
   ],
   "source": [
    "# Load pre-trained VGG16 model without top layers\n",
    "base_model = VGG16(weights='imagenet', include_top=False, input_shape=(image_size[0], image_size[1], 3))"
   ]
  },
  {
   "cell_type": "code",
   "execution_count": null,
   "metadata": {
    "id": "Lipcdy37IkaY"
   },
   "outputs": [],
   "source": [
    "# Add custom classification layers on top of VGG16\n",
    "x = base_model.output\n",
    "x = GlobalAveragePooling2D()(x)\n",
    "x = Dense(256, activation='relu')(x)\n",
    "x = Dropout(0.5)(x)  # Dropout for regularization\n",
    "predictions = Dense(num_classes, activation='softmax')(x)"
   ]
  },
  {
   "cell_type": "code",
   "execution_count": null,
   "metadata": {
    "id": "uSm6u5w0IkcN"
   },
   "outputs": [],
   "source": [
    "#Model to be trained\n",
    "model_vgg = tf.keras.Model(inputs=base_model.input, outputs=predictions)"
   ]
  },
  {
   "cell_type": "code",
   "execution_count": null,
   "metadata": {
    "id": "rnfE6Mn1IkeF"
   },
   "outputs": [],
   "source": [
    "# Freeze the pre-trained layers\n",
    "for layer in base_model.layers:\n",
    "    layer.trainable = False"
   ]
  },
  {
   "cell_type": "code",
   "execution_count": null,
   "metadata": {
    "id": "hXdCsbztIkgL"
   },
   "outputs": [],
   "source": [
    "# Compile the model\n",
    "model_vgg.compile(optimizer='adam', loss='categorical_crossentropy', metrics=['accuracy'])"
   ]
  },
  {
   "cell_type": "code",
   "execution_count": null,
   "metadata": {
    "id": "WNEZouQkIkkw"
   },
   "outputs": [],
   "source": [
    "# train with dgx----------------------------------------------------------------\n",
    "history = model_vgg.fit(train_data, epochs=10, validation_data=val_data)"
   ]
  },
  {
   "cell_type": "code",
   "execution_count": null,
   "metadata": {
    "id": "09OxyiewIkqo"
   },
   "outputs": [],
   "source": [
    "# Evaluate the model on the training data\n",
    "print(\"Evaluating the model...\")\n",
    "train_loss, train_accuracy = model_vgg.evaluate(train_data, verbose=0)\n",
    "print(f\"Training loss for vgg: {train_loss}\")\n",
    "print(f\"Training accuracy for vgg: {train_accuracy}\")\n",
    "\n",
    "# Evaluate the model on the validation data\n",
    "print(\"Evaluating the model...\")\n",
    "Val_loss, val_acc = model_vgg.evaluate(val_data, verbose=0)\n",
    "print(f\"val loss for vgg: {Val_loss}\")\n",
    "print(f\"val accuracy for vgg: {val_acc}\")"
   ]
  },
  {
   "cell_type": "code",
   "execution_count": null,
   "metadata": {
    "id": "UBSD1cuQIks6"
   },
   "outputs": [],
   "source": [
    "y_pred = model_vgg.predict(val_data)\n",
    "y_true = np.concatenate([y for x, y in val_data], axis=0)"
   ]
  },
  {
   "cell_type": "code",
   "execution_count": null,
   "metadata": {
    "id": "3-kKFfXvIkvP"
   },
   "outputs": [],
   "source": [
    "# Compute ROC curve and ROC area for each class\n",
    "fpr = dict()\n",
    "tpr = dict()\n",
    "roc_auc = dict()\n",
    "for i in range(num_classes):\n",
    "    fpr[i], tpr[i], _ = roc_curve(y_true[:, i], y_pred[:, i])\n",
    "    roc_auc[i] = auc(fpr[i], tpr[i])\n",
    "print(fpr)\n",
    "print(tpr)\n",
    "print(roc_auc)"
   ]
  },
  {
   "cell_type": "code",
   "execution_count": null,
   "metadata": {
    "id": "HYaTP6w0Ikxe"
   },
   "outputs": [],
   "source": [
    "# Plot ROC curve\n",
    "plt.figure(figsize=(8, 6))\n",
    "for i in range(num_classes):\n",
    "    plt.plot(fpr[i], tpr[i], lw=2, label='ROC curve (area = %0.4f) for class %d' % (roc_auc[i], i))\n",
    "plt.plot([0, 1], [0, 1], color='navy', lw=2, linestyle='--')\n",
    "plt.xlim([0.0, 1.0])\n",
    "plt.ylim([0.0, 1.05])\n",
    "plt.xlabel('False Positive Rate')\n",
    "plt.ylabel('True Positive Rate')\n",
    "plt.title('Receiver Operating Characteristic (ROC) Curve')\n",
    "plt.legend(loc=\"lower right\")\n",
    "plt.show()"
   ]
  },
  {
   "cell_type": "code",
   "execution_count": null,
   "metadata": {
    "id": "BernSOJ-Ik0Q"
   },
   "outputs": [],
   "source": []
  },
  {
   "cell_type": "code",
   "execution_count": null,
   "metadata": {
    "id": "j_wHp2n5Ik2V"
   },
   "outputs": [],
   "source": []
  },
  {
   "cell_type": "code",
   "execution_count": null,
   "metadata": {
    "id": "V4QHKJmDIk4_"
   },
   "outputs": [],
   "source": []
  },
  {
   "cell_type": "code",
   "execution_count": null,
   "metadata": {
    "id": "RsDl9MzIIk7U"
   },
   "outputs": [],
   "source": []
  },
  {
   "cell_type": "code",
   "execution_count": null,
   "metadata": {
    "id": "4Xte4zHMIk9o"
   },
   "outputs": [],
   "source": []
  },
  {
   "cell_type": "code",
   "execution_count": null,
   "metadata": {
    "id": "xm1CaLvDIlAd"
   },
   "outputs": [],
   "source": []
  },
  {
   "cell_type": "code",
   "execution_count": null,
   "metadata": {
    "id": "vDUI94ozIlC1"
   },
   "outputs": [],
   "source": []
  },
  {
   "cell_type": "code",
   "execution_count": null,
   "metadata": {
    "id": "pQpA0WgaIlFd"
   },
   "outputs": [],
   "source": []
  },
  {
   "cell_type": "code",
   "execution_count": null,
   "metadata": {
    "id": "PsUPLP8EIlIR"
   },
   "outputs": [],
   "source": []
  },
  {
   "cell_type": "code",
   "execution_count": null,
   "metadata": {
    "id": "rd23-rszIlK5"
   },
   "outputs": [],
   "source": []
  },
  {
   "cell_type": "code",
   "execution_count": null,
   "metadata": {
    "id": "dPJDwWCTIlON"
   },
   "outputs": [],
   "source": []
  }
 ],
 "metadata": {
  "accelerator": "GPU",
  "colab": {
   "gpuType": "T4",
   "provenance": []
  },
  "kernelspec": {
   "display_name": "Python 3 (ipykernel)",
   "language": "python",
   "name": "python3"
  },
  "language_info": {
   "codemirror_mode": {
    "name": "ipython",
    "version": 3
   },
   "file_extension": ".py",
   "mimetype": "text/x-python",
   "name": "python",
   "nbconvert_exporter": "python",
   "pygments_lexer": "ipython3",
   "version": "3.8.10"
  }
 },
 "nbformat": 4,
 "nbformat_minor": 4
}
