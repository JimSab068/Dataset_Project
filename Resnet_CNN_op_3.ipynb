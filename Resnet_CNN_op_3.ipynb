{
 "cells": [
  {
   "cell_type": "code",
   "execution_count": 5,
   "metadata": {
    "scrolled": true
   },
   "outputs": [
    {
     "name": "stdout",
     "output_type": "stream",
     "text": [
      "Keyring is skipped due to an exception: 'keyring.backends'\n",
      "Collecting tensorflow\n",
      "  Using cached tensorflow-2.11.0-cp37-cp37m-manylinux_2_17_x86_64.manylinux2014_x86_64.whl (588.3 MB)\n",
      "Requirement already satisfied: setuptools in ./anaconda3/lib/python3.7/site-packages (from tensorflow) (45.2.0.post20200210)\n",
      "Requirement already satisfied: typing-extensions>=3.6.6 in ./anaconda3/lib/python3.7/site-packages (from tensorflow) (4.7.1)\n",
      "Requirement already satisfied: tensorflow-io-gcs-filesystem>=0.23.1; platform_machine != \"arm64\" or platform_system != \"Darwin\" in ./anaconda3/lib/python3.7/site-packages (from tensorflow) (0.34.0)\n",
      "Requirement already satisfied: flatbuffers>=2.0 in ./anaconda3/lib/python3.7/site-packages (from tensorflow) (24.3.25)\n",
      "Collecting gast<=0.4.0,>=0.2.1\n",
      "  Using cached gast-0.4.0-py3-none-any.whl (9.8 kB)\n",
      "Collecting keras<2.12,>=2.11.0\n",
      "  Using cached keras-2.11.0-py2.py3-none-any.whl (1.7 MB)\n",
      "Requirement already satisfied: tensorflow-estimator<2.12,>=2.11.0 in ./anaconda3/lib/python3.7/site-packages (from tensorflow) (2.11.0)\n",
      "Requirement already satisfied: absl-py>=1.0.0 in ./anaconda3/lib/python3.7/site-packages (from tensorflow) (2.1.0)\n",
      "Collecting tensorboard<2.12,>=2.11\n",
      "  Using cached tensorboard-2.11.2-py3-none-any.whl (6.0 MB)\n",
      "Requirement already satisfied: grpcio<2.0,>=1.24.3 in ./anaconda3/lib/python3.7/site-packages (from tensorflow) (1.62.2)\n",
      "Requirement already satisfied: h5py>=2.9.0 in ./anaconda3/lib/python3.7/site-packages (from tensorflow) (2.10.0)\n",
      "Requirement already satisfied: astunparse>=1.6.0 in ./anaconda3/lib/python3.7/site-packages (from tensorflow) (1.6.3)\n",
      "Collecting libclang>=13.0.0\n",
      "  Using cached libclang-18.1.1-py2.py3-none-manylinux2010_x86_64.whl (24.5 MB)\n",
      "Requirement already satisfied: packaging in ./anaconda3/lib/python3.7/site-packages (from tensorflow) (20.1)\n",
      "Requirement already satisfied: protobuf<3.20,>=3.9.2 in ./anaconda3/lib/python3.7/site-packages (from tensorflow) (3.19.6)\n",
      "Collecting google-pasta>=0.1.1\n",
      "  Using cached google_pasta-0.2.0-py3-none-any.whl (57 kB)\n",
      "Collecting opt-einsum>=2.3.2\n",
      "  Using cached opt_einsum-3.3.0-py3-none-any.whl (65 kB)\n",
      "Collecting termcolor>=1.1.0\n",
      "  Using cached termcolor-2.3.0-py3-none-any.whl (6.9 kB)\n",
      "Requirement already satisfied: wrapt>=1.11.0 in ./anaconda3/lib/python3.7/site-packages (from tensorflow) (1.11.2)\n",
      "Requirement already satisfied: six>=1.12.0 in ./anaconda3/lib/python3.7/site-packages (from tensorflow) (1.14.0)\n",
      "Requirement already satisfied: numpy>=1.20 in ./anaconda3/lib/python3.7/site-packages (from tensorflow) (1.21.6)\n",
      "Requirement already satisfied: tensorboard-plugin-wit>=1.6.0 in ./anaconda3/lib/python3.7/site-packages (from tensorboard<2.12,>=2.11->tensorflow) (1.8.1)\n",
      "Requirement already satisfied: requests<3,>=2.21.0 in ./anaconda3/lib/python3.7/site-packages (from tensorboard<2.12,>=2.11->tensorflow) (2.22.0)\n",
      "Requirement already satisfied: wheel>=0.26 in ./anaconda3/lib/python3.7/site-packages (from tensorboard<2.12,>=2.11->tensorflow) (0.34.2)\n",
      "Collecting tensorboard-data-server<0.7.0,>=0.6.0\n",
      "  Using cached tensorboard_data_server-0.6.1-py3-none-manylinux2010_x86_64.whl (4.9 MB)\n",
      "Collecting werkzeug>=1.0.1\n",
      "  Using cached Werkzeug-2.2.3-py3-none-any.whl (233 kB)\n",
      "Requirement already satisfied: markdown>=2.6.8 in ./anaconda3/lib/python3.7/site-packages (from tensorboard<2.12,>=2.11->tensorflow) (3.4.4)\n",
      "Requirement already satisfied: google-auth<3,>=1.6.3 in ./anaconda3/lib/python3.7/site-packages (from tensorboard<2.12,>=2.11->tensorflow) (2.29.0)\n",
      "Requirement already satisfied: google-auth-oauthlib<0.5,>=0.4.1 in ./anaconda3/lib/python3.7/site-packages (from tensorboard<2.12,>=2.11->tensorflow) (0.4.6)\n",
      "Requirement already satisfied: pyparsing>=2.0.2 in ./anaconda3/lib/python3.7/site-packages (from packaging->tensorflow) (2.4.6)\n",
      "Requirement already satisfied: chardet<3.1.0,>=3.0.2 in ./anaconda3/lib/python3.7/site-packages (from requests<3,>=2.21.0->tensorboard<2.12,>=2.11->tensorflow) (3.0.4)\n",
      "Requirement already satisfied: urllib3!=1.25.0,!=1.25.1,<1.26,>=1.21.1 in ./anaconda3/lib/python3.7/site-packages (from requests<3,>=2.21.0->tensorboard<2.12,>=2.11->tensorflow) (1.25.8)\n",
      "Requirement already satisfied: idna<2.9,>=2.5 in ./anaconda3/lib/python3.7/site-packages (from requests<3,>=2.21.0->tensorboard<2.12,>=2.11->tensorflow) (2.8)\n",
      "Requirement already satisfied: certifi>=2017.4.17 in ./anaconda3/lib/python3.7/site-packages (from requests<3,>=2.21.0->tensorboard<2.12,>=2.11->tensorflow) (2019.11.28)\n",
      "Requirement already satisfied: MarkupSafe>=2.1.1 in ./anaconda3/lib/python3.7/site-packages (from werkzeug>=1.0.1->tensorboard<2.12,>=2.11->tensorflow) (2.1.5)\n",
      "Requirement already satisfied: importlib-metadata>=4.4; python_version < \"3.10\" in ./anaconda3/lib/python3.7/site-packages (from markdown>=2.6.8->tensorboard<2.12,>=2.11->tensorflow) (6.7.0)\n",
      "Requirement already satisfied: cachetools<6.0,>=2.0.0 in ./anaconda3/lib/python3.7/site-packages (from google-auth<3,>=1.6.3->tensorboard<2.12,>=2.11->tensorflow) (5.3.3)\n",
      "Requirement already satisfied: pyasn1-modules>=0.2.1 in ./anaconda3/lib/python3.7/site-packages (from google-auth<3,>=1.6.3->tensorboard<2.12,>=2.11->tensorflow) (0.3.0)\n",
      "Requirement already satisfied: rsa<5,>=3.1.4 in ./anaconda3/lib/python3.7/site-packages (from google-auth<3,>=1.6.3->tensorboard<2.12,>=2.11->tensorflow) (4.9)\n",
      "Requirement already satisfied: requests-oauthlib>=0.7.0 in ./anaconda3/lib/python3.7/site-packages (from google-auth-oauthlib<0.5,>=0.4.1->tensorboard<2.12,>=2.11->tensorflow) (2.0.0)\n",
      "Requirement already satisfied: zipp>=0.5 in ./anaconda3/lib/python3.7/site-packages (from importlib-metadata>=4.4; python_version < \"3.10\"->markdown>=2.6.8->tensorboard<2.12,>=2.11->tensorflow) (2.2.0)\n",
      "Requirement already satisfied: pyasn1<0.6.0,>=0.4.6 in ./anaconda3/lib/python3.7/site-packages (from pyasn1-modules>=0.2.1->google-auth<3,>=1.6.3->tensorboard<2.12,>=2.11->tensorflow) (0.5.1)\n",
      "Requirement already satisfied: oauthlib>=3.0.0 in ./anaconda3/lib/python3.7/site-packages (from requests-oauthlib>=0.7.0->google-auth-oauthlib<0.5,>=0.4.1->tensorboard<2.12,>=2.11->tensorflow) (3.2.2)\n",
      "Installing collected packages: gast, keras, tensorboard-data-server, werkzeug, tensorboard, libclang, google-pasta, opt-einsum, termcolor, tensorflow\n",
      "  Attempting uninstall: werkzeug\n",
      "    Found existing installation: Werkzeug 1.0.0\n",
      "    Uninstalling Werkzeug-1.0.0:\n",
      "      Successfully uninstalled Werkzeug-1.0.0\n",
      "Successfully installed gast-0.4.0 google-pasta-0.2.0 keras-2.11.0 libclang-18.1.1 opt-einsum-3.3.0 tensorboard-2.11.2 tensorboard-data-server-0.6.1 tensorflow-2.11.0 termcolor-2.3.0 werkzeug-2.2.3\n"
     ]
    }
   ],
   "source": [
    "!pip install tensorflow "
   ]
  },
  {
   "cell_type": "code",
   "execution_count": 6,
   "metadata": {
    "id": "VvH83U4JZ3_C"
   },
   "outputs": [],
   "source": [
    "\n",
    "import os\n",
    "import shutil\n",
    "import zipfile\n",
    "import tensorflow as tf"
   ]
  },
  {
   "cell_type": "code",
   "execution_count": 7,
   "metadata": {
    "id": "GSH7DrxJagr4"
   },
   "outputs": [],
   "source": [
    "# Function to rename files in a folder\n",
    "def rename_files(folder_path, label):\n",
    "    # List all files in the folder\n",
    "    files = os.listdir(folder_path)\n",
    "\n",
    "    # Filter to include only .gif files\n",
    "    gif_files = [f for f in files if f.endswith('.gif')]\n",
    "\n",
    "    # Rename each file\n",
    "    for index, filename in enumerate(gif_files):\n",
    "        # Construct new file name\n",
    "        new_name = f\"{label}_{index + 1}.gif\"\n",
    "\n",
    "        # Get full path for the old and new file names\n",
    "        old_file = os.path.join(folder_path, filename)\n",
    "        new_file = os.path.join(folder_path, new_name)\n",
    "\n",
    "        # Rename the file\n",
    "        os.rename(old_file, new_file)\n",
    "    print(f\"Renamed files in {folder_path} to {label}_#.gif\")"
   ]
  },
  {
   "cell_type": "code",
   "execution_count": 8,
   "metadata": {
    "id": "yPbh6Ma9agui"
   },
   "outputs": [],
   "source": [
    "# Extract the zip file\n",
    "zip_file_path = '/dgxa_home/se20ucse004/gif_data.zip'\n",
    "extracted_folder = 'gif_data_extracted.zip'\n",
    "with zipfile.ZipFile(zip_file_path, 'r') as zip_ref:\n",
    "    zip_ref.extractall(extracted_folder)"
   ]
  },
  {
   "cell_type": "code",
   "execution_count": 9,
   "metadata": {
    "id": "0DcgERREagxZ"
   },
   "outputs": [],
   "source": [
    "# Paths to the extracted folders\n",
    "sad_folder = os.path.join(extracted_folder, 'Sad_2')\n",
    "happy_folder = os.path.join(extracted_folder, 'Happy_3')"
   ]
  },
  {
   "cell_type": "code",
   "execution_count": 10,
   "metadata": {
    "id": "iiOTK8S6agzv"
   },
   "outputs": [
    {
     "name": "stdout",
     "output_type": "stream",
     "text": [
      "Renamed files in gif_data_extracted.zip/Sad_2 to sad_#.gif\n",
      "Renamed files in gif_data_extracted.zip/Happy_3 to happy_#.gif\n"
     ]
    }
   ],
   "source": [
    "# Rename the files in each folder\n",
    "rename_files(sad_folder, 'sad')\n",
    "rename_files(happy_folder, 'happy')"
   ]
  },
  {
   "cell_type": "code",
   "execution_count": 11,
   "metadata": {
    "id": "rwLLvQoBag2P"
   },
   "outputs": [],
   "source": [
    "# Load and preprocess data without data augmentation\n",
    "def load_data(data_dir, image_size, batch_size, validation_split=0.35):\n",
    "    # Load and preprocess training data with validation split\n",
    "    train_data = tf.keras.utils.image_dataset_from_directory(\n",
    "        data_dir,\n",
    "        labels='inferred',\n",
    "        label_mode='categorical',\n",
    "        color_mode='rgb',\n",
    "        batch_size=batch_size,\n",
    "        image_size=image_size,\n",
    "        validation_split=validation_split,\n",
    "        subset='training',\n",
    "        seed=123\n",
    "    )\n",
    "\n",
    "    # Load and preprocess validation data with validation split\n",
    "    val_data = tf.keras.utils.image_dataset_from_directory(\n",
    "        data_dir,\n",
    "        labels='inferred',\n",
    "        label_mode='categorical',\n",
    "        color_mode='rgb',\n",
    "        batch_size=batch_size,\n",
    "        image_size=image_size,\n",
    "        validation_split=validation_split,\n",
    "        subset='validation',\n",
    "        seed=123\n",
    "    )\n",
    "\n",
    "    return train_data, val_data"
   ]
  },
  {
   "cell_type": "code",
   "execution_count": 12,
   "metadata": {
    "id": "yilfXNoSag4y"
   },
   "outputs": [],
   "source": [
    "# Set parameters (gloabl for all algo)\n",
    "data_dir = '/dgxa_home/se20ucse004/gif_data_extracted.zip'\n",
    "image_size = (224, 224)\n",
    "batch_size = 32\n",
    "num_classes = 2"
   ]
  },
  {
   "cell_type": "code",
   "execution_count": 13,
   "metadata": {
    "id": "a0A0Nok-ag7c"
   },
   "outputs": [],
   "source": [
    "# Calculate class weights to handle class imbalance\n",
    "def calculate_class_weights(data_dir):\n",
    "    # Count the number of samples in each class\n",
    "    class_counts = {}\n",
    "    for class_name in os.listdir(data_dir):\n",
    "        class_path = os.path.join(data_dir, class_name)\n",
    "        class_counts[class_name] = len(os.listdir(class_path))\n",
    "\n",
    "\n",
    "    # Calculate class weights\n",
    "    total_samples = sum(class_counts.values())\n",
    "    class_weights = {}\n",
    "    for class_name, count in class_counts.items():\n",
    "        class_weights[class_name] = total_samples / (len(class_counts) * count)\n",
    "\n",
    "    return class_weights"
   ]
  },
  {
   "cell_type": "code",
   "execution_count": 14,
   "metadata": {
    "id": "xSv-Ou-IbDu1"
   },
   "outputs": [
    {
     "name": "stdout",
     "output_type": "stream",
     "text": [
      "Found 2354 files belonging to 2 classes.\n",
      "Using 1531 files for training.\n",
      "Found 2354 files belonging to 2 classes.\n",
      "Using 823 files for validation.\n"
     ]
    }
   ],
   "source": [
    "# Load the data (global for all algo)\n",
    "train_data, val_data = load_data(data_dir, image_size, batch_size)"
   ]
  },
  {
   "cell_type": "code",
   "execution_count": 15,
   "metadata": {
    "id": "X2KJAP9lbDxZ"
   },
   "outputs": [
    {
     "data": {
      "text/plain": [
       "{'Happy_3': 0.6023541453428863, 'Sad_2': 2.9425}"
      ]
     },
     "execution_count": 15,
     "metadata": {},
     "output_type": "execute_result"
    }
   ],
   "source": [
    "calculate_class_weights(data_dir)"
   ]
  },
  {
   "cell_type": "markdown",
   "metadata": {
    "id": "4X4a5xaSabVl"
   },
   "source": [
    "Resnet +CNN"
   ]
  },
  {
   "cell_type": "code",
   "execution_count": 28,
   "metadata": {
    "id": "6aMdcHXxafEe"
   },
   "outputs": [],
   "source": [
    "import os\n",
    "import zipfile\n",
    "import shutil\n",
    "import numpy as np\n",
    "import tensorflow as tf\n",
    "from tensorflow.keras.layers import Dense, GlobalAveragePooling2D, Dropout, Conv2D, MaxPooling2D, Flatten\n",
    "from tensorflow.keras.preprocessing.image import ImageDataGenerator\n",
    "from sklearn.model_selection import train_test_split\n",
    "from tensorflow.keras.callbacks import EarlyStopping\n",
    "from tensorflow.keras.applications import ResNet50\n",
    "from tensorflow.keras.models import Model\n",
    "from sklearn.metrics import roc_curve, auc"
   ]
  },
  {
   "cell_type": "code",
   "execution_count": null,
   "metadata": {},
   "outputs": [],
   "source": []
  },
  {
   "cell_type": "code",
   "execution_count": 17,
   "metadata": {
    "id": "7XUMoTzKbgMJ"
   },
   "outputs": [
    {
     "name": "stdout",
     "output_type": "stream",
     "text": [
      "Downloading data from https://storage.googleapis.com/tensorflow/keras-applications/resnet/resnet50_weights_tf_dim_ordering_tf_kernels_notop.h5\n",
      "94765736/94765736 [==============================] - 6s 0us/step\n"
     ]
    }
   ],
   "source": [
    "# Load pre-trained ResNet50 model without top layers\n",
    "base_model = ResNet50(weights='imagenet', include_top=False, input_shape=(image_size[0], image_size[1], 3))\n",
    "\n",
    "# Add custom CNN layers on top of ResNet50\n",
    "x = base_model.output\n",
    "x = GlobalAveragePooling2D()(x)\n",
    "x = Dense(256, activation='relu')(x)\n",
    "x = Dropout(0.5)(x)  # Dropout for regularization\n",
    "x = Dense(128, activation='relu')(x)\n",
    "x = Dropout(0.5)(x)  # Dropout for regularization\n",
    "x = Dense(64, activation='relu')(x)\n",
    "x = Dropout(0.5)(x)  # Dropout for regularization\n",
    "predictions = Dense(num_classes, activation='softmax')(x)"
   ]
  },
  {
   "cell_type": "code",
   "execution_count": 18,
   "metadata": {
    "id": "tV-m9e-LbgQw"
   },
   "outputs": [],
   "source": [
    "# Model to be trained\n",
    "model_resnet_cnn = Model(inputs=base_model.input, outputs=predictions)"
   ]
  },
  {
   "cell_type": "code",
   "execution_count": 19,
   "metadata": {
    "id": "uJSt5QVqbgTm"
   },
   "outputs": [],
   "source": [
    "# Freeze the pre-trained layers\n",
    "for layer in base_model.layers:\n",
    "    layer.trainable = False"
   ]
  },
  {
   "cell_type": "code",
   "execution_count": 20,
   "metadata": {
    "id": "eRBBti2Lbgal"
   },
   "outputs": [],
   "source": [
    "# Compile the model\n",
    "model_resnet_cnn.compile(optimizer='adam', loss='categorical_crossentropy', metrics=['accuracy'])"
   ]
  },
  {
   "cell_type": "code",
   "execution_count": 21,
   "metadata": {
    "id": "fXry_9wNbrhz",
    "scrolled": true
   },
   "outputs": [
    {
     "name": "stdout",
     "output_type": "stream",
     "text": [
      "Epoch 1/100\n",
      "48/48 [==============================] - 159s 3s/step - loss: 0.7606 - accuracy: 0.7551 - val_loss: 0.4941 - val_accuracy: 0.8165\n",
      "Epoch 2/100\n",
      "48/48 [==============================] - 135s 3s/step - loss: 0.5279 - accuracy: 0.8125 - val_loss: 0.4902 - val_accuracy: 0.8165\n",
      "Epoch 3/100\n",
      "48/48 [==============================] - 149s 3s/step - loss: 0.4861 - accuracy: 0.8204 - val_loss: 0.4907 - val_accuracy: 0.8165\n",
      "Epoch 4/100\n",
      "48/48 [==============================] - 162s 3s/step - loss: 0.4843 - accuracy: 0.8269 - val_loss: 0.5265 - val_accuracy: 0.8165\n",
      "Epoch 5/100\n",
      "48/48 [==============================] - 159s 3s/step - loss: 0.4573 - accuracy: 0.8367 - val_loss: 0.4527 - val_accuracy: 0.8165\n",
      "Epoch 6/100\n",
      "48/48 [==============================] - 156s 3s/step - loss: 0.4421 - accuracy: 0.8328 - val_loss: 0.4609 - val_accuracy: 0.8165\n",
      "Epoch 7/100\n",
      "48/48 [==============================] - 139s 3s/step - loss: 0.4313 - accuracy: 0.8374 - val_loss: 0.4575 - val_accuracy: 0.8165\n",
      "Epoch 8/100\n",
      "48/48 [==============================] - 141s 3s/step - loss: 0.4140 - accuracy: 0.8361 - val_loss: 0.4372 - val_accuracy: 0.8165\n",
      "Epoch 9/100\n",
      "48/48 [==============================] - 144s 3s/step - loss: 0.4056 - accuracy: 0.8367 - val_loss: 0.4339 - val_accuracy: 0.8165\n",
      "Epoch 10/100\n",
      "48/48 [==============================] - 150s 3s/step - loss: 0.3823 - accuracy: 0.8374 - val_loss: 0.4338 - val_accuracy: 0.8165\n",
      "Epoch 11/100\n",
      "48/48 [==============================] - 149s 3s/step - loss: 0.3608 - accuracy: 0.8374 - val_loss: 0.4308 - val_accuracy: 0.8165\n",
      "Epoch 12/100\n",
      "48/48 [==============================] - 137s 3s/step - loss: 0.3506 - accuracy: 0.8374 - val_loss: 0.4408 - val_accuracy: 0.8165\n",
      "Epoch 13/100\n",
      "48/48 [==============================] - 143s 3s/step - loss: 0.3618 - accuracy: 0.8374 - val_loss: 0.4584 - val_accuracy: 0.8165\n",
      "Epoch 14/100\n",
      "48/48 [==============================] - 138s 3s/step - loss: 0.3402 - accuracy: 0.8374 - val_loss: 0.4484 - val_accuracy: 0.8165\n",
      "Epoch 15/100\n",
      "48/48 [==============================] - 160s 3s/step - loss: 0.3326 - accuracy: 0.8374 - val_loss: 0.4602 - val_accuracy: 0.8165\n",
      "Epoch 16/100\n",
      "48/48 [==============================] - 145s 3s/step - loss: 0.3177 - accuracy: 0.8380 - val_loss: 0.4807 - val_accuracy: 0.8165\n",
      "Epoch 17/100\n",
      "48/48 [==============================] - 138s 3s/step - loss: 0.3387 - accuracy: 0.8374 - val_loss: 0.4579 - val_accuracy: 0.8165\n",
      "Epoch 18/100\n",
      "48/48 [==============================] - 138s 3s/step - loss: 0.3113 - accuracy: 0.8374 - val_loss: 0.5206 - val_accuracy: 0.8165\n",
      "Epoch 19/100\n",
      "48/48 [==============================] - 140s 3s/step - loss: 0.3073 - accuracy: 0.8374 - val_loss: 0.4555 - val_accuracy: 0.8165\n",
      "Epoch 20/100\n",
      "48/48 [==============================] - 139s 3s/step - loss: 0.3081 - accuracy: 0.8374 - val_loss: 0.5375 - val_accuracy: 0.8165\n",
      "Epoch 21/100\n",
      "48/48 [==============================] - 143s 3s/step - loss: 0.2892 - accuracy: 0.8374 - val_loss: 0.6177 - val_accuracy: 0.8165\n",
      "Epoch 22/100\n",
      "48/48 [==============================] - 151s 3s/step - loss: 0.3039 - accuracy: 0.8374 - val_loss: 0.5070 - val_accuracy: 0.8165\n",
      "Epoch 23/100\n",
      "48/48 [==============================] - 145s 3s/step - loss: 0.3116 - accuracy: 0.8380 - val_loss: 0.5087 - val_accuracy: 0.8165\n",
      "Epoch 24/100\n",
      "48/48 [==============================] - 147s 3s/step - loss: 0.2798 - accuracy: 0.8367 - val_loss: 0.5741 - val_accuracy: 0.8165\n",
      "Epoch 25/100\n",
      "48/48 [==============================] - 134s 3s/step - loss: 0.2773 - accuracy: 0.8380 - val_loss: 0.6169 - val_accuracy: 0.8165\n",
      "Epoch 26/100\n",
      "48/48 [==============================] - 134s 3s/step - loss: 0.2839 - accuracy: 0.8387 - val_loss: 0.5180 - val_accuracy: 0.8165\n",
      "Epoch 27/100\n",
      "48/48 [==============================] - 141s 3s/step - loss: 0.2626 - accuracy: 0.8374 - val_loss: 0.6242 - val_accuracy: 0.8165\n",
      "Epoch 28/100\n",
      "48/48 [==============================] - 135s 3s/step - loss: 0.2737 - accuracy: 0.8374 - val_loss: 0.7575 - val_accuracy: 0.8165\n",
      "Epoch 29/100\n",
      "48/48 [==============================] - 150s 3s/step - loss: 0.2869 - accuracy: 0.8374 - val_loss: 0.7156 - val_accuracy: 0.8165\n",
      "Epoch 30/100\n",
      "48/48 [==============================] - 146s 3s/step - loss: 0.2788 - accuracy: 0.8367 - val_loss: 0.6280 - val_accuracy: 0.8165\n",
      "Epoch 31/100\n",
      "48/48 [==============================] - 139s 3s/step - loss: 0.2525 - accuracy: 0.8374 - val_loss: 0.6797 - val_accuracy: 0.8165\n",
      "Epoch 32/100\n",
      "48/48 [==============================] - 141s 3s/step - loss: 0.2762 - accuracy: 0.8308 - val_loss: 0.5841 - val_accuracy: 0.8177\n",
      "Epoch 33/100\n",
      "48/48 [==============================] - 134s 3s/step - loss: 0.2739 - accuracy: 0.8439 - val_loss: 0.6419 - val_accuracy: 0.8177\n",
      "Epoch 34/100\n",
      "48/48 [==============================] - 135s 3s/step - loss: 0.2608 - accuracy: 0.8426 - val_loss: 0.6064 - val_accuracy: 0.8104\n",
      "Epoch 35/100\n",
      "48/48 [==============================] - 136s 3s/step - loss: 0.2591 - accuracy: 0.8256 - val_loss: 0.6714 - val_accuracy: 0.8007\n",
      "Epoch 36/100\n",
      "48/48 [==============================] - 136s 3s/step - loss: 0.2933 - accuracy: 0.8315 - val_loss: 0.6481 - val_accuracy: 0.8165\n",
      "Epoch 37/100\n",
      "48/48 [==============================] - 135s 3s/step - loss: 0.2886 - accuracy: 0.8374 - val_loss: 0.6533 - val_accuracy: 0.8165\n",
      "Epoch 38/100\n",
      "48/48 [==============================] - 137s 3s/step - loss: 0.2647 - accuracy: 0.8374 - val_loss: 0.6214 - val_accuracy: 0.8165\n",
      "Epoch 39/100\n",
      "48/48 [==============================] - 139s 3s/step - loss: 0.2543 - accuracy: 0.8374 - val_loss: 0.6803 - val_accuracy: 0.8165\n",
      "Epoch 40/100\n",
      "48/48 [==============================] - 141s 3s/step - loss: 0.2477 - accuracy: 0.8543 - val_loss: 0.8301 - val_accuracy: 0.8129\n",
      "Epoch 41/100\n",
      "48/48 [==============================] - 154s 3s/step - loss: 0.2291 - accuracy: 0.8654 - val_loss: 0.9097 - val_accuracy: 0.8104\n",
      "Epoch 42/100\n",
      "48/48 [==============================] - 140s 3s/step - loss: 0.2436 - accuracy: 0.8700 - val_loss: 0.7492 - val_accuracy: 0.8117\n",
      "Epoch 43/100\n",
      "48/48 [==============================] - 145s 3s/step - loss: 0.2210 - accuracy: 0.8961 - val_loss: 0.7423 - val_accuracy: 0.8104\n",
      "Epoch 44/100\n",
      "48/48 [==============================] - 138s 3s/step - loss: 0.2377 - accuracy: 0.8687 - val_loss: 1.0107 - val_accuracy: 0.8202\n",
      "Epoch 45/100\n",
      "48/48 [==============================] - 138s 3s/step - loss: 0.2283 - accuracy: 0.8792 - val_loss: 0.8519 - val_accuracy: 0.8129\n",
      "Epoch 46/100\n",
      "48/48 [==============================] - 140s 3s/step - loss: 0.2237 - accuracy: 0.8759 - val_loss: 0.9860 - val_accuracy: 0.8165\n",
      "Epoch 47/100\n",
      "48/48 [==============================] - 148s 3s/step - loss: 0.2138 - accuracy: 0.8818 - val_loss: 1.1622 - val_accuracy: 0.8250\n",
      "Epoch 48/100\n",
      "48/48 [==============================] - 150s 3s/step - loss: 0.2080 - accuracy: 0.9033 - val_loss: 0.8333 - val_accuracy: 0.8190\n",
      "Epoch 49/100\n",
      "48/48 [==============================] - 140s 3s/step - loss: 0.2211 - accuracy: 0.8863 - val_loss: 0.9409 - val_accuracy: 0.8165\n",
      "Epoch 50/100\n",
      "48/48 [==============================] - 147s 3s/step - loss: 0.2072 - accuracy: 0.8968 - val_loss: 0.9129 - val_accuracy: 0.8019\n",
      "Epoch 51/100\n",
      "48/48 [==============================] - 142s 3s/step - loss: 0.2077 - accuracy: 0.8975 - val_loss: 0.8967 - val_accuracy: 0.8068\n",
      "Epoch 52/100\n",
      "48/48 [==============================] - 153s 3s/step - loss: 0.2229 - accuracy: 0.8785 - val_loss: 0.9694 - val_accuracy: 0.8092\n",
      "Epoch 53/100\n",
      "48/48 [==============================] - 150s 3s/step - loss: 0.2438 - accuracy: 0.8628 - val_loss: 0.8759 - val_accuracy: 0.7971\n",
      "Epoch 54/100\n",
      "48/48 [==============================] - 159s 3s/step - loss: 0.2169 - accuracy: 0.8811 - val_loss: 0.8328 - val_accuracy: 0.8068\n",
      "Epoch 55/100\n",
      "48/48 [==============================] - 141s 3s/step - loss: 0.2044 - accuracy: 0.9014 - val_loss: 1.0622 - val_accuracy: 0.8080\n",
      "Epoch 56/100\n",
      "48/48 [==============================] - 142s 3s/step - loss: 0.1843 - accuracy: 0.9157 - val_loss: 0.9281 - val_accuracy: 0.8092\n",
      "Epoch 57/100\n",
      "48/48 [==============================] - 153s 3s/step - loss: 0.2140 - accuracy: 0.8968 - val_loss: 0.9491 - val_accuracy: 0.8068\n",
      "Epoch 58/100\n",
      "48/48 [==============================] - 150s 3s/step - loss: 0.2014 - accuracy: 0.8994 - val_loss: 1.0843 - val_accuracy: 0.8165\n",
      "Epoch 59/100\n",
      "48/48 [==============================] - 162s 3s/step - loss: 0.1922 - accuracy: 0.9099 - val_loss: 1.2174 - val_accuracy: 0.8129\n",
      "Epoch 60/100\n",
      "48/48 [==============================] - 141s 3s/step - loss: 0.1903 - accuracy: 0.9053 - val_loss: 1.1605 - val_accuracy: 0.8056\n",
      "Epoch 61/100\n",
      "48/48 [==============================] - 150s 3s/step - loss: 0.1799 - accuracy: 0.9190 - val_loss: 1.2664 - val_accuracy: 0.8080\n",
      "Epoch 62/100\n",
      "48/48 [==============================] - 149s 3s/step - loss: 0.1764 - accuracy: 0.9249 - val_loss: 1.0120 - val_accuracy: 0.8117\n",
      "Epoch 63/100\n",
      "48/48 [==============================] - 152s 3s/step - loss: 0.1561 - accuracy: 0.9373 - val_loss: 1.0541 - val_accuracy: 0.8129\n",
      "Epoch 64/100\n",
      "48/48 [==============================] - 149s 3s/step - loss: 0.1586 - accuracy: 0.9308 - val_loss: 1.4967 - val_accuracy: 0.8165\n",
      "Epoch 65/100\n",
      "48/48 [==============================] - 168s 3s/step - loss: 0.1708 - accuracy: 0.9170 - val_loss: 1.2192 - val_accuracy: 0.8044\n",
      "Epoch 66/100\n",
      "48/48 [==============================] - 157s 3s/step - loss: 0.1768 - accuracy: 0.9157 - val_loss: 1.3839 - val_accuracy: 0.8056\n",
      "Epoch 67/100\n",
      "48/48 [==============================] - 140s 3s/step - loss: 0.1855 - accuracy: 0.9040 - val_loss: 1.3032 - val_accuracy: 0.8056\n",
      "Epoch 68/100\n",
      "48/48 [==============================] - 141s 3s/step - loss: 0.1897 - accuracy: 0.9020 - val_loss: 1.4012 - val_accuracy: 0.8129\n",
      "Epoch 69/100\n",
      "48/48 [==============================] - 147s 3s/step - loss: 0.1598 - accuracy: 0.9268 - val_loss: 1.3029 - val_accuracy: 0.8117\n",
      "Epoch 70/100\n",
      "48/48 [==============================] - 145s 3s/step - loss: 0.2141 - accuracy: 0.8792 - val_loss: 1.3189 - val_accuracy: 0.8080\n",
      "Epoch 71/100\n",
      "48/48 [==============================] - 141s 3s/step - loss: 0.2084 - accuracy: 0.8916 - val_loss: 0.8558 - val_accuracy: 0.7934\n",
      "Epoch 72/100\n",
      "48/48 [==============================] - 144s 3s/step - loss: 0.2148 - accuracy: 0.8863 - val_loss: 1.0559 - val_accuracy: 0.7995\n",
      "Epoch 73/100\n",
      "48/48 [==============================] - 152s 3s/step - loss: 0.1933 - accuracy: 0.9020 - val_loss: 1.3381 - val_accuracy: 0.8056\n",
      "Epoch 74/100\n",
      "48/48 [==============================] - 140s 3s/step - loss: 0.1601 - accuracy: 0.9242 - val_loss: 1.3439 - val_accuracy: 0.8032\n",
      "Epoch 75/100\n",
      "48/48 [==============================] - 141s 3s/step - loss: 0.1691 - accuracy: 0.9268 - val_loss: 1.2649 - val_accuracy: 0.7934\n",
      "Epoch 76/100\n",
      "48/48 [==============================] - 139s 3s/step - loss: 0.2099 - accuracy: 0.8850 - val_loss: 1.1457 - val_accuracy: 0.7983\n",
      "Epoch 77/100\n",
      "48/48 [==============================] - 143s 3s/step - loss: 0.1722 - accuracy: 0.9157 - val_loss: 1.1983 - val_accuracy: 0.7959\n",
      "Epoch 78/100\n",
      "48/48 [==============================] - 149s 3s/step - loss: 0.1689 - accuracy: 0.9131 - val_loss: 1.5878 - val_accuracy: 0.8104\n",
      "Epoch 79/100\n",
      "48/48 [==============================] - 147s 3s/step - loss: 0.1471 - accuracy: 0.9393 - val_loss: 1.3952 - val_accuracy: 0.8068\n",
      "Epoch 80/100\n",
      "48/48 [==============================] - 166s 3s/step - loss: 0.1452 - accuracy: 0.9451 - val_loss: 1.6749 - val_accuracy: 0.8190\n",
      "Epoch 81/100\n",
      "48/48 [==============================] - 141s 3s/step - loss: 0.1591 - accuracy: 0.9275 - val_loss: 1.2503 - val_accuracy: 0.7983\n",
      "Epoch 82/100\n",
      "48/48 [==============================] - 143s 3s/step - loss: 0.1572 - accuracy: 0.9268 - val_loss: 1.5346 - val_accuracy: 0.8104\n",
      "Epoch 83/100\n",
      "48/48 [==============================] - 155s 3s/step - loss: 0.1472 - accuracy: 0.9308 - val_loss: 1.6521 - val_accuracy: 0.8117\n",
      "Epoch 84/100\n",
      "48/48 [==============================] - 146s 3s/step - loss: 0.1676 - accuracy: 0.9262 - val_loss: 1.3530 - val_accuracy: 0.8068\n",
      "Epoch 85/100\n",
      "48/48 [==============================] - 146s 3s/step - loss: 0.1466 - accuracy: 0.9366 - val_loss: 1.6872 - val_accuracy: 0.8080\n",
      "Epoch 86/100\n",
      "48/48 [==============================] - 153s 3s/step - loss: 0.1732 - accuracy: 0.9170 - val_loss: 1.2459 - val_accuracy: 0.8068\n",
      "Epoch 87/100\n",
      "48/48 [==============================] - 140s 3s/step - loss: 0.1421 - accuracy: 0.9386 - val_loss: 1.9746 - val_accuracy: 0.8141\n",
      "Epoch 88/100\n",
      "48/48 [==============================] - 148s 3s/step - loss: 0.1267 - accuracy: 0.9458 - val_loss: 2.1823 - val_accuracy: 0.8262\n",
      "Epoch 89/100\n",
      "48/48 [==============================] - 141s 3s/step - loss: 0.1377 - accuracy: 0.9393 - val_loss: 1.8246 - val_accuracy: 0.8044\n",
      "Epoch 90/100\n",
      "48/48 [==============================] - 168s 3s/step - loss: 0.1549 - accuracy: 0.9275 - val_loss: 1.4924 - val_accuracy: 0.7837\n",
      "Epoch 91/100\n",
      "48/48 [==============================] - 143s 3s/step - loss: 0.1478 - accuracy: 0.9321 - val_loss: 1.8253 - val_accuracy: 0.7959\n",
      "Epoch 92/100\n",
      "48/48 [==============================] - 139s 3s/step - loss: 0.1345 - accuracy: 0.9464 - val_loss: 2.0602 - val_accuracy: 0.8202\n",
      "Epoch 93/100\n",
      "48/48 [==============================] - 131s 3s/step - loss: 0.1519 - accuracy: 0.9308 - val_loss: 2.0768 - val_accuracy: 0.8117\n",
      "Epoch 94/100\n",
      "48/48 [==============================] - 130s 3s/step - loss: 0.1196 - accuracy: 0.9523 - val_loss: 2.1937 - val_accuracy: 0.8068\n",
      "Epoch 95/100\n",
      "48/48 [==============================] - 131s 3s/step - loss: 0.1230 - accuracy: 0.9491 - val_loss: 1.9954 - val_accuracy: 0.8068\n",
      "Epoch 96/100\n",
      "48/48 [==============================] - 131s 3s/step - loss: 0.1672 - accuracy: 0.9229 - val_loss: 1.6937 - val_accuracy: 0.8177\n",
      "Epoch 97/100\n",
      "48/48 [==============================] - 131s 3s/step - loss: 0.2001 - accuracy: 0.9040 - val_loss: 1.7294 - val_accuracy: 0.8068\n",
      "Epoch 98/100\n",
      "48/48 [==============================] - 130s 3s/step - loss: 0.1962 - accuracy: 0.8968 - val_loss: 1.3693 - val_accuracy: 0.7849\n",
      "Epoch 99/100\n",
      "48/48 [==============================] - 129s 3s/step - loss: 0.1881 - accuracy: 0.9092 - val_loss: 1.0819 - val_accuracy: 0.7886\n",
      "Epoch 100/100\n",
      "48/48 [==============================] - 131s 3s/step - loss: 0.1604 - accuracy: 0.9282 - val_loss: 1.4569 - val_accuracy: 0.8104\n"
     ]
    }
   ],
   "source": [
    "# Train the model using dgx------------------------------------------------\n",
    "history = model_resnet_cnn.fit(train_data, epochs=100, validation_data=val_data)"
   ]
  },
  {
   "cell_type": "code",
   "execution_count": 22,
   "metadata": {
    "id": "e1bxQselbrqH"
   },
   "outputs": [
    {
     "name": "stdout",
     "output_type": "stream",
     "text": [
      "Evaluating the model...\n",
      "Training loss for resnet+cnn: 0.07364995032548904\n",
      "Training accuracy for resnet+cnn: 0.9902024865150452\n",
      "Evaluating the model...\n",
      "val loss for resnet+cnn: 1.4569300413131714\n",
      "val accuracy for resnet+cnn: 0.8104496002197266\n"
     ]
    }
   ],
   "source": [
    "# Evaluate the model on the training data\n",
    "print(\"Evaluating the model...\")\n",
    "train_loss, train_accuracy = model_resnet_cnn.evaluate(train_data, verbose=0)\n",
    "print(f\"Training loss for resnet+cnn: {train_loss}\")\n",
    "print(f\"Training accuracy for resnet+cnn: {train_accuracy}\")\n",
    "\n",
    "# Evaluate the model on the validation data\n",
    "print(\"Evaluating the model...\")\n",
    "Val_loss, val_acc = model_resnet_cnn.evaluate(val_data, verbose=0)\n",
    "print(f\"val loss for resnet+cnn: {Val_loss}\")\n",
    "print(f\"val accuracy for resnet+cnn: {val_acc}\")"
   ]
  },
  {
   "cell_type": "code",
   "execution_count": 23,
   "metadata": {
    "id": "YsKPnofWbrtC"
   },
   "outputs": [
    {
     "name": "stdout",
     "output_type": "stream",
     "text": [
      "26/26 [==============================] - 52s 2s/step\n"
     ]
    }
   ],
   "source": [
    "y_pred = model_resnet_cnn.predict(val_data)\n",
    "y_true = np.concatenate([y for x, y in val_data], axis=0)"
   ]
  },
  {
   "cell_type": "code",
   "execution_count": 25,
   "metadata": {},
   "outputs": [
    {
     "name": "stdout",
     "output_type": "stream",
     "text": [
      "Keyring is skipped due to an exception: 'keyring.backends'\n",
      "Requirement already satisfied: matplotlib in ./anaconda3/lib/python3.7/site-packages (3.1.3)\n",
      "Requirement already satisfied: numpy>=1.11 in ./anaconda3/lib/python3.7/site-packages (from matplotlib) (1.21.6)\n",
      "Requirement already satisfied: kiwisolver>=1.0.1 in ./anaconda3/lib/python3.7/site-packages (from matplotlib) (1.1.0)\n",
      "Requirement already satisfied: python-dateutil>=2.1 in ./anaconda3/lib/python3.7/site-packages (from matplotlib) (2.8.1)\n",
      "Requirement already satisfied: pyparsing!=2.0.4,!=2.1.2,!=2.1.6,>=2.0.1 in ./anaconda3/lib/python3.7/site-packages (from matplotlib) (2.4.6)\n",
      "Requirement already satisfied: cycler>=0.10 in ./anaconda3/lib/python3.7/site-packages (from matplotlib) (0.10.0)\n",
      "Requirement already satisfied: setuptools in ./anaconda3/lib/python3.7/site-packages (from kiwisolver>=1.0.1->matplotlib) (45.2.0.post20200210)\n",
      "Requirement already satisfied: six>=1.5 in ./anaconda3/lib/python3.7/site-packages (from python-dateutil>=2.1->matplotlib) (1.14.0)\n"
     ]
    }
   ],
   "source": [
    "!pip install matplotlib\n",
    "import matplotlib.pyplot as plt"
   ]
  },
  {
   "cell_type": "code",
   "execution_count": 29,
   "metadata": {
    "id": "_Tk4h4kAbwd3"
   },
   "outputs": [
    {
     "name": "stdout",
     "output_type": "stream",
     "text": [
      "[0.         0.01324503 0.33774834 0.35099338 0.36423841 0.39735099\n",
      " 0.39735099 0.39735099 0.39735099 0.39735099 0.40397351 0.41059603\n",
      " 0.41059603 0.41059603 0.41059603 0.41059603 0.41059603 0.42384106\n",
      " 0.43046358 0.43046358 0.43046358 0.43708609 0.43708609 0.44370861\n",
      " 0.45033113 0.45033113 0.45695364 0.45695364 0.46357616 0.46357616\n",
      " 0.46357616 0.46357616 0.47019868 0.47019868 0.48344371 0.48344371\n",
      " 0.48344371 0.48344371 0.49006623 0.49006623 0.49668874 0.49668874\n",
      " 0.50331126 0.50331126 0.50993377 0.50993377 0.51655629 0.51655629\n",
      " 0.52317881 0.53642384 0.53642384 0.54304636 0.54304636 0.55629139\n",
      " 0.55629139 0.56291391 0.56291391 0.56953642 0.56953642 0.57615894\n",
      " 0.57615894 0.58278146 0.58278146 0.58940397 0.58940397 0.59602649\n",
      " 0.59602649 0.60264901 0.60264901 0.60927152 0.60927152 0.62913907\n",
      " 0.62913907 0.63576159 0.63576159 0.64238411 0.64238411 0.64900662\n",
      " 0.64900662 0.66225166 0.66225166 0.68211921 0.68211921 0.68874172\n",
      " 0.68874172 0.69536424 0.69536424 0.70198675 0.70198675 0.70860927\n",
      " 0.70860927 0.71523179 0.71523179 0.7218543  0.7218543  0.72847682\n",
      " 0.72847682 0.73509934 0.73509934 0.74172185 0.74172185 0.74834437\n",
      " 0.74834437 0.75496689 0.75496689 0.76821192 0.76821192 0.77483444\n",
      " 0.77483444 0.78145695 0.78145695 0.78807947 0.78807947 0.80794702\n",
      " 0.80794702 0.81456954 0.81456954 0.82119205 0.82119205 0.8410596\n",
      " 0.8410596  0.84768212 0.84768212 0.85430464 0.85430464 0.86092715\n",
      " 0.86092715 0.86754967 0.86754967 0.87417219 0.87417219 0.88741722\n",
      " 0.88741722 0.90066225 0.90066225 0.91390728 0.91390728 0.92715232\n",
      " 0.92715232 0.93377483 0.93377483 0.94039735 0.94039735 0.94701987\n",
      " 0.94701987 0.95364238 0.95364238 0.9602649  0.9602649  1.\n",
      " 1.        ]\n",
      "[0.         0.00297619 0.32291667 0.35416667 0.37053571 0.37946429\n",
      " 0.38095238 0.38541667 0.38690476 0.39583333 0.40178571 0.40625\n",
      " 0.41369048 0.41517857 0.41815476 0.41964286 0.42261905 0.42261905\n",
      " 0.42559524 0.43452381 0.4389881  0.4389881  0.44494048 0.44494048\n",
      " 0.44642857 0.45089286 0.45089286 0.45386905 0.45386905 0.45684524\n",
      " 0.45982143 0.47321429 0.47321429 0.47470238 0.47470238 0.47916667\n",
      " 0.48214286 0.48958333 0.48958333 0.50297619 0.50297619 0.50744048\n",
      " 0.50744048 0.50892857 0.50892857 0.53720238 0.53720238 0.54464286\n",
      " 0.54613095 0.54613095 0.54910714 0.54910714 0.55505952 0.55505952\n",
      " 0.55952381 0.55952381 0.56547619 0.56547619 0.56994048 0.56994048\n",
      " 0.57440476 0.57440476 0.58184524 0.58184524 0.58482143 0.58482143\n",
      " 0.58630952 0.58630952 0.58779762 0.58779762 0.59375    0.59375\n",
      " 0.59970238 0.59970238 0.61309524 0.61309524 0.61458333 0.61458333\n",
      " 0.61607143 0.61607143 0.62202381 0.62202381 0.6264881  0.6264881\n",
      " 0.63690476 0.63690476 0.63839286 0.63839286 0.64583333 0.64583333\n",
      " 0.64880952 0.64880952 0.66517857 0.66517857 0.67708333 0.67708333\n",
      " 0.70833333 0.70833333 0.70982143 0.70982143 0.74404762 0.74404762\n",
      " 0.7514881  0.7514881  0.7827381  0.7827381  0.79315476 0.79315476\n",
      " 0.79613095 0.79613095 0.80059524 0.80059524 0.81547619 0.81547619\n",
      " 0.81994048 0.81994048 0.82589286 0.82589286 0.84821429 0.84821429\n",
      " 0.85416667 0.85416667 0.875      0.875      0.88244048 0.88244048\n",
      " 0.89583333 0.89583333 0.90029762 0.90029762 0.91071429 0.91071429\n",
      " 0.91220238 0.91220238 0.91815476 0.91815476 0.91964286 0.91964286\n",
      " 0.92261905 0.92261905 0.9389881  0.9389881  0.94494048 0.94494048\n",
      " 0.96428571 0.96428571 0.9672619  0.9672619  0.96875    0.9985119\n",
      " 1.        ]\n",
      "[0.         0.0014881  0.03125    0.0327381  0.0327381  0.03571429\n",
      " 0.03571429 0.05505952 0.05505952 0.0610119  0.0610119  0.07738095\n",
      " 0.07738095 0.08035714 0.08035714 0.08184524 0.08184524 0.08779762\n",
      " 0.08779762 0.08928571 0.08928571 0.09970238 0.09970238 0.10416667\n",
      " 0.10416667 0.11755952 0.11755952 0.125      0.125      0.14583333\n",
      " 0.14583333 0.15178571 0.15178571 0.17410714 0.17410714 0.18005952\n",
      " 0.18005952 0.18452381 0.18452381 0.19940476 0.19940476 0.20386905\n",
      " 0.20386905 0.20684524 0.20684524 0.2172619  0.2172619  0.2485119\n",
      " 0.2485119  0.25595238 0.25595238 0.29017857 0.29017857 0.29166667\n",
      " 0.29166667 0.32291667 0.32291667 0.33482143 0.33482143 0.35119048\n",
      " 0.35119048 0.35416667 0.35416667 0.36160714 0.36160714 0.36309524\n",
      " 0.36309524 0.3735119  0.3735119  0.37797619 0.37797619 0.38392857\n",
      " 0.38392857 0.38541667 0.38541667 0.38690476 0.38690476 0.40029762\n",
      " 0.40029762 0.40625    0.40625    0.41220238 0.41220238 0.41369048\n",
      " 0.41369048 0.41517857 0.41517857 0.41815476 0.41815476 0.42559524\n",
      " 0.42559524 0.43005952 0.43005952 0.43452381 0.43452381 0.44047619\n",
      " 0.44047619 0.44494048 0.44494048 0.45089286 0.45089286 0.45386905\n",
      " 0.45386905 0.46279762 0.46279762 0.49107143 0.49107143 0.49255952\n",
      " 0.49255952 0.49702381 0.49702381 0.51041667 0.51041667 0.52529762\n",
      " 0.52529762 0.52678571 0.52678571 0.54613095 0.54613095 0.54910714\n",
      " 0.54910714 0.55505952 0.55505952 0.5610119  0.5610119  0.57738095\n",
      " 0.57738095 0.59821429 0.59821429 0.59970238 0.59970238 0.62053571\n",
      " 0.62053571 0.625      0.625      0.62797619 0.62797619 0.62946429\n",
      " 0.62946429 0.63392857 0.63392857 0.64583333 0.64583333 0.64732143\n",
      " 0.64732143 0.6577381  0.6577381  0.67857143 0.67857143 0.6875\n",
      " 0.6875     0.69345238 0.69345238 0.69494048 0.69494048 0.69791667\n",
      " 0.69791667 0.72321429 0.72321429 0.72916667 0.72916667 0.73065476\n",
      " 0.73065476 0.73214286 0.73214286 0.73660714 0.73660714 0.73958333\n",
      " 0.73958333 0.74107143 0.74107143 0.74255952 0.74255952 0.75297619\n",
      " 0.75297619 0.76339286 0.76339286 0.76636905 0.76636905 0.77380952\n",
      " 0.77380952 0.78720238 0.78720238 0.79166667 0.79166667 0.79761905\n",
      " 0.79761905 0.8125     0.8125     0.82440476 0.82440476 0.83184524\n",
      " 0.83184524 0.83928571 0.83928571 0.85267857 0.85267857 0.85863095\n",
      " 0.85863095 0.86309524 0.86309524 0.86755952 0.86755952 0.87053571\n",
      " 0.87053571 0.87946429 0.87946429 0.88095238 0.88095238 0.89136905\n",
      " 0.89136905 0.89285714 0.89285714 0.89583333 0.89583333 0.90029762\n",
      " 0.90029762 0.91369048 0.91369048 0.92410714 0.92410714 0.9360119\n",
      " 0.9360119  0.94047619 0.94047619 0.94940476 0.94940476 0.9672619\n",
      " 0.9672619  0.9702381  0.9702381  0.97767857 0.97767857 0.98214286\n",
      " 0.98214286 0.99702381 0.99702381 1.        ]\n",
      "[0.         0.         0.0397351  0.0397351  0.04635762 0.04635762\n",
      " 0.05298013 0.05298013 0.05960265 0.05960265 0.06622517 0.06622517\n",
      " 0.07284768 0.07284768 0.08609272 0.08609272 0.09933775 0.09933775\n",
      " 0.11258278 0.11258278 0.12582781 0.12582781 0.13245033 0.13245033\n",
      " 0.13907285 0.13907285 0.14569536 0.14569536 0.15231788 0.15231788\n",
      " 0.1589404  0.1589404  0.17880795 0.17880795 0.18543046 0.18543046\n",
      " 0.19205298 0.19205298 0.21192053 0.21192053 0.21854305 0.21854305\n",
      " 0.22516556 0.22516556 0.23178808 0.23178808 0.24503311 0.24503311\n",
      " 0.25165563 0.25165563 0.25827815 0.25827815 0.26490066 0.26490066\n",
      " 0.27152318 0.27152318 0.2781457  0.2781457  0.28476821 0.28476821\n",
      " 0.29139073 0.29139073 0.29801325 0.29801325 0.30463576 0.30463576\n",
      " 0.31125828 0.31125828 0.31788079 0.31788079 0.33774834 0.33774834\n",
      " 0.35099338 0.35099338 0.35761589 0.35761589 0.36423841 0.36423841\n",
      " 0.37086093 0.37086093 0.39072848 0.39072848 0.39735099 0.39735099\n",
      " 0.40397351 0.40397351 0.41059603 0.41059603 0.41721854 0.41721854\n",
      " 0.42384106 0.42384106 0.43046358 0.43046358 0.43708609 0.43708609\n",
      " 0.44370861 0.44370861 0.45695364 0.45695364 0.46357616 0.46357616\n",
      " 0.48344371 0.48344371 0.49006623 0.49006623 0.49668874 0.49668874\n",
      " 0.50331126 0.50331126 0.50993377 0.50993377 0.51655629 0.51655629\n",
      " 0.52980132 0.52980132 0.53642384 0.53642384 0.54304636 0.54304636\n",
      " 0.54966887 0.54966887 0.56291391 0.56291391 0.56953642 0.56953642\n",
      " 0.58940397 0.58940397 0.59602649 0.59602649 0.60264901 0.60264901\n",
      " 0.61589404 0.61589404 0.62251656 0.62251656 0.62913907 0.62913907\n",
      " 0.63576159 0.63576159 0.64238411 0.64238411 0.64900662 0.64900662\n",
      " 0.65562914 0.65562914 0.66225166 0.66225166 0.66887417 0.66887417\n",
      " 0.67549669 0.67549669 0.68874172 0.68874172 0.69536424 0.69536424\n",
      " 0.70198675 0.70198675 0.70860927 0.70860927 0.71523179 0.71523179\n",
      " 0.7218543  0.7218543  0.72847682 0.72847682 0.73509934 0.73509934\n",
      " 0.74172185 0.74172185 0.74834437 0.74834437 0.75496689 0.75496689\n",
      " 0.7615894  0.7615894  0.76821192 0.76821192 0.77483444 0.77483444\n",
      " 0.78807947 0.78807947 0.8013245  0.8013245  0.80794702 0.80794702\n",
      " 0.81456954 0.81456954 0.82781457 0.82781457 0.8410596  0.8410596\n",
      " 0.84768212 0.84768212 0.85430464 0.85430464 0.86092715 0.86092715\n",
      " 0.86754967 0.86754967 0.87417219 0.87417219 0.8807947  0.8807947\n",
      " 0.88741722 0.88741722 0.89403974 0.89403974 0.90066225 0.90066225\n",
      " 0.91390728 0.91390728 0.9205298  0.9205298  0.92715232 0.92715232\n",
      " 0.93377483 0.93377483 0.94039735 0.94039735 0.94701987 0.94701987\n",
      " 0.95364238 0.95364238 0.9602649  0.9602649  0.96688742 0.96688742\n",
      " 0.97350993 0.97350993 0.98013245 0.98013245 0.98675497 0.98675497\n",
      " 0.99337748 0.99337748 1.         1.        ]\n",
      "{0: 0.49382095553453176, 1: 0.5001970987070326}\n"
     ]
    }
   ],
   "source": [
    "# Compute ROC curve and ROC area for each class\n",
    "fpr = dict()\n",
    "tpr = dict()\n",
    "roc_auc = dict()\n",
    "for i in range(num_classes):\n",
    "    fpr[i], tpr[i], _ = roc_curve(y_true[:, i], y_pred[:, i])\n",
    "    roc_auc[i] = auc(fpr[i], tpr[i])\n",
    "    print(fpr[i])\n",
    "    print(tpr[i])\n",
    "print(roc_auc)"
   ]
  },
  {
   "cell_type": "code",
   "execution_count": 30,
   "metadata": {
    "id": "_KV4m_qdbwg5"
   },
   "outputs": [
    {
     "data": {
      "image/png": "[encoded data removed]",
      "text/plain": [
       "<Figure size 576x432 with 1 Axes>"
      ]
     },
     "metadata": {
      "needs_background": "light"
     },
     "output_type": "display_data"
    }
   ],
   "source": [
    "# Plot ROC curve\n",
    "plt.figure(figsize=(8, 6))\n",
    "for i in range(num_classes):\n",
    "    plt.plot(fpr[i], tpr[i], lw=2, label='ROC curve (area = %0.2f) for class %d' % (roc_auc[i], i))\n",
    "plt.plot([0, 1], [0, 1], color='navy', lw=2, linestyle='--')\n",
    "plt.xlim([0.0, 1.0])\n",
    "plt.ylim([0.0, 1.05])\n",
    "plt.xlabel('False Positive Rate')\n",
    "plt.ylabel('True Positive Rate')\n",
    "plt.title('Receiver Operating Characteristic (ROC) Curve')\n",
    "plt.legend(loc=\"lower right\")\n",
    "plt.show()"
   ]
  },
  {
   "cell_type": "code",
   "execution_count": null,
   "metadata": {
    "id": "fuGGc9l3bwjZ"
   },
   "outputs": [],
   "source": []
  }
 ],
 "metadata": {
  "colab": {
   "provenance": []
  },
  "kernelspec": {
   "display_name": "Python 3",
   "language": "python",
   "name": "python3"
  },
  "language_info": {
   "codemirror_mode": {
    "name": "ipython",
    "version": 3
   },
   "file_extension": ".py",
   "mimetype": "text/x-python",
   "name": "python",
   "nbconvert_exporter": "python",
   "pygments_lexer": "ipython3",
   "version": "3.7.6"
  }
 },
 "nbformat": 4,
 "nbformat_minor": 1
}
