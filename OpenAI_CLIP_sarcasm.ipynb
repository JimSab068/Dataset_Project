{
  "nbformat": 4,
  "nbformat_minor": 0,
  "metadata": {
    "colab": {
      "provenance": []
    },
    "kernelspec": {
      "name": "python3",
      "display_name": "Python 3"
    },
    "language_info": {
      "name": "python"
    }
  },
  "cells": [
    {
      "cell_type": "code",
      "execution_count": null,
      "metadata": {
        "colab": {
          "base_uri": "https://localhost:8080/"
        },
        "id": "iN9MVpFU8jxu",
        "outputId": "6f632817-0758-4c26-cd30-a718a4cfa050"
      },
      "outputs": [
        {
          "output_type": "stream",
          "name": "stdout",
          "text": [
            "  Preparing metadata (setup.py) ... \u001b[?25l\u001b[?25hdone\n",
            "  Building wheel for ZSIC (setup.py) ... \u001b[?25l\u001b[?25hdone\n"
          ]
        }
      ],
      "source": [
        "!pip install git+https://github.com/PrithivirajDamodaran/ZSIC.git -q"
      ]
    },
    {
      "cell_type": "code",
      "source": [
        "from ZSIC import ZeroShotImageClassification"
      ],
      "metadata": {
        "id": "urZZqtbS9Iyc"
      },
      "execution_count": null,
      "outputs": []
    },
    {
      "cell_type": "code",
      "source": [
        "zsic = ZeroShotImageClassification(model=\"ViT-B/16\")"
      ],
      "metadata": {
        "colab": {
          "base_uri": "https://localhost:8080/"
        },
        "id": "W54W_cVR9PTj",
        "outputId": "852412c8-97d5-46f3-b9e9-9dabbe34ded4"
      },
      "execution_count": null,
      "outputs": [
        {
          "output_type": "stream",
          "name": "stdout",
          "text": [
            "Loading OpenAI CLIP model ViT-B/16 ...\n"
          ]
        },
        {
          "output_type": "stream",
          "name": "stderr",
          "text": [
            "100%|████████████████████████████████████████| 335M/335M [00:03<00:00, 106MiB/s]\n"
          ]
        },
        {
          "output_type": "stream",
          "name": "stdout",
          "text": [
            "Label language en ...\n"
          ]
        }
      ]
    },
    {
      "cell_type": "code",
      "source": [
        "inp_image = '/content/Sarcasm_7.jpg'\n",
        "#Predictions\n",
        "preds = zsic(image=inp_image,\n",
        "            candidate_labels=[\"sad\", \"sarcasm\", \"happy\"]\n",
        "            #hypothesis_template=\"una imagen de {}\",  # Using a hypothesis_template makes the scores more robust\n",
        "            )\n",
        "f\"This image is *{preds['labels'][preds['scores'].index(max(preds['scores']))]}* with a score of {max(preds['scores'])}\""
      ],
      "metadata": {
        "colab": {
          "base_uri": "https://localhost:8080/",
          "height": 35
        },
        "id": "1Z4P60JG9zA-",
        "outputId": "1bff7a93-6742-4fa5-ddb0-0d27ad7567da"
      },
      "execution_count": null,
      "outputs": [
        {
          "output_type": "execute_result",
          "data": {
            "text/plain": [
              "'This image is *sarcasm* with a score of 0.8196327090263367'"
            ],
            "application/vnd.google.colaboratory.intrinsic+json": {
              "type": "string"
            }
          },
          "metadata": {},
          "execution_count": 8
        }
      ]
    },
    {
      "cell_type": "code",
      "source": [
        "from google.colab import drive\n",
        "drive.mount('/content/drive')\n"
      ],
      "metadata": {
        "colab": {
          "base_uri": "https://localhost:8080/"
        },
        "id": "WrcJRQXnBh5K",
        "outputId": "2d05497d-4962-4d4f-a4cc-a5d2d2d7c930"
      },
      "execution_count": null,
      "outputs": [
        {
          "output_type": "stream",
          "name": "stdout",
          "text": [
            "Mounted at /content/drive\n"
          ]
        }
      ]
    },
    {
      "cell_type": "code",
      "source": [
        "import os\n",
        "from PIL import Image\n",
        "import torch\n",
        "from transformers import pipeline\n",
        "\n",
        "# Initialize your zero-shot image classification model\n",
        "zsic = ZeroShotImageClassification(model=\"ViT-B/16\")\n",
        "\n",
        "# Define the path to the folder containing the images\n",
        "image_folder_path = '/content/drive/MyDrive/dataset/train/sarcasm'\n",
        "\n",
        "# Define the candidate labels\n",
        "candidate_labels = [\"sad\", \"sarcasm\", \"happy\"]\n",
        "\n",
        "# Initialize a dictionary to store results\n",
        "results = {}\n",
        "\n",
        "'''\n",
        "# Process each image in the folder\n",
        "for image_name in os.listdir(image_folder_path):\n",
        "    image_path = os.path.join(image_folder_path, image_name)\n",
        "    if os.path.isfile(image_path) and image_name.lower().endswith(('.png', '.jpg', '.jpeg')):\n",
        "        # Perform zero-shot image classification\n",
        "        preds = zsic(image=image_path, candidate_labels=candidate_labels)\n",
        "\n",
        "        # Find the label with the highest score\n",
        "        best_label = preds['labels'][preds['scores'].index(max(preds['scores']))]\n",
        "        best_score = max(preds['scores'])\n",
        "\n",
        "        # Store the results\n",
        "        results[image_name] = {'predicted_label': best_label, 'score': best_score}\n",
        "\n",
        "# Assuming true labels are stored in a dictionary called `true_labels`\n",
        "# Example: true_labels = {'image1.jpg': 'happy', 'image2.jpg': 'sad', ...}\n",
        "true_labels = {\n",
        "    'image1.jpg': 'happy',\n",
        "    'image2.jpg': 'sad',\n",
        "    # Add all your true labels here\n",
        "}\n",
        "\n",
        "# Calculate the accuracy\n",
        "correct_predictions = 0\n",
        "total_predictions = len(true_labels)\n",
        "\n",
        "for image_name, true_label in true_labels.items():\n",
        "    if image_name in results:\n",
        "        if results[image_name]['predicted_label'] == true_label:\n",
        "            correct_predictions += 1\n",
        "\n",
        "accuracy = correct_predictions / total_predictions * 100\n",
        "print(f\"Accuracy: {accuracy:.2f}%\")\n",
        "\n",
        "# Print the results\n",
        "for image_name, prediction in results.items():\n",
        "    print(f\"Image: {image_name}, Predicted Label: {prediction['predicted_label']}, Score: {prediction['score']}\")\n",
        "\n",
        "total_predictions = len(results)\n",
        "# Initialize the counter for 'sarcasm' predictions\n",
        "sarcasm_count = 0\n",
        "\n",
        "# Iterate over the dictionary and count 'sarcasm' predictions\n",
        "for item, prediction in results.items():\n",
        "    if prediction['predicted_label'] == 'sarcasm':\n",
        "        sarcasm_count += 1\n",
        "\n",
        "accuracy = (sarcasm_count/total_predictions)*100\n",
        "\n",
        "print(\"Accuracy = \")\n",
        "print(accuracy)\n",
        "'''"
      ],
      "metadata": {
        "colab": {
          "base_uri": "https://localhost:8080/"
        },
        "id": "i1blm8h-BIEl",
        "outputId": "77942991-7cae-4511-9296-f114319c4c5b"
      },
      "execution_count": null,
      "outputs": [
        {
          "output_type": "stream",
          "name": "stdout",
          "text": [
            "Loading OpenAI CLIP model ViT-B/16 ...\n",
            "Label language en ...\n",
            "Image: i (24).png, Predicted Label: sad, Score: 0.37556982040405273\n",
            "Image: i (29).png, Predicted Label: sarcasm, Score: 0.6826490163803101\n",
            "Image: i (17).png, Predicted Label: sarcasm, Score: 0.7344866394996643\n",
            "Image: i (28).png, Predicted Label: sarcasm, Score: 0.46400144696235657\n",
            "Image: i (26).png, Predicted Label: sarcasm, Score: 0.6701877117156982\n",
            "Image: i (31).png, Predicted Label: sarcasm, Score: 0.6181986927986145\n",
            "Image: i (23).png, Predicted Label: sarcasm, Score: 0.3872298002243042\n",
            "Image: i (18).png, Predicted Label: sad, Score: 0.4783332049846649\n",
            "Image: i (32).png, Predicted Label: sad, Score: 0.5069764852523804\n",
            "Image: i (27).png, Predicted Label: sarcasm, Score: 0.9999774694442749\n",
            "Image: i (19).png, Predicted Label: sarcasm, Score: 0.427327424287796\n",
            "Image: i (20).png, Predicted Label: sarcasm, Score: 0.7013452053070068\n",
            "Image: i (25).png, Predicted Label: happy, Score: 0.9680519700050354\n",
            "Image: i (22).png, Predicted Label: happy, Score: 0.6072761416435242\n",
            "Image: i (30).png, Predicted Label: happy, Score: 0.49864518642425537\n",
            "Image: i (16).png, Predicted Label: sad, Score: 0.6722890734672546\n",
            "Image: i (21).png, Predicted Label: sarcasm, Score: 0.5899902582168579\n",
            "Image: i (52).png, Predicted Label: sad, Score: 0.8341671228408813\n",
            "Image: i (42).png, Predicted Label: sad, Score: 0.4564002752304077\n",
            "Image: i (58).png, Predicted Label: sad, Score: 0.6657638549804688\n",
            "Image: i (46).png, Predicted Label: sarcasm, Score: 0.905330240726471\n",
            "Image: i (60).png, Predicted Label: sarcasm, Score: 0.8435437083244324\n",
            "Image: i (53).png, Predicted Label: sarcasm, Score: 0.8589830994606018\n",
            "Image: i (39).png, Predicted Label: sarcasm, Score: 0.421353280544281\n",
            "Image: i (62).png, Predicted Label: sarcasm, Score: 0.9673028588294983\n",
            "Image: i (63).png, Predicted Label: sad, Score: 0.5546119809150696\n",
            "Image: i (45).png, Predicted Label: sad, Score: 0.5595618486404419\n",
            "Image: i (40).png, Predicted Label: sarcasm, Score: 0.8360283970832825\n",
            "Image: i (50).png, Predicted Label: sarcasm, Score: 0.9814572334289551\n",
            "Image: i (49).png, Predicted Label: sarcasm, Score: 0.9928296208381653\n",
            "Image: i (47).png, Predicted Label: sarcasm, Score: 0.8533817529678345\n",
            "Image: i (66).png, Predicted Label: sarcasm, Score: 0.6919693946838379\n",
            "Image: i (65).png, Predicted Label: sarcasm, Score: 0.9815232157707214\n",
            "Image: i (33).png, Predicted Label: sarcasm, Score: 0.802652895450592\n",
            "Image: i (43).png, Predicted Label: sad, Score: 0.7381852269172668\n",
            "Image: i (56).png, Predicted Label: sarcasm, Score: 0.49164441227912903\n",
            "Image: i (37).png, Predicted Label: happy, Score: 0.37463948130607605\n",
            "Image: i (57).png, Predicted Label: sarcasm, Score: 0.5577061176300049\n",
            "Image: i (34).png, Predicted Label: sarcasm, Score: 0.924161970615387\n",
            "Image: i (54).png, Predicted Label: sarcasm, Score: 0.9902859330177307\n",
            "Image: i (55).png, Predicted Label: sad, Score: 0.5948799252510071\n",
            "Image: i (35).png, Predicted Label: sarcasm, Score: 0.8202212452888489\n",
            "Image: i (64).png, Predicted Label: sad, Score: 0.8326933979988098\n",
            "Image: i (61).png, Predicted Label: sarcasm, Score: 0.9562170505523682\n",
            "Image: i (48).png, Predicted Label: sarcasm, Score: 0.9805492758750916\n",
            "Image: i (51).png, Predicted Label: sarcasm, Score: 0.828046977519989\n",
            "Image: i (38).png, Predicted Label: sad, Score: 0.4122270941734314\n",
            "Image: i (36).png, Predicted Label: sarcasm, Score: 0.6943671107292175\n",
            "Image: i (41).png, Predicted Label: sad, Score: 0.7825697660446167\n",
            "Image: i (44).png, Predicted Label: sad, Score: 0.6234320998191833\n",
            "Image: i (59).png, Predicted Label: sad, Score: 0.7216039896011353\n",
            "Image: i (76).png, Predicted Label: sarcasm, Score: 0.8565272688865662\n",
            "Image: i (77).png, Predicted Label: sarcasm, Score: 0.9526187181472778\n",
            "Image: Sarcasm_4.jpg, Predicted Label: sad, Score: 0.6321392059326172\n",
            "Image: istockphoto-176796323-612x612.jpg, Predicted Label: sarcasm, Score: 0.9555193781852722\n",
            "Image: istockphoto-508593106-612x612.jpg, Predicted Label: sarcasm, Score: 0.922433078289032\n",
            "Image: Sarcasm_5.jpg, Predicted Label: sarcasm, Score: 0.909257709980011\n",
            "Image: i (78).png, Predicted Label: happy, Score: 0.36906853318214417\n",
            "Image: i (69).png, Predicted Label: sad, Score: 0.5492839813232422\n",
            "Image: istockphoto-183354533-612x612.jpg, Predicted Label: happy, Score: 0.6707926392555237\n",
            "Image: i (75).png, Predicted Label: sarcasm, Score: 0.9649282693862915\n",
            "Image: istockphoto-1352836247-612x612.jpg, Predicted Label: happy, Score: 0.8781538009643555\n",
            "Image: istockphoto-1395100214-612x612.jpg, Predicted Label: sarcasm, Score: 0.7004027962684631\n",
            "Image: i (79).png, Predicted Label: sarcasm, Score: 0.5081687569618225\n",
            "Image: i.png, Predicted Label: happy, Score: 0.6387208104133606\n",
            "Image: i (83).png, Predicted Label: sad, Score: 0.6639106273651123\n",
            "Image: Sarcasm_2.jpg, Predicted Label: sarcasm, Score: 0.9610413312911987\n",
            "Image: i (81).png, Predicted Label: sarcasm, Score: 0.4813910126686096\n",
            "Image: Sarcasm_6.jpeg, Predicted Label: sarcasm, Score: 0.673134982585907\n",
            "Image: i (82).png, Predicted Label: sad, Score: 0.45912104845046997\n",
            "Image: i (68).png, Predicted Label: sad, Score: 0.746584415435791\n",
            "Image: i (71).png, Predicted Label: sad, Score: 0.7655686140060425\n",
            "Image: istockphoto-947252896-612x612.jpg, Predicted Label: sad, Score: 0.782451868057251\n",
            "Image: i (84).png, Predicted Label: sarcasm, Score: 0.833743691444397\n",
            "Image: i (80).png, Predicted Label: sarcasm, Score: 0.4774168133735657\n",
            "Image: Sarcasm_3.jpeg, Predicted Label: sarcasm, Score: 0.9952345490455627\n",
            "Image: i (74).png, Predicted Label: happy, Score: 0.4034188687801361\n",
            "Image: Sarcasm_1.png, Predicted Label: sarcasm, Score: 0.9598274827003479\n",
            "Image: istockphoto-1369297797-612x612.jpg, Predicted Label: happy, Score: 0.7887588143348694\n",
            "Image: i (67).png, Predicted Label: sad, Score: 0.5057493448257446\n",
            "Image: istockphoto-1020474390-612x612.jpg, Predicted Label: sarcasm, Score: 0.6317785978317261\n",
            "Image: i (73).png, Predicted Label: sarcasm, Score: 0.9347991347312927\n",
            "Image: i (70).png, Predicted Label: sad, Score: 0.9055233597755432\n",
            "Image: i (72).png, Predicted Label: sarcasm, Score: 0.7264543771743774\n",
            "Image: Sarcasm_7.jpg, Predicted Label: sarcasm, Score: 0.8196327090263367\n",
            "Accuracy = \n",
            "58.82352941176471\n"
          ]
        }
      ]
    },
    {
      "cell_type": "code",
      "source": [
        "print(sarcasm_count)"
      ],
      "metadata": {
        "colab": {
          "base_uri": "https://localhost:8080/"
        },
        "id": "C0GAzalRjKpA",
        "outputId": "5edb96f5-d258-4ea6-d51e-3e70e6058c1f"
      },
      "execution_count": null,
      "outputs": [
        {
          "output_type": "stream",
          "name": "stdout",
          "text": [
            "50\n"
          ]
        }
      ]
    },
    {
      "cell_type": "code",
      "source": [
        "print(total_predictions)"
      ],
      "metadata": {
        "colab": {
          "base_uri": "https://localhost:8080/"
        },
        "id": "vC70Iy11fjrF",
        "outputId": "81f7ac11-0a77-452f-dd61-161fb8fe80d7"
      },
      "execution_count": null,
      "outputs": [
        {
          "output_type": "stream",
          "name": "stdout",
          "text": [
            "85\n"
          ]
        }
      ]
    },
    {
      "cell_type": "code",
      "source": [
        "import os\n",
        "from PIL import Image\n",
        "import torch\n",
        "from transformers import pipeline\n",
        "\n",
        "# Initialize your zero-shot image classification model\n",
        "zsic = ZeroShotImageClassification(model=\"ViT-B/16\")\n",
        "\n",
        "# Define the path to the folder containing the images\n",
        "image_folder_path = '/content/drive/MyDrive/dataset/train/happy'\n",
        "\n",
        "# Define the candidate labels\n",
        "candidate_labels = [\"sad\", \"sarcasm\", \"happy\"]\n",
        "\n",
        "# Initialize a dictionary to store results\n",
        "results = {}\n",
        "\n",
        "# Process each image in the folder\n",
        "for image_name in os.listdir(image_folder_path):\n",
        "    image_path = os.path.join(image_folder_path, image_name)\n",
        "    if os.path.isfile(image_path) and image_name.lower().endswith(('.png', '.jpg', '.jpeg')):\n",
        "        # Perform zero-shot image classification\n",
        "        preds = zsic(image=image_path, candidate_labels=candidate_labels)\n",
        "\n",
        "        # Find the label with the highest score\n",
        "        best_label = preds['labels'][preds['scores'].index(max(preds['scores']))]\n",
        "        best_score = max(preds['scores'])\n",
        "\n",
        "        # Store the results\n",
        "        results[image_name] = {'predicted_label': best_label, 'score': best_score}\n",
        "'''\n",
        "# Assuming true labels are stored in a dictionary called `true_labels`\n",
        "# Example: true_labels = {'image1.jpg': 'happy', 'image2.jpg': 'sad', ...}\n",
        "true_labels = {\n",
        "    'image1.jpg': 'happy',\n",
        "    'image2.jpg': 'sad',\n",
        "    # Add all your true labels here\n",
        "}\n",
        "\n",
        "# Calculate the accuracy\n",
        "correct_predictions = 0\n",
        "total_predictions = len(true_labels)\n",
        "\n",
        "for image_name, true_label in true_labels.items():\n",
        "    if image_name in results:\n",
        "        if results[image_name]['predicted_label'] == true_label:\n",
        "            correct_predictions += 1\n",
        "\n",
        "accuracy = correct_predictions / total_predictions * 100\n",
        "print(f\"Accuracy: {accuracy:.2f}%\") '''\n",
        "\n",
        "# Print the results\n",
        "for image_name, prediction in results.items():\n",
        "    print(f\"Image: {image_name}, Predicted Label: {prediction['predicted_label']}, Score: {prediction['score']}\")\n",
        "\n",
        "total_predictions = len(results)\n",
        "# Initialize the counter for 'sarcasm' predictions\n",
        "sarcasm_count = 0\n",
        "\n",
        "# Iterate over the dictionary and count 'sarcasm' predictions\n",
        "for item, prediction in results.items():\n",
        "    if prediction['predicted_label'] == 'happy':\n",
        "        sarcasm_count += 1\n",
        "\n",
        "accuracy = (sarcasm_count/total_predictions)*100\n",
        "\n",
        "print(\"Accuracy = \")\n",
        "print(accuracy)\n",
        "\n"
      ],
      "metadata": {
        "colab": {
          "base_uri": "https://localhost:8080/"
        },
        "id": "x-NyEuNWPnW0",
        "outputId": "894587df-a118-4aa2-b128-f0ee6ad4ba75"
      },
      "execution_count": null,
      "outputs": [
        {
          "output_type": "stream",
          "name": "stdout",
          "text": [
            "Loading OpenAI CLIP model ViT-B/16 ...\n",
            "Label language en ...\n",
            "Image: 2d96dea82680eb2536981127519c77d4.jpg, Predicted Label: happy, Score: 0.9414371848106384\n",
            "Image: 11759565b575c626a8c47af4adcad0b8.jpg, Predicted Label: happy, Score: 0.6524194478988647\n",
            "Image: 5861a3e7ddaa28f715405862f1341ef3.jpg, Predicted Label: happy, Score: 0.6311501860618591\n",
            "Image: 560858a383b39c00384600a9e628626b.jpg, Predicted Label: happy, Score: 0.9358047246932983\n",
            "Image: 71d28a682f76105f795e291fdcc22a7e.jpg, Predicted Label: happy, Score: 0.9576760530471802\n",
            "Image: 6c2a71ee462342f65bf4b2a63df5094a.jpg, Predicted Label: happy, Score: 0.9860645532608032\n",
            "Image: 150688ab773c7a6158c1bf95534f04c4.jpg, Predicted Label: happy, Score: 0.8224120736122131\n",
            "Image: 288d2cd0c0fdae26afcc9667d4595b7a.jpg, Predicted Label: happy, Score: 0.8285330533981323\n",
            "Image: 8c495f193ada073eae71bd2e9b88629e.jpg, Predicted Label: happy, Score: 0.9298433661460876\n",
            "Image: 440f9d126f6ab2bd6b57b72cc16588ad.jpg, Predicted Label: happy, Score: 0.9551101326942444\n",
            "Image: 50cfe8754dbfc0edb393ff0df7c44f13.jpg, Predicted Label: happy, Score: 0.9430892467498779\n",
            "Image: 1d7e2a777e2ed119d28a256687c89a2d.jpg, Predicted Label: happy, Score: 0.921642541885376\n",
            "Image: 8b59160fde440d939157c04ac5ea3f04.jpg, Predicted Label: happy, Score: 0.863254725933075\n",
            "Image: i (12).png, Predicted Label: happy, Score: 0.9435893893241882\n",
            "Image: i (25).png, Predicted Label: sad, Score: 0.40783312916755676\n",
            "Image: i (1).png, Predicted Label: happy, Score: 0.9465399384498596\n",
            "Image: c032c6ca0571d3e77a6cf025bb158176.jpg, Predicted Label: happy, Score: 0.9903287291526794\n",
            "Image: i (33).png, Predicted Label: happy, Score: 0.7584843635559082\n",
            "Image: i (16).png, Predicted Label: happy, Score: 0.8993527293205261\n",
            "Image: i (11).png, Predicted Label: happy, Score: 0.9518791437149048\n",
            "Image: i (13).png, Predicted Label: happy, Score: 0.828313946723938\n",
            "Image: i (26).png, Predicted Label: sad, Score: 0.5865790843963623\n",
            "Image: i (18).png, Predicted Label: happy, Score: 0.9563975930213928\n",
            "Image: e289d71b37fe47003334afd6831135b3.jpg, Predicted Label: happy, Score: 0.9496155977249146\n",
            "Image: i (30).png, Predicted Label: happy, Score: 0.9898295998573303\n",
            "Image: i (20).png, Predicted Label: happy, Score: 0.6562553644180298\n",
            "Image: 8e931c1db20d69ef17f999b0884deca1.jpg, Predicted Label: sarcasm, Score: 0.6172965168952942\n",
            "Image: i (10).png, Predicted Label: happy, Score: 0.6468268632888794\n",
            "Image: i (27).png, Predicted Label: happy, Score: 0.9114871025085449\n",
            "Image: dfe6f30904db8519984188700613fad0.jpg, Predicted Label: happy, Score: 0.9433233737945557\n",
            "Image: 9a8ea25aed7f282021c194d09b1123cf.jpg, Predicted Label: happy, Score: 0.9429242014884949\n",
            "Image: i (35).png, Predicted Label: sarcasm, Score: 0.880314826965332\n",
            "Image: i (14).png, Predicted Label: happy, Score: 0.8880958557128906\n",
            "Image: i (24).png, Predicted Label: happy, Score: 0.8507866859436035\n",
            "Image: i (21).png, Predicted Label: happy, Score: 0.8777344226837158\n",
            "Image: i (17).png, Predicted Label: happy, Score: 0.9394887089729309\n",
            "Image: i (3).png, Predicted Label: happy, Score: 0.5508482456207275\n",
            "Image: i (15).png, Predicted Label: happy, Score: 0.9122363328933716\n",
            "Image: download.jpeg, Predicted Label: happy, Score: 0.9382948875427246\n",
            "Image: i (31).png, Predicted Label: happy, Score: 0.6110919117927551\n",
            "Image: i (34).png, Predicted Label: happy, Score: 0.6089754104614258\n",
            "Image: i (19).png, Predicted Label: happy, Score: 0.9623836874961853\n",
            "Image: i (28).png, Predicted Label: happy, Score: 0.7083688974380493\n",
            "Image: i (22).png, Predicted Label: happy, Score: 0.9788281321525574\n",
            "Image: i (32).png, Predicted Label: happy, Score: 0.7753468751907349\n",
            "Image: 8e1b9718981921dc5c52a756e65b422a.jpg, Predicted Label: happy, Score: 0.6433766484260559\n",
            "Image: i (2).png, Predicted Label: happy, Score: 0.7115184664726257\n",
            "Image: i (23).png, Predicted Label: happy, Score: 0.5056015253067017\n",
            "Image: bfe0a6071eb45482d2816083bd52f267.jpg, Predicted Label: happy, Score: 0.8500893712043762\n",
            "Image: i (29).png, Predicted Label: happy, Score: 0.9645374417304993\n",
            "Image: 9f73d2ef8c4b6fafa2d7b3c85dd2adb6.jpg, Predicted Label: happy, Score: 0.9121635556221008\n",
            "Image: i (52).png, Predicted Label: happy, Score: 0.9846745729446411\n",
            "Image: i (40).png, Predicted Label: happy, Score: 0.8149783611297607\n",
            "Image: i (47).png, Predicted Label: happy, Score: 0.8037424683570862\n",
            "Image: i (51).png, Predicted Label: sarcasm, Score: 0.5376879572868347\n",
            "Image: i (46).png, Predicted Label: happy, Score: 0.6516649127006531\n",
            "Image: i (6).png, Predicted Label: sarcasm, Score: 0.570995032787323\n",
            "Image: i (38).png, Predicted Label: happy, Score: 0.9062685370445251\n",
            "Image: i (41).png, Predicted Label: happy, Score: 0.9473326802253723\n",
            "Image: i (48).png, Predicted Label: happy, Score: 0.7928149700164795\n",
            "Image: i (36).png, Predicted Label: happy, Score: 0.9303206205368042\n",
            "Image: i (39).png, Predicted Label: happy, Score: 0.8938578963279724\n",
            "Image: i (53).png, Predicted Label: happy, Score: 0.9851843118667603\n",
            "Image: i (54).png, Predicted Label: happy, Score: 0.8584575653076172\n",
            "Image: i (4).png, Predicted Label: happy, Score: 0.6012434959411621\n",
            "Image: i (49).png, Predicted Label: sad, Score: 0.557285487651825\n",
            "Image: i (37).png, Predicted Label: happy, Score: 0.6461751461029053\n",
            "Image: i (45).png, Predicted Label: happy, Score: 0.8615813255310059\n",
            "Image: i (42).png, Predicted Label: happy, Score: 0.8479067087173462\n",
            "Image: i (5).png, Predicted Label: happy, Score: 0.6266991496086121\n",
            "Image: i (50).png, Predicted Label: happy, Score: 0.5882603526115417\n",
            "Image: i (44).png, Predicted Label: happy, Score: 0.8291745781898499\n",
            "Image: i (43).png, Predicted Label: happy, Score: 0.8954352736473083\n",
            "Image: i (9).png, Predicted Label: happy, Score: 0.7300926446914673\n",
            "Image: i (70).png, Predicted Label: happy, Score: 0.9009731411933899\n",
            "Image: i (73).png, Predicted Label: happy, Score: 0.7575810551643372\n",
            "Image: images.jpeg, Predicted Label: happy, Score: 0.9904272556304932\n",
            "Image: i (74).png, Predicted Label: happy, Score: 0.6247564554214478\n",
            "Image: i (72).png, Predicted Label: happy, Score: 0.8089273571968079\n",
            "Image: i (7).png, Predicted Label: happy, Score: 0.7587119936943054\n",
            "Image: i (85).png, Predicted Label: happy, Score: 0.9888436794281006\n",
            "Image: i.png, Predicted Label: happy, Score: 0.9911126494407654\n",
            "Image: i (8).png, Predicted Label: happy, Score: 0.6511526107788086\n",
            "Image: i (71).png, Predicted Label: happy, Score: 0.9862684011459351\n",
            "Image: images (1).jpeg, Predicted Label: happy, Score: 0.9906930327415466\n",
            "Accuracy = \n",
            "91.76470588235294\n"
          ]
        }
      ]
    },
    {
      "cell_type": "code",
      "source": [
        "import os\n",
        "from PIL import Image\n",
        "import torch\n",
        "from transformers import pipeline\n",
        "\n",
        "# Initialize your zero-shot image classification model\n",
        "zsic = ZeroShotImageClassification(model=\"ViT-B/16\")\n",
        "\n",
        "# Define the path to the folder containing the images\n",
        "image_folder_path = '/content/drive/MyDrive/dataset/train/sad'\n",
        "\n",
        "# Define the candidate labels\n",
        "candidate_labels = [\"sad\", \"sarcasm\", \"happy\"]\n",
        "\n",
        "# Initialize a dictionary to store results\n",
        "results = {}\n",
        "\n",
        "# Process each image in the folder\n",
        "for image_name in os.listdir(image_folder_path):\n",
        "    image_path = os.path.join(image_folder_path, image_name)\n",
        "    if os.path.isfile(image_path) and image_name.lower().endswith(('.png', '.jpg', '.jpeg')):\n",
        "        # Perform zero-shot image classification\n",
        "        preds = zsic(image=image_path, candidate_labels=candidate_labels)\n",
        "\n",
        "        # Find the label with the highest score\n",
        "        best_label = preds['labels'][preds['scores'].index(max(preds['scores']))]\n",
        "        best_score = max(preds['scores'])\n",
        "\n",
        "        # Store the results\n",
        "        results[image_name] = {'predicted_label': best_label, 'score': best_score}\n",
        "'''\n",
        "# Assuming true labels are stored in a dictionary called `true_labels`\n",
        "# Example: true_labels = {'image1.jpg': 'happy', 'image2.jpg': 'sad', ...}\n",
        "true_labels = {\n",
        "    'image1.jpg': 'happy',\n",
        "    'image2.jpg': 'sad',\n",
        "    # Add all your true labels here\n",
        "}\n",
        "\n",
        "# Calculate the accuracy\n",
        "correct_predictions = 0\n",
        "total_predictions = len(true_labels)\n",
        "\n",
        "for image_name, true_label in true_labels.items():\n",
        "    if image_name in results:\n",
        "        if results[image_name]['predicted_label'] == true_label:\n",
        "            correct_predictions += 1\n",
        "\n",
        "accuracy = correct_predictions / total_predictions * 100\n",
        "print(f\"Accuracy: {accuracy:.2f}%\") '''\n",
        "\n",
        "# Print the results\n",
        "for image_name, prediction in results.items():\n",
        "    print(f\"Image: {image_name}, Predicted Label: {prediction['predicted_label']}, Score: {prediction['score']}\")\n"
      ],
      "metadata": {
        "colab": {
          "base_uri": "https://localhost:8080/"
        },
        "id": "2GMyyIibRkJG",
        "outputId": "04b6b1a1-a69a-4a2f-a0c0-e75003006e53"
      },
      "execution_count": null,
      "outputs": [
        {
          "output_type": "stream",
          "name": "stdout",
          "text": [
            "Loading OpenAI CLIP model ViT-B/16 ...\n",
            "Label language en ...\n",
            "Image: i (15).png, Predicted Label: sad, Score: 0.8788687586784363\n",
            "Image: i (16).png, Predicted Label: sad, Score: 0.8234915137290955\n",
            "Image: i (10).png, Predicted Label: sad, Score: 0.9830347299575806\n",
            "Image: i (14).png, Predicted Label: sad, Score: 0.9780772924423218\n",
            "Image: i (11).png, Predicted Label: sad, Score: 0.9380754232406616\n",
            "Image: i (13).png, Predicted Label: sad, Score: 0.980542778968811\n",
            "Image: i (12).png, Predicted Label: sad, Score: 0.9239349961280823\n",
            "Image: i (34).png, Predicted Label: sad, Score: 0.7794320583343506\n",
            "Image: i (29).png, Predicted Label: sad, Score: 0.9911777377128601\n",
            "Image: i (47).png, Predicted Label: sad, Score: 0.9679012894630432\n",
            "Image: i (18).png, Predicted Label: sad, Score: 0.8984407186508179\n",
            "Image: i (17).png, Predicted Label: sad, Score: 0.9172492623329163\n",
            "Image: i (36).png, Predicted Label: sad, Score: 0.9543363451957703\n",
            "Image: i (31).png, Predicted Label: sad, Score: 0.9241206049919128\n",
            "Image: i (44).png, Predicted Label: sad, Score: 0.6975516080856323\n",
            "Image: i (20).png, Predicted Label: sad, Score: 0.577349066734314\n",
            "Image: i (21).png, Predicted Label: sad, Score: 0.8366634845733643\n",
            "Image: i (26).png, Predicted Label: sad, Score: 0.9768238663673401\n",
            "Image: i (39).png, Predicted Label: sad, Score: 0.9855167269706726\n",
            "Image: i (45).png, Predicted Label: sad, Score: 0.8482334613800049\n",
            "Image: i (33).png, Predicted Label: sad, Score: 0.9914308190345764\n",
            "Image: i (40).png, Predicted Label: sad, Score: 0.7904289960861206\n",
            "Image: i (19).png, Predicted Label: sad, Score: 0.9870527386665344\n",
            "Image: i (37).png, Predicted Label: sad, Score: 0.6664804220199585\n",
            "Image: i (49).png, Predicted Label: happy, Score: 0.7938659191131592\n",
            "Image: i (30).png, Predicted Label: sad, Score: 0.8411073684692383\n",
            "Image: i (25).png, Predicted Label: sad, Score: 0.8889179229736328\n",
            "Image: i (23).png, Predicted Label: sad, Score: 0.8846697211265564\n",
            "Image: i (48).png, Predicted Label: sad, Score: 0.9283760190010071\n",
            "Image: i (43).png, Predicted Label: sad, Score: 0.5999472141265869\n",
            "Image: i (22).png, Predicted Label: sad, Score: 0.9726410508155823\n",
            "Image: i (24).png, Predicted Label: sad, Score: 0.9781532287597656\n",
            "Image: i (41).png, Predicted Label: sad, Score: 0.8650830388069153\n",
            "Image: i (28).png, Predicted Label: sad, Score: 0.9630570411682129\n",
            "Image: i (38).png, Predicted Label: sad, Score: 0.9930874705314636\n",
            "Image: i (27).png, Predicted Label: sarcasm, Score: 0.6526155471801758\n",
            "Image: i (4).png, Predicted Label: sad, Score: 0.889824628829956\n",
            "Image: i (32).png, Predicted Label: sad, Score: 0.9704129695892334\n",
            "Image: i (46).png, Predicted Label: sad, Score: 0.937511146068573\n",
            "Image: i (35).png, Predicted Label: sad, Score: 0.9751067161560059\n",
            "Image: i (58).png, Predicted Label: sad, Score: 0.7388424873352051\n",
            "Image: images (21).jpeg, Predicted Label: sad, Score: 0.9792326092720032\n",
            "Image: images (16).jpeg, Predicted Label: sad, Score: 0.9407110214233398\n",
            "Image: i (5).png, Predicted Label: sad, Score: 0.9420374631881714\n",
            "Image: i (53).png, Predicted Label: sarcasm, Score: 0.6512909531593323\n",
            "Image: i (7).png, Predicted Label: sad, Score: 0.9848263263702393\n",
            "Image: i (75).png, Predicted Label: sad, Score: 0.8574066162109375\n",
            "Image: i (54).png, Predicted Label: sad, Score: 0.6733518838882446\n",
            "Image: images (11).jpeg, Predicted Label: sad, Score: 0.7579650282859802\n",
            "Image: i (6).png, Predicted Label: sad, Score: 0.8658176064491272\n",
            "Image: i (52).png, Predicted Label: sad, Score: 0.816092848777771\n",
            "Image: i (9).png, Predicted Label: sad, Score: 0.9443972110748291\n",
            "Image: images (2).jpeg, Predicted Label: sad, Score: 0.963080883026123\n",
            "Image: i (57).png, Predicted Label: sad, Score: 0.8834420442581177\n",
            "Image: i (59).png, Predicted Label: sad, Score: 0.9256935119628906\n",
            "Image: i (65).png, Predicted Label: sad, Score: 0.9906378984451294\n",
            "Image: i (60).png, Predicted Label: sad, Score: 0.6870703101158142\n",
            "Image: i (50).png, Predicted Label: sad, Score: 0.8402648568153381\n",
            "Image: i.png, Predicted Label: sad, Score: 0.7225605845451355\n",
            "Image: i (51).png, Predicted Label: sad, Score: 0.9040488004684448\n",
            "Image: i (61).png, Predicted Label: sad, Score: 0.9361494779586792\n",
            "Image: i (63).png, Predicted Label: sad, Score: 0.8945615887641907\n",
            "Image: images (18).jpeg, Predicted Label: sad, Score: 0.7052539587020874\n",
            "Image: images (17).jpeg, Predicted Label: sad, Score: 0.9465230703353882\n",
            "Image: i (56).png, Predicted Label: sad, Score: 0.9335343241691589\n",
            "Image: images (12).jpeg, Predicted Label: sad, Score: 0.8867282271385193\n",
            "Image: images (20).jpeg, Predicted Label: sad, Score: 0.9579113721847534\n",
            "Image: i (62).png, Predicted Label: sad, Score: 0.9388708472251892\n",
            "Image: images (13).jpeg, Predicted Label: sad, Score: 0.8789607286453247\n",
            "Image: i (8).png, Predicted Label: sad, Score: 0.7829705476760864\n",
            "Image: images (15).jpeg, Predicted Label: sad, Score: 0.9503373503684998\n",
            "Image: i (55).png, Predicted Label: sad, Score: 0.992936909198761\n",
            "Image: images (14).jpeg, Predicted Label: sad, Score: 0.7911180257797241\n",
            "Image: images (1).jpeg, Predicted Label: sad, Score: 0.8354108333587646\n",
            "Image: i (64).png, Predicted Label: sad, Score: 0.675146758556366\n",
            "Image: images (10).jpeg, Predicted Label: sarcasm, Score: 0.7596040368080139\n",
            "Image: images (19).jpeg, Predicted Label: sad, Score: 0.9446539282798767\n",
            "Image: images (4).jpeg, Predicted Label: sad, Score: 0.938962459564209\n",
            "Image: images.jpeg, Predicted Label: sarcasm, Score: 0.536512017250061\n",
            "Image: images (6).jpeg, Predicted Label: sad, Score: 0.6203171014785767\n",
            "Image: images (9).jpeg, Predicted Label: sad, Score: 0.931323230266571\n",
            "Image: images (5).jpeg, Predicted Label: sad, Score: 0.763289213180542\n",
            "Image: images (3).jpeg, Predicted Label: sad, Score: 0.7926680445671082\n",
            "Image: images (7).jpeg, Predicted Label: sarcasm, Score: 0.4479776918888092\n",
            "Image: images (8).jpeg, Predicted Label: sad, Score: 0.7744061946868896\n"
          ]
        }
      ]
    }
  ]
}