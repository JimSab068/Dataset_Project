{
 "cells": [
  {
   "cell_type": "code",
   "execution_count": 4,
   "metadata": {
    "scrolled": true
   },
   "outputs": [
    {
     "name": "stdout",
     "output_type": "stream",
     "text": [
      "Keyring is skipped due to an exception: 'keyring.backends'\n",
      "Collecting tensorflow\n",
      "  Using cached tensorflow-2.11.0-cp37-cp37m-manylinux_2_17_x86_64.manylinux2014_x86_64.whl (588.3 MB)\n",
      "Collecting tensorboard<2.12,>=2.11\n",
      "  Using cached tensorboard-2.11.2-py3-none-any.whl (6.0 MB)\n",
      "Requirement already satisfied: wrapt>=1.11.0 in ./anaconda3/lib/python3.7/site-packages (from tensorflow) (1.11.2)\n",
      "Requirement already satisfied: gast<=0.4.0,>=0.2.1 in ./anaconda3/lib/python3.7/site-packages (from tensorflow) (0.4.0)\n",
      "Requirement already satisfied: h5py>=2.9.0 in ./anaconda3/lib/python3.7/site-packages (from tensorflow) (2.10.0)\n",
      "Requirement already satisfied: packaging in ./anaconda3/lib/python3.7/site-packages (from tensorflow) (20.1)\n",
      "Requirement already satisfied: astunparse>=1.6.0 in ./anaconda3/lib/python3.7/site-packages (from tensorflow) (1.6.3)\n",
      "Requirement already satisfied: protobuf<3.20,>=3.9.2 in ./anaconda3/lib/python3.7/site-packages (from tensorflow) (3.19.6)\n",
      "Requirement already satisfied: google-pasta>=0.1.1 in ./anaconda3/lib/python3.7/site-packages (from tensorflow) (0.2.0)\n",
      "Requirement already satisfied: six>=1.12.0 in ./anaconda3/lib/python3.7/site-packages (from tensorflow) (1.14.0)\n",
      "Collecting tensorflow-estimator<2.12,>=2.11.0\n",
      "  Using cached tensorflow_estimator-2.11.0-py2.py3-none-any.whl (439 kB)\n",
      "Requirement already satisfied: setuptools in ./anaconda3/lib/python3.7/site-packages (from tensorflow) (45.2.0.post20200210)\n",
      "Requirement already satisfied: absl-py>=1.0.0 in ./anaconda3/lib/python3.7/site-packages (from tensorflow) (2.1.0)\n",
      "Requirement already satisfied: flatbuffers>=2.0 in ./anaconda3/lib/python3.7/site-packages (from tensorflow) (24.3.25)\n",
      "Requirement already satisfied: typing-extensions>=3.6.6 in ./anaconda3/lib/python3.7/site-packages (from tensorflow) (4.7.1)\n",
      "Requirement already satisfied: libclang>=13.0.0 in ./anaconda3/lib/python3.7/site-packages (from tensorflow) (18.1.1)\n",
      "Requirement already satisfied: grpcio<2.0,>=1.24.3 in ./anaconda3/lib/python3.7/site-packages (from tensorflow) (1.62.2)\n",
      "Requirement already satisfied: keras<2.12,>=2.11.0 in ./anaconda3/lib/python3.7/site-packages (from tensorflow) (2.11.0)\n",
      "Requirement already satisfied: numpy>=1.20 in ./anaconda3/lib/python3.7/site-packages (from tensorflow) (1.21.6)\n",
      "Requirement already satisfied: opt-einsum>=2.3.2 in ./anaconda3/lib/python3.7/site-packages (from tensorflow) (3.3.0)\n",
      "Requirement already satisfied: termcolor>=1.1.0 in ./anaconda3/lib/python3.7/site-packages (from tensorflow) (2.3.0)\n",
      "Requirement already satisfied: tensorflow-io-gcs-filesystem>=0.23.1; platform_machine != \"arm64\" or platform_system != \"Darwin\" in ./anaconda3/lib/python3.7/site-packages (from tensorflow) (0.34.0)\n",
      "Requirement already satisfied: google-auth<3,>=1.6.3 in ./anaconda3/lib/python3.7/site-packages (from tensorboard<2.12,>=2.11->tensorflow) (2.29.0)\n",
      "Requirement already satisfied: wheel>=0.26 in ./anaconda3/lib/python3.7/site-packages (from tensorboard<2.12,>=2.11->tensorflow) (0.34.2)\n",
      "Requirement already satisfied: requests<3,>=2.21.0 in ./anaconda3/lib/python3.7/site-packages (from tensorboard<2.12,>=2.11->tensorflow) (2.22.0)\n",
      "Collecting werkzeug>=1.0.1\n",
      "  Using cached Werkzeug-2.2.3-py3-none-any.whl (233 kB)\n",
      "Requirement already satisfied: google-auth-oauthlib<0.5,>=0.4.1 in ./anaconda3/lib/python3.7/site-packages (from tensorboard<2.12,>=2.11->tensorflow) (0.4.6)\n",
      "Requirement already satisfied: tensorboard-plugin-wit>=1.6.0 in ./anaconda3/lib/python3.7/site-packages (from tensorboard<2.12,>=2.11->tensorflow) (1.8.1)\n",
      "Requirement already satisfied: tensorboard-data-server<0.7.0,>=0.6.0 in ./anaconda3/lib/python3.7/site-packages (from tensorboard<2.12,>=2.11->tensorflow) (0.6.1)\n",
      "Requirement already satisfied: markdown>=2.6.8 in ./anaconda3/lib/python3.7/site-packages (from tensorboard<2.12,>=2.11->tensorflow) (3.4.4)\n",
      "Requirement already satisfied: pyparsing>=2.0.2 in ./anaconda3/lib/python3.7/site-packages (from packaging->tensorflow) (2.4.6)\n",
      "Requirement already satisfied: rsa<5,>=3.1.4 in ./anaconda3/lib/python3.7/site-packages (from google-auth<3,>=1.6.3->tensorboard<2.12,>=2.11->tensorflow) (4.9)\n",
      "Requirement already satisfied: pyasn1-modules>=0.2.1 in ./anaconda3/lib/python3.7/site-packages (from google-auth<3,>=1.6.3->tensorboard<2.12,>=2.11->tensorflow) (0.3.0)\n",
      "Requirement already satisfied: cachetools<6.0,>=2.0.0 in ./anaconda3/lib/python3.7/site-packages (from google-auth<3,>=1.6.3->tensorboard<2.12,>=2.11->tensorflow) (5.3.3)\n",
      "Requirement already satisfied: urllib3!=1.25.0,!=1.25.1,<1.26,>=1.21.1 in ./anaconda3/lib/python3.7/site-packages (from requests<3,>=2.21.0->tensorboard<2.12,>=2.11->tensorflow) (1.25.8)\n",
      "Requirement already satisfied: idna<2.9,>=2.5 in ./anaconda3/lib/python3.7/site-packages (from requests<3,>=2.21.0->tensorboard<2.12,>=2.11->tensorflow) (2.8)\n",
      "Requirement already satisfied: certifi>=2017.4.17 in ./anaconda3/lib/python3.7/site-packages (from requests<3,>=2.21.0->tensorboard<2.12,>=2.11->tensorflow) (2019.11.28)\n",
      "Requirement already satisfied: chardet<3.1.0,>=3.0.2 in ./anaconda3/lib/python3.7/site-packages (from requests<3,>=2.21.0->tensorboard<2.12,>=2.11->tensorflow) (3.0.4)\n",
      "Requirement already satisfied: MarkupSafe>=2.1.1 in ./anaconda3/lib/python3.7/site-packages (from werkzeug>=1.0.1->tensorboard<2.12,>=2.11->tensorflow) (2.1.5)\n",
      "Requirement already satisfied: requests-oauthlib>=0.7.0 in ./anaconda3/lib/python3.7/site-packages (from google-auth-oauthlib<0.5,>=0.4.1->tensorboard<2.12,>=2.11->tensorflow) (2.0.0)\n",
      "Requirement already satisfied: importlib-metadata>=4.4; python_version < \"3.10\" in ./anaconda3/lib/python3.7/site-packages (from markdown>=2.6.8->tensorboard<2.12,>=2.11->tensorflow) (6.7.0)\n",
      "Requirement already satisfied: pyasn1>=0.1.3 in ./anaconda3/lib/python3.7/site-packages (from rsa<5,>=3.1.4->google-auth<3,>=1.6.3->tensorboard<2.12,>=2.11->tensorflow) (0.5.1)\n",
      "Requirement already satisfied: oauthlib>=3.0.0 in ./anaconda3/lib/python3.7/site-packages (from requests-oauthlib>=0.7.0->google-auth-oauthlib<0.5,>=0.4.1->tensorboard<2.12,>=2.11->tensorflow) (3.2.2)\n",
      "Requirement already satisfied: zipp>=0.5 in ./anaconda3/lib/python3.7/site-packages (from importlib-metadata>=4.4; python_version < \"3.10\"->markdown>=2.6.8->tensorboard<2.12,>=2.11->tensorflow) (2.2.0)\n",
      "Installing collected packages: werkzeug, tensorboard, tensorflow-estimator, tensorflow\n",
      "  Attempting uninstall: werkzeug\n",
      "    Found existing installation: Werkzeug 1.0.0\n",
      "    Uninstalling Werkzeug-1.0.0:\n",
      "      Successfully uninstalled Werkzeug-1.0.0\n",
      "Successfully installed tensorboard-2.11.2 tensorflow-2.11.0 tensorflow-estimator-2.11.0 werkzeug-2.2.3\n"
     ]
    }
   ],
   "source": [
    "!pip install tensorflow "
   ]
  },
  {
   "cell_type": "code",
   "execution_count": 5,
   "metadata": {
    "id": "RoHIWmUWdTYW",
    "scrolled": true
   },
   "outputs": [],
   "source": [
    "import os\n",
    "import shutil\n",
    "import zipfile\n",
    "import tensorflow as tf"
   ]
  },
  {
   "cell_type": "code",
   "execution_count": 6,
   "metadata": {
    "id": "jYYoBOFHe7vk"
   },
   "outputs": [],
   "source": [
    "# Function to rename files in a folder\n",
    "def rename_files(folder_path, label):\n",
    "    # List all files in the folder\n",
    "    files = os.listdir(folder_path)\n",
    "\n",
    "    # Filter to include only .gif files\n",
    "    gif_files = [f for f in files if f.endswith('.gif')]\n",
    "\n",
    "    # Rename each file\n",
    "    for index, filename in enumerate(gif_files):\n",
    "        # Construct new file name\n",
    "        new_name = f\"{label}_{index + 1}.gif\"\n",
    "\n",
    "        # Get full path for the old and new file names\n",
    "        old_file = os.path.join(folder_path, filename)\n",
    "        new_file = os.path.join(folder_path, new_name)\n",
    "\n",
    "        # Rename the file\n",
    "        os.rename(old_file, new_file)\n",
    "    print(f\"Renamed files in {folder_path} to {label}_#.gif\")"
   ]
  },
  {
   "cell_type": "code",
   "execution_count": 8,
   "metadata": {
    "id": "4Y6BwFk8e7yK"
   },
   "outputs": [],
   "source": [
    "# Extract the zip file\n",
    "zip_file_path = '/dgxa_home/se20ucse083/gif_data.zip'\n",
    "extracted_folder = 'gif_data_extracted.zip'\n",
    "with zipfile.ZipFile(zip_file_path, 'r') as zip_ref:\n",
    "    zip_ref.extractall(extracted_folder)"
   ]
  },
  {
   "cell_type": "code",
   "execution_count": 9,
   "metadata": {
    "id": "KW-s5Whme70v"
   },
   "outputs": [],
   "source": [
    "# Paths to the extracted folders\n",
    "sad_folder = os.path.join(extracted_folder, 'Sad_2')\n",
    "happy_folder = os.path.join(extracted_folder, 'Happy_3')"
   ]
  },
  {
   "cell_type": "code",
   "execution_count": 10,
   "metadata": {
    "id": "BU9ZR00AfCWB"
   },
   "outputs": [
    {
     "name": "stdout",
     "output_type": "stream",
     "text": [
      "Renamed files in gif_data_extracted.zip/Sad_2 to sad_#.gif\n",
      "Renamed files in gif_data_extracted.zip/Happy_3 to happy_#.gif\n"
     ]
    }
   ],
   "source": [
    "# Rename the files in each folder\n",
    "rename_files(sad_folder, 'sad')\n",
    "rename_files(happy_folder, 'happy')"
   ]
  },
  {
   "cell_type": "code",
   "execution_count": 11,
   "metadata": {
    "id": "TOV_dqrRfCY6"
   },
   "outputs": [],
   "source": [
    "# Load and preprocess data without data augmentation\n",
    "def load_data(data_dir, image_size, batch_size, validation_split=0.35):\n",
    "    # Load and preprocess training data with validation split\n",
    "    train_data = tf.keras.utils.image_dataset_from_directory(\n",
    "        data_dir,\n",
    "        labels='inferred',\n",
    "        label_mode='categorical',\n",
    "        color_mode='rgb',\n",
    "        batch_size=batch_size,\n",
    "        image_size=image_size,\n",
    "        validation_split=validation_split,\n",
    "        subset='training',\n",
    "        seed=123\n",
    "    )\n",
    "\n",
    "    # Load and preprocess validation data with validation split\n",
    "    val_data = tf.keras.utils.image_dataset_from_directory(\n",
    "        data_dir,\n",
    "        labels='inferred',\n",
    "        label_mode='categorical',\n",
    "        color_mode='rgb',\n",
    "        batch_size=batch_size,\n",
    "        image_size=image_size,\n",
    "        validation_split=validation_split,\n",
    "        subset='validation',\n",
    "        seed=123\n",
    "    )\n",
    "\n",
    "    return train_data, val_data"
   ]
  },
  {
   "cell_type": "code",
   "execution_count": 12,
   "metadata": {
    "id": "5ry_0F4PfCbg"
   },
   "outputs": [],
   "source": [
    "# Set parameters (gloabl for all algo)\n",
    "data_dir = '/dgxa_home/se20ucse083/gif_data_extracted.zip'\n",
    "image_size = (224, 224)\n",
    "batch_size = 32\n",
    "num_classes = 2"
   ]
  },
  {
   "cell_type": "code",
   "execution_count": 13,
   "metadata": {
    "id": "oFgHyTKufK0t"
   },
   "outputs": [],
   "source": [
    "# Calculate class weights to handle class imbalance\n",
    "def calculate_class_weights(data_dir):\n",
    "    # Count the number of samples in each class\n",
    "    class_counts = {}\n",
    "    for class_name in os.listdir(data_dir):\n",
    "        class_path = os.path.join(data_dir, class_name)\n",
    "        class_counts[class_name] = len(os.listdir(class_path))\n",
    "\n",
    "\n",
    "    # Calculate class weights\n",
    "    total_samples = sum(class_counts.values())\n",
    "    class_weights = {}\n",
    "    for class_name, count in class_counts.items():\n",
    "        class_weights[class_name] = total_samples / (len(class_counts) * count)\n",
    "\n",
    "    return class_weights"
   ]
  },
  {
   "cell_type": "code",
   "execution_count": 14,
   "metadata": {
    "id": "1jHOAigRfJQH"
   },
   "outputs": [
    {
     "name": "stdout",
     "output_type": "stream",
     "text": [
      "Found 2354 files belonging to 2 classes.\n",
      "Using 1531 files for training.\n",
      "Found 2354 files belonging to 2 classes.\n",
      "Using 823 files for validation.\n"
     ]
    }
   ],
   "source": [
    "# Load the data (global for all algo)\n",
    "train_data, val_data = load_data(data_dir, image_size, batch_size)"
   ]
  },
  {
   "cell_type": "code",
   "execution_count": 15,
   "metadata": {
    "id": "dqIlu9B6fJVC"
   },
   "outputs": [
    {
     "data": {
      "text/plain": [
       "{'Happy_3': 0.6023541453428863, 'Sad_2': 2.9425}"
      ]
     },
     "execution_count": 15,
     "metadata": {},
     "output_type": "execute_result"
    }
   ],
   "source": [
    "calculate_class_weights(data_dir)"
   ]
  },
  {
   "cell_type": "markdown",
   "metadata": {
    "id": "X6oZoo6ffQN8"
   },
   "source": [
    "vgg"
   ]
  },
  {
   "cell_type": "code",
   "execution_count": 26,
   "metadata": {
    "id": "0oelmge8fc2J"
   },
   "outputs": [],
   "source": [
    "import os\n",
    "import zipfile\n",
    "import shutil\n",
    "import numpy as np\n",
    "import tensorflow as tf\n",
    "from tensorflow.keras.layers import Dense, GlobalAveragePooling2D, Dropout\n",
    "from tensorflow.keras.preprocessing.image import ImageDataGenerator\n",
    "from sklearn.model_selection import train_test_split\n",
    "from tensorflow.keras.callbacks import EarlyStopping, ReduceLROnPlateau\n",
    "from tensorflow.keras.applications import VGG16\n",
    "from sklearn.metrics import roc_curve, auc"
   ]
  },
  {
   "cell_type": "code",
   "execution_count": 29,
   "metadata": {},
   "outputs": [
    {
     "name": "stdout",
     "output_type": "stream",
     "text": [
      "Keyring is skipped due to an exception: 'keyring.backends'\n",
      "Requirement already satisfied: matplotlib in ./anaconda3/lib/python3.7/site-packages (3.1.3)\n",
      "Requirement already satisfied: kiwisolver>=1.0.1 in ./anaconda3/lib/python3.7/site-packages (from matplotlib) (1.1.0)\n",
      "Requirement already satisfied: python-dateutil>=2.1 in ./anaconda3/lib/python3.7/site-packages (from matplotlib) (2.8.1)\n",
      "Requirement already satisfied: pyparsing!=2.0.4,!=2.1.2,!=2.1.6,>=2.0.1 in ./anaconda3/lib/python3.7/site-packages (from matplotlib) (2.4.6)\n",
      "Requirement already satisfied: cycler>=0.10 in ./anaconda3/lib/python3.7/site-packages (from matplotlib) (0.10.0)\n",
      "Requirement already satisfied: numpy>=1.11 in ./anaconda3/lib/python3.7/site-packages (from matplotlib) (1.21.6)\n",
      "Requirement already satisfied: setuptools in ./anaconda3/lib/python3.7/site-packages (from kiwisolver>=1.0.1->matplotlib) (45.2.0.post20200210)\n",
      "Requirement already satisfied: six>=1.5 in ./anaconda3/lib/python3.7/site-packages (from python-dateutil>=2.1->matplotlib) (1.14.0)\n"
     ]
    }
   ],
   "source": [
    "!pip install matplotlib\n",
    "import matplotlib.pyplot as plt"
   ]
  },
  {
   "cell_type": "code",
   "execution_count": 17,
   "metadata": {
    "id": "wXpZDshPfffW"
   },
   "outputs": [
    {
     "name": "stdout",
     "output_type": "stream",
     "text": [
      "Downloading data from https://storage.googleapis.com/tensorflow/keras-applications/vgg16/vgg16_weights_tf_dim_ordering_tf_kernels_notop.h5\n",
      "58889256/58889256 [==============================] - 4s 0us/step\n"
     ]
    }
   ],
   "source": [
    "# Load pre-trained VGG16 model without top layers\n",
    "base_model = VGG16(weights='imagenet', include_top=False, input_shape=(image_size[0], image_size[1], 3))"
   ]
  },
  {
   "cell_type": "code",
   "execution_count": 18,
   "metadata": {
    "id": "nF7dJOtXffiW"
   },
   "outputs": [],
   "source": [
    "# Add custom classification layers on top of VGG16\n",
    "x = base_model.output\n",
    "x = GlobalAveragePooling2D()(x)\n",
    "x = Dense(256, activation='relu')(x)\n",
    "x = Dropout(0.5)(x)  # Dropout for regularization\n",
    "predictions = Dense(num_classes, activation='softmax')(x)"
   ]
  },
  {
   "cell_type": "code",
   "execution_count": 19,
   "metadata": {
    "id": "ak7B6PojffmQ"
   },
   "outputs": [],
   "source": [
    "#Model to be trained\n",
    "model_vgg = tf.keras.Model(inputs=base_model.input, outputs=predictions)"
   ]
  },
  {
   "cell_type": "code",
   "execution_count": 20,
   "metadata": {
    "id": "scBzMu3affpa"
   },
   "outputs": [],
   "source": [
    "# Freeze the pre-trained layers\n",
    "for layer in base_model.layers:\n",
    "    layer.trainable = False"
   ]
  },
  {
   "cell_type": "code",
   "execution_count": 21,
   "metadata": {
    "id": "zIpviBxTfqKL"
   },
   "outputs": [],
   "source": [
    "# Compile the model\n",
    "model_vgg.compile(optimizer='adam', loss='categorical_crossentropy', metrics=['accuracy'])"
   ]
  },
  {
   "cell_type": "code",
   "execution_count": 23,
   "metadata": {
    "id": "L4PcpuUCfqUL",
    "scrolled": true
   },
   "outputs": [
    {
     "name": "stdout",
     "output_type": "stream",
     "text": [
      "Epoch 1/50\n",
      "48/48 [==============================] - 250s 5s/step - loss: 0.4164 - accuracy: 0.8328 - val_loss: 0.5234 - val_accuracy: 0.8177\n",
      "Epoch 2/50\n",
      "48/48 [==============================] - 247s 5s/step - loss: 0.3721 - accuracy: 0.8517 - val_loss: 0.4878 - val_accuracy: 0.8190\n",
      "Epoch 3/50\n",
      "48/48 [==============================] - 249s 5s/step - loss: 0.3276 - accuracy: 0.8563 - val_loss: 0.4846 - val_accuracy: 0.8202\n",
      "Epoch 4/50\n",
      "48/48 [==============================] - 246s 5s/step - loss: 0.2862 - accuracy: 0.8877 - val_loss: 0.5195 - val_accuracy: 0.8226\n",
      "Epoch 5/50\n",
      "48/48 [==============================] - 248s 5s/step - loss: 0.2391 - accuracy: 0.9059 - val_loss: 0.5494 - val_accuracy: 0.8238\n",
      "Epoch 6/50\n",
      "48/48 [==============================] - 250s 5s/step - loss: 0.2294 - accuracy: 0.9059 - val_loss: 0.5266 - val_accuracy: 0.8165\n",
      "Epoch 7/50\n",
      "48/48 [==============================] - 249s 5s/step - loss: 0.1990 - accuracy: 0.9262 - val_loss: 0.5175 - val_accuracy: 0.8250\n",
      "Epoch 8/50\n",
      "48/48 [==============================] - 247s 5s/step - loss: 0.1848 - accuracy: 0.9268 - val_loss: 0.5775 - val_accuracy: 0.8238\n",
      "Epoch 9/50\n",
      "48/48 [==============================] - 254s 5s/step - loss: 0.1647 - accuracy: 0.9347 - val_loss: 0.5414 - val_accuracy: 0.8141\n",
      "Epoch 10/50\n",
      "48/48 [==============================] - 248s 5s/step - loss: 0.1453 - accuracy: 0.9438 - val_loss: 0.5732 - val_accuracy: 0.8129\n",
      "Epoch 11/50\n",
      "48/48 [==============================] - 246s 5s/step - loss: 0.1263 - accuracy: 0.9504 - val_loss: 0.6148 - val_accuracy: 0.8141\n",
      "Epoch 12/50\n",
      "48/48 [==============================] - 247s 5s/step - loss: 0.1070 - accuracy: 0.9608 - val_loss: 0.6259 - val_accuracy: 0.8153\n",
      "Epoch 13/50\n",
      "48/48 [==============================] - 254s 5s/step - loss: 0.1184 - accuracy: 0.9549 - val_loss: 0.5894 - val_accuracy: 0.8165\n",
      "Epoch 14/50\n",
      "48/48 [==============================] - 251s 5s/step - loss: 0.1089 - accuracy: 0.9621 - val_loss: 0.6484 - val_accuracy: 0.8214\n",
      "Epoch 15/50\n",
      "48/48 [==============================] - 246s 5s/step - loss: 0.1190 - accuracy: 0.9615 - val_loss: 0.6177 - val_accuracy: 0.8190\n",
      "Epoch 16/50\n",
      "48/48 [==============================] - 248s 5s/step - loss: 0.0982 - accuracy: 0.9673 - val_loss: 0.6485 - val_accuracy: 0.8153\n",
      "Epoch 17/50\n",
      "48/48 [==============================] - 248s 5s/step - loss: 0.0703 - accuracy: 0.9771 - val_loss: 0.7282 - val_accuracy: 0.8153\n",
      "Epoch 18/50\n",
      "48/48 [==============================] - 251s 5s/step - loss: 0.0679 - accuracy: 0.9771 - val_loss: 0.7846 - val_accuracy: 0.8214\n",
      "Epoch 19/50\n",
      "48/48 [==============================] - 248s 5s/step - loss: 0.0723 - accuracy: 0.9758 - val_loss: 0.7409 - val_accuracy: 0.8165\n",
      "Epoch 20/50\n",
      "48/48 [==============================] - 250s 5s/step - loss: 0.0794 - accuracy: 0.9726 - val_loss: 0.6969 - val_accuracy: 0.8165\n",
      "Epoch 21/50\n",
      "48/48 [==============================] - 264s 5s/step - loss: 0.0720 - accuracy: 0.9745 - val_loss: 0.6913 - val_accuracy: 0.8141\n",
      "Epoch 22/50\n",
      "48/48 [==============================] - 248s 5s/step - loss: 0.0656 - accuracy: 0.9778 - val_loss: 0.7153 - val_accuracy: 0.8117\n",
      "Epoch 23/50\n",
      "48/48 [==============================] - 250s 5s/step - loss: 0.0565 - accuracy: 0.9778 - val_loss: 0.8450 - val_accuracy: 0.8056\n",
      "Epoch 24/50\n",
      "48/48 [==============================] - 248s 5s/step - loss: 0.0465 - accuracy: 0.9876 - val_loss: 0.8378 - val_accuracy: 0.8129\n",
      "Epoch 25/50\n",
      "48/48 [==============================] - 250s 5s/step - loss: 0.0448 - accuracy: 0.9863 - val_loss: 0.8088 - val_accuracy: 0.8129\n",
      "Epoch 26/50\n",
      "48/48 [==============================] - 249s 5s/step - loss: 0.0585 - accuracy: 0.9817 - val_loss: 0.9334 - val_accuracy: 0.8141\n",
      "Epoch 27/50\n",
      "48/48 [==============================] - 247s 5s/step - loss: 0.0474 - accuracy: 0.9850 - val_loss: 0.8811 - val_accuracy: 0.8165\n",
      "Epoch 28/50\n",
      "48/48 [==============================] - 266s 5s/step - loss: 0.0464 - accuracy: 0.9850 - val_loss: 0.8699 - val_accuracy: 0.8117\n",
      "Epoch 29/50\n",
      "48/48 [==============================] - 251s 5s/step - loss: 0.0508 - accuracy: 0.9804 - val_loss: 0.8285 - val_accuracy: 0.8129\n",
      "Epoch 30/50\n",
      "48/48 [==============================] - 241s 5s/step - loss: 0.0555 - accuracy: 0.9817 - val_loss: 0.8044 - val_accuracy: 0.8129\n",
      "Epoch 31/50\n",
      "48/48 [==============================] - 245s 5s/step - loss: 0.0373 - accuracy: 0.9922 - val_loss: 0.8922 - val_accuracy: 0.8092\n",
      "Epoch 32/50\n",
      "48/48 [==============================] - 241s 5s/step - loss: 0.0436 - accuracy: 0.9850 - val_loss: 0.8937 - val_accuracy: 0.8129\n",
      "Epoch 33/50\n",
      "48/48 [==============================] - 242s 5s/step - loss: 0.0398 - accuracy: 0.9876 - val_loss: 0.8855 - val_accuracy: 0.8117\n",
      "Epoch 34/50\n",
      "48/48 [==============================] - 236s 5s/step - loss: 0.0532 - accuracy: 0.9830 - val_loss: 0.7875 - val_accuracy: 0.8007\n",
      "Epoch 35/50\n",
      "48/48 [==============================] - 235s 5s/step - loss: 0.0561 - accuracy: 0.9824 - val_loss: 1.1714 - val_accuracy: 0.8104\n",
      "Epoch 36/50\n",
      "48/48 [==============================] - 237s 5s/step - loss: 0.0468 - accuracy: 0.9882 - val_loss: 0.9585 - val_accuracy: 0.8129\n",
      "Epoch 37/50\n",
      "48/48 [==============================] - 238s 5s/step - loss: 0.0285 - accuracy: 0.9922 - val_loss: 0.9712 - val_accuracy: 0.8104\n",
      "Epoch 38/50\n",
      "48/48 [==============================] - 236s 5s/step - loss: 0.0324 - accuracy: 0.9882 - val_loss: 0.9899 - val_accuracy: 0.8190\n",
      "Epoch 39/50\n",
      "48/48 [==============================] - 235s 5s/step - loss: 0.0346 - accuracy: 0.9889 - val_loss: 0.9033 - val_accuracy: 0.8129\n",
      "Epoch 40/50\n",
      "48/48 [==============================] - 235s 5s/step - loss: 0.0411 - accuracy: 0.9882 - val_loss: 0.9798 - val_accuracy: 0.8177\n",
      "Epoch 41/50\n",
      "48/48 [==============================] - 236s 5s/step - loss: 0.0414 - accuracy: 0.9856 - val_loss: 1.0342 - val_accuracy: 0.8129\n",
      "Epoch 42/50\n",
      "48/48 [==============================] - 235s 5s/step - loss: 0.0563 - accuracy: 0.9798 - val_loss: 0.9709 - val_accuracy: 0.8104\n",
      "Epoch 43/50\n",
      "48/48 [==============================] - 240s 5s/step - loss: 0.0509 - accuracy: 0.9824 - val_loss: 0.8917 - val_accuracy: 0.8068\n",
      "Epoch 44/50\n",
      "48/48 [==============================] - 237s 5s/step - loss: 0.0458 - accuracy: 0.9850 - val_loss: 1.2624 - val_accuracy: 0.8226\n",
      "Epoch 45/50\n",
      "48/48 [==============================] - 236s 5s/step - loss: 0.0470 - accuracy: 0.9843 - val_loss: 0.9535 - val_accuracy: 0.8141\n",
      "Epoch 46/50\n",
      "48/48 [==============================] - 235s 5s/step - loss: 0.0275 - accuracy: 0.9915 - val_loss: 0.9461 - val_accuracy: 0.8032\n",
      "Epoch 47/50\n",
      "48/48 [==============================] - 236s 5s/step - loss: 0.0347 - accuracy: 0.9876 - val_loss: 1.1266 - val_accuracy: 0.8104\n",
      "Epoch 48/50\n",
      "48/48 [==============================] - 236s 5s/step - loss: 0.0494 - accuracy: 0.9784 - val_loss: 1.1549 - val_accuracy: 0.8214\n",
      "Epoch 49/50\n",
      "48/48 [==============================] - 237s 5s/step - loss: 0.0620 - accuracy: 0.9791 - val_loss: 0.8903 - val_accuracy: 0.8007\n",
      "Epoch 50/50\n",
      "48/48 [==============================] - 239s 5s/step - loss: 0.0468 - accuracy: 0.9876 - val_loss: 1.1341 - val_accuracy: 0.8056\n"
     ]
    }
   ],
   "source": [
    "# train with dgx----------------------------------------------------------------\n",
    "history = model_vgg.fit(train_data, epochs=50, validation_data=val_data)"
   ]
  },
  {
   "cell_type": "code",
   "execution_count": 24,
   "metadata": {
    "id": "B6ei3_eyfuQo"
   },
   "outputs": [
    {
     "name": "stdout",
     "output_type": "stream",
     "text": [
      "Evaluating the model...\n",
      "Training loss for vgg: 0.00635549845173955\n",
      "Training accuracy for vgg: 0.9986936450004578\n",
      "Evaluating the model...\n",
      "val loss for vgg: 1.1341410875320435\n",
      "val accuracy for vgg: 0.8055893182754517\n"
     ]
    }
   ],
   "source": [
    "# Evaluate the model on the training data\n",
    "print(\"Evaluating the model...\")\n",
    "train_loss, train_accuracy = model_vgg.evaluate(train_data, verbose=0)\n",
    "print(f\"Training loss for vgg: {train_loss}\")\n",
    "print(f\"Training accuracy for vgg: {train_accuracy}\")\n",
    "\n",
    "# Evaluate the model on the validation data\n",
    "print(\"Evaluating the model...\")\n",
    "Val_loss, val_acc = model_vgg.evaluate(val_data, verbose=0)\n",
    "print(f\"val loss for vgg: {Val_loss}\")\n",
    "print(f\"val accuracy for vgg: {val_acc}\")"
   ]
  },
  {
   "cell_type": "code",
   "execution_count": 25,
   "metadata": {
    "id": "H2jlHITwfuUL"
   },
   "outputs": [
    {
     "name": "stdout",
     "output_type": "stream",
     "text": [
      "26/26 [==============================] - 84s 3s/step\n"
     ]
    }
   ],
   "source": [
    "y_pred = model_vgg.predict(val_data)\n",
    "y_true = np.concatenate([y for x, y in val_data], axis=0)"
   ]
  },
  {
   "cell_type": "code",
   "execution_count": 27,
   "metadata": {
    "id": "QGdBl6vJfuXB"
   },
   "outputs": [
    {
     "name": "stdout",
     "output_type": "stream",
     "text": [
      "{0: array([0.        , 0.        , 0.12582781, 0.14569536, 0.16556291,\n",
      "       0.17218543, 0.17880795, 0.17880795, 0.18543046, 0.19205298,\n",
      "       0.19205298, 0.1986755 , 0.1986755 , 0.1986755 , 0.1986755 ,\n",
      "       0.1986755 , 0.1986755 , 0.1986755 , 0.20529801, 0.20529801,\n",
      "       0.21192053, 0.21854305, 0.22516556, 0.22516556, 0.22516556,\n",
      "       0.22516556, 0.22516556, 0.22516556, 0.22516556, 0.23178808,\n",
      "       0.23178808, 0.23178808, 0.23178808, 0.23178808, 0.23178808,\n",
      "       0.23178808, 0.23178808, 0.2384106 , 0.2384106 , 0.24503311,\n",
      "       0.24503311, 0.24503311, 0.24503311, 0.25165563, 0.25165563,\n",
      "       0.25827815, 0.26490066, 0.26490066, 0.27152318, 0.27152318,\n",
      "       0.2781457 , 0.2781457 , 0.2781457 , 0.2781457 , 0.2781457 ,\n",
      "       0.2781457 , 0.28476821, 0.28476821, 0.29139073, 0.29139073,\n",
      "       0.30463576, 0.30463576, 0.31125828, 0.31125828, 0.31125828,\n",
      "       0.31125828, 0.31788079, 0.31788079, 0.32450331, 0.32450331,\n",
      "       0.33774834, 0.33774834, 0.34437086, 0.34437086, 0.36423841,\n",
      "       0.36423841, 0.37086093, 0.37086093, 0.37748344, 0.37748344,\n",
      "       0.38410596, 0.38410596, 0.39072848, 0.39072848, 0.39735099,\n",
      "       0.39735099, 0.40397351, 0.40397351, 0.41059603, 0.41059603,\n",
      "       0.41721854, 0.41721854, 0.42384106, 0.42384106, 0.43708609,\n",
      "       0.43708609, 0.45033113, 0.45033113, 0.45695364, 0.45695364,\n",
      "       0.46357616, 0.46357616, 0.47682119, 0.47682119, 0.48344371,\n",
      "       0.48344371, 0.49006623, 0.49006623, 0.49668874, 0.49668874,\n",
      "       0.50331126, 0.50331126, 0.52317881, 0.52317881, 0.54304636,\n",
      "       0.54304636, 0.54966887, 0.54966887, 0.55629139, 0.55629139,\n",
      "       0.56291391, 0.56291391, 0.56953642, 0.56953642, 0.57615894,\n",
      "       0.57615894, 0.58278146, 0.58278146, 0.59602649, 0.59602649,\n",
      "       0.60264901, 0.60264901, 0.60927152, 0.60927152, 0.62251656,\n",
      "       0.62251656, 0.62913907, 0.62913907, 0.63576159, 0.63576159,\n",
      "       0.64238411, 0.64238411, 0.65562914, 0.65562914, 0.66887417,\n",
      "       0.66887417, 0.67549669, 0.67549669, 0.68874172, 0.68874172,\n",
      "       0.69536424, 0.69536424, 0.70198675, 0.70198675, 0.70860927,\n",
      "       0.70860927, 0.71523179, 0.71523179, 0.72847682, 0.72847682,\n",
      "       0.73509934, 0.73509934, 0.74172185, 0.74172185, 0.74834437,\n",
      "       0.74834437, 0.75496689, 0.75496689, 0.7615894 , 0.7615894 ,\n",
      "       0.76821192, 0.76821192, 0.78145695, 0.78145695, 0.79470199,\n",
      "       0.79470199, 0.8013245 , 0.8013245 , 0.81456954, 0.81456954,\n",
      "       0.82119205, 0.82119205, 0.82781457, 0.82781457, 0.8410596 ,\n",
      "       0.8410596 , 0.84768212, 0.84768212, 0.85430464, 0.85430464,\n",
      "       0.86092715, 0.86092715, 0.86754967, 0.86754967, 0.87417219,\n",
      "       0.87417219, 0.8807947 , 0.8807947 , 0.89403974, 0.89403974,\n",
      "       0.90066225, 0.90066225, 0.91390728, 0.91390728, 0.9205298 ,\n",
      "       0.9205298 , 0.92715232, 0.92715232, 0.93377483, 0.93377483,\n",
      "       0.94701987, 0.94701987, 0.95364238, 0.95364238, 0.9602649 ,\n",
      "       0.9602649 , 0.96688742, 0.96688742, 0.98675497, 0.98675497,\n",
      "       1.        , 1.        ]), 1: array([0.        , 0.0014881 , 0.00297619, 0.00297619, 0.01785714,\n",
      "       0.01785714, 0.05208333, 0.05208333, 0.05952381, 0.05952381,\n",
      "       0.0610119 , 0.0610119 , 0.0639881 , 0.0639881 , 0.07142857,\n",
      "       0.07142857, 0.07291667, 0.07291667, 0.07589286, 0.07589286,\n",
      "       0.08928571, 0.08928571, 0.09077381, 0.09077381, 0.09970238,\n",
      "       0.09970238, 0.10714286, 0.10714286, 0.11458333, 0.11458333,\n",
      "       0.12202381, 0.12202381, 0.125     , 0.125     , 0.13541667,\n",
      "       0.13541667, 0.14583333, 0.14583333, 0.14732143, 0.14732143,\n",
      "       0.14880952, 0.14880952, 0.15029762, 0.15029762, 0.16071429,\n",
      "       0.16071429, 0.16220238, 0.16220238, 0.16815476, 0.16815476,\n",
      "       0.18154762, 0.18154762, 0.18452381, 0.18452381, 0.1889881 ,\n",
      "       0.1889881 , 0.19791667, 0.19791667, 0.21130952, 0.21130952,\n",
      "       0.2172619 , 0.2172619 , 0.22619048, 0.22619048, 0.23958333,\n",
      "       0.23958333, 0.24255952, 0.24255952, 0.25      , 0.25      ,\n",
      "       0.25595238, 0.25595238, 0.26190476, 0.26190476, 0.27827381,\n",
      "       0.27827381, 0.28422619, 0.28422619, 0.30952381, 0.30952381,\n",
      "       0.31547619, 0.31547619, 0.31845238, 0.31845238, 0.33184524,\n",
      "       0.33184524, 0.33928571, 0.33928571, 0.34375   , 0.34375   ,\n",
      "       0.3452381 , 0.3452381 , 0.34672619, 0.34672619, 0.36160714,\n",
      "       0.36160714, 0.38095238, 0.38095238, 0.38244048, 0.38244048,\n",
      "       0.39434524, 0.39434524, 0.40178571, 0.40178571, 0.4047619 ,\n",
      "       0.4047619 , 0.41964286, 0.41964286, 0.42708333, 0.42708333,\n",
      "       0.4360119 , 0.4360119 , 0.44494048, 0.44494048, 0.44642857,\n",
      "       0.44642857, 0.44940476, 0.44940476, 0.45089286, 0.45089286,\n",
      "       0.46428571, 0.46428571, 0.47321429, 0.47321429, 0.48214286,\n",
      "       0.48214286, 0.48958333, 0.48958333, 0.50595238, 0.50595238,\n",
      "       0.50744048, 0.50744048, 0.51041667, 0.51041667, 0.51339286,\n",
      "       0.51339286, 0.52827381, 0.52827381, 0.53422619, 0.53422619,\n",
      "       0.59970238, 0.59970238, 0.60565476, 0.60565476, 0.60863095,\n",
      "       0.60863095, 0.61011905, 0.61011905, 0.61160714, 0.61160714,\n",
      "       0.61309524, 0.61309524, 0.61607143, 0.61607143, 0.6235119 ,\n",
      "       0.6235119 , 0.63541667, 0.63541667, 0.64583333, 0.64583333,\n",
      "       0.64880952, 0.64880952, 0.6577381 , 0.6577381 , 0.65922619,\n",
      "       0.65922619, 0.66964286, 0.66964286, 0.68005952, 0.68005952,\n",
      "       0.70833333, 0.70833333, 0.71130952, 0.71130952, 0.71875   ,\n",
      "       0.71875   , 0.72470238, 0.72470238, 0.73214286, 0.73214286,\n",
      "       0.76488095, 0.76488095, 0.79761905, 0.79761905, 0.79910714,\n",
      "       0.79910714, 0.80208333, 0.80208333, 0.82738095, 0.82738095,\n",
      "       0.83184524, 0.83184524, 0.83630952, 0.83630952, 0.84375   ,\n",
      "       0.84375   , 0.84821429, 0.84821429, 0.84970238, 0.84970238,\n",
      "       0.85565476, 0.85565476, 0.85863095, 0.85863095, 0.87202381,\n",
      "       0.87202381, 0.87946429, 0.87946429, 0.88541667, 0.88541667,\n",
      "       0.88839286, 0.88839286, 0.88988095, 0.88988095, 0.89583333,\n",
      "       0.89583333, 0.90327381, 0.90327381, 0.9047619 , 0.9047619 ,\n",
      "       0.90625   , 0.90625   , 0.91964286, 0.91964286, 0.92261905,\n",
      "       0.92261905, 0.92708333, 0.92708333, 0.95684524, 0.95684524,\n",
      "       0.9672619 , 0.9672619 , 0.98809524, 0.98809524, 1.        ])}\n",
      "{0: array([0.        , 0.0014881 , 0.11904762, 0.14136905, 0.15178571,\n",
      "       0.15625   , 0.15922619, 0.16071429, 0.16815476, 0.16964286,\n",
      "       0.17261905, 0.17410714, 0.17857143, 0.18452381, 0.1889881 ,\n",
      "       0.19047619, 0.19345238, 0.19494048, 0.19791667, 0.19940476,\n",
      "       0.20089286, 0.20089286, 0.20238095, 0.20386905, 0.21130952,\n",
      "       0.21428571, 0.2172619 , 0.22172619, 0.23363095, 0.23511905,\n",
      "       0.23809524, 0.24107143, 0.25297619, 0.25595238, 0.26041667,\n",
      "       0.26339286, 0.26785714, 0.26934524, 0.27529762, 0.27529762,\n",
      "       0.27678571, 0.2797619 , 0.28125   , 0.28125   , 0.28869048,\n",
      "       0.29166667, 0.29166667, 0.31994048, 0.31994048, 0.32886905,\n",
      "       0.33035714, 0.33184524, 0.33482143, 0.33630952, 0.33928571,\n",
      "       0.34077381, 0.34077381, 0.3422619 , 0.3422619 , 0.35119048,\n",
      "       0.35119048, 0.35416667, 0.35416667, 0.35565476, 0.35863095,\n",
      "       0.36458333, 0.36458333, 0.3764881 , 0.3764881 , 0.38392857,\n",
      "       0.38392857, 0.38690476, 0.38690476, 0.38839286, 0.38839286,\n",
      "       0.38988095, 0.38988095, 0.39136905, 0.39136905, 0.39434524,\n",
      "       0.39434524, 0.40029762, 0.40029762, 0.46577381, 0.46577381,\n",
      "       0.47172619, 0.47172619, 0.48660714, 0.48660714, 0.48958333,\n",
      "       0.48958333, 0.49255952, 0.49255952, 0.49404762, 0.49404762,\n",
      "       0.51041667, 0.51041667, 0.51785714, 0.51785714, 0.52678571,\n",
      "       0.52678571, 0.53571429, 0.53571429, 0.54910714, 0.54910714,\n",
      "       0.55059524, 0.55059524, 0.55357143, 0.55357143, 0.55505952,\n",
      "       0.55505952, 0.5639881 , 0.5639881 , 0.57291667, 0.57291667,\n",
      "       0.58035714, 0.58035714, 0.5952381 , 0.5952381 , 0.59821429,\n",
      "       0.59821429, 0.60565476, 0.60565476, 0.61755952, 0.61755952,\n",
      "       0.61904762, 0.61904762, 0.63839286, 0.63839286, 0.65327381,\n",
      "       0.65327381, 0.6547619 , 0.6547619 , 0.65625   , 0.65625   ,\n",
      "       0.66071429, 0.66071429, 0.66815476, 0.66815476, 0.68154762,\n",
      "       0.68154762, 0.68452381, 0.68452381, 0.69047619, 0.69047619,\n",
      "       0.71577381, 0.71577381, 0.72172619, 0.72172619, 0.73809524,\n",
      "       0.73809524, 0.74404762, 0.74404762, 0.75      , 0.75      ,\n",
      "       0.75744048, 0.75744048, 0.76041667, 0.76041667, 0.77380952,\n",
      "       0.77380952, 0.7827381 , 0.7827381 , 0.78869048, 0.78869048,\n",
      "       0.80208333, 0.80208333, 0.8110119 , 0.8110119 , 0.81547619,\n",
      "       0.81547619, 0.81845238, 0.81845238, 0.83184524, 0.83184524,\n",
      "       0.83779762, 0.83779762, 0.83928571, 0.83928571, 0.84970238,\n",
      "       0.84970238, 0.85119048, 0.85119048, 0.85267857, 0.85267857,\n",
      "       0.85416667, 0.85416667, 0.86458333, 0.86458333, 0.875     ,\n",
      "       0.875     , 0.87797619, 0.87797619, 0.88541667, 0.88541667,\n",
      "       0.89285714, 0.89285714, 0.90029762, 0.90029762, 0.90922619,\n",
      "       0.90922619, 0.91071429, 0.91071429, 0.92410714, 0.92410714,\n",
      "       0.92708333, 0.92708333, 0.92857143, 0.92857143, 0.9360119 ,\n",
      "       0.9360119 , 0.9389881 , 0.9389881 , 0.94047619, 0.94047619,\n",
      "       0.94791667, 0.94791667, 0.98214286, 0.98214286, 0.99702381,\n",
      "       0.99702381, 1.        ]), 1: array([0.        , 0.        , 0.        , 0.01324503, 0.01324503,\n",
      "       0.03311258, 0.03311258, 0.0397351 , 0.0397351 , 0.04635762,\n",
      "       0.04635762, 0.05298013, 0.05298013, 0.06622517, 0.06622517,\n",
      "       0.07284768, 0.07284768, 0.0794702 , 0.0794702 , 0.08609272,\n",
      "       0.08609272, 0.09933775, 0.09933775, 0.10596026, 0.10596026,\n",
      "       0.1192053 , 0.1192053 , 0.12582781, 0.12582781, 0.13245033,\n",
      "       0.13245033, 0.13907285, 0.13907285, 0.14569536, 0.14569536,\n",
      "       0.15231788, 0.15231788, 0.1589404 , 0.1589404 , 0.17218543,\n",
      "       0.17218543, 0.17880795, 0.17880795, 0.18543046, 0.18543046,\n",
      "       0.1986755 , 0.1986755 , 0.20529801, 0.20529801, 0.21854305,\n",
      "       0.21854305, 0.23178808, 0.23178808, 0.2384106 , 0.2384106 ,\n",
      "       0.24503311, 0.24503311, 0.25165563, 0.25165563, 0.25827815,\n",
      "       0.25827815, 0.26490066, 0.26490066, 0.27152318, 0.27152318,\n",
      "       0.28476821, 0.28476821, 0.29139073, 0.29139073, 0.29801325,\n",
      "       0.29801325, 0.30463576, 0.30463576, 0.31125828, 0.31125828,\n",
      "       0.32450331, 0.32450331, 0.33112583, 0.33112583, 0.34437086,\n",
      "       0.34437086, 0.35761589, 0.35761589, 0.36423841, 0.36423841,\n",
      "       0.37086093, 0.37086093, 0.37748344, 0.37748344, 0.39072848,\n",
      "       0.39072848, 0.39735099, 0.39735099, 0.40397351, 0.40397351,\n",
      "       0.41721854, 0.41721854, 0.42384106, 0.42384106, 0.43046358,\n",
      "       0.43046358, 0.43708609, 0.43708609, 0.44370861, 0.44370861,\n",
      "       0.45033113, 0.45033113, 0.45695364, 0.45695364, 0.47682119,\n",
      "       0.47682119, 0.49668874, 0.49668874, 0.50331126, 0.50331126,\n",
      "       0.50993377, 0.50993377, 0.51655629, 0.51655629, 0.52317881,\n",
      "       0.52317881, 0.53642384, 0.53642384, 0.54304636, 0.54304636,\n",
      "       0.54966887, 0.54966887, 0.56291391, 0.56291391, 0.57615894,\n",
      "       0.57615894, 0.58278146, 0.58278146, 0.58940397, 0.58940397,\n",
      "       0.59602649, 0.59602649, 0.60264901, 0.60264901, 0.60927152,\n",
      "       0.60927152, 0.61589404, 0.61589404, 0.62251656, 0.62251656,\n",
      "       0.62913907, 0.62913907, 0.63576159, 0.63576159, 0.65562914,\n",
      "       0.65562914, 0.66225166, 0.66225166, 0.67549669, 0.67549669,\n",
      "       0.68211921, 0.68211921, 0.68874172, 0.68874172, 0.69536424,\n",
      "       0.69536424, 0.70860927, 0.70860927, 0.71523179, 0.71523179,\n",
      "       0.7218543 , 0.7218543 , 0.72847682, 0.72847682, 0.73509934,\n",
      "       0.73509934, 0.74172185, 0.74172185, 0.74834437, 0.74834437,\n",
      "       0.75496689, 0.75496689, 0.7615894 , 0.7615894 , 0.76821192,\n",
      "       0.76821192, 0.77483444, 0.77483444, 0.78145695, 0.78145695,\n",
      "       0.79470199, 0.79470199, 0.8013245 , 0.8013245 , 0.80794702,\n",
      "       0.80794702, 0.81456954, 0.81456954, 0.82119205, 0.82119205,\n",
      "       0.82781457, 0.82781457, 0.83443709, 0.83443709, 0.8410596 ,\n",
      "       0.8410596 , 0.84768212, 0.84768212, 0.86092715, 0.86092715,\n",
      "       0.86754967, 0.86754967, 0.87417219, 0.87417219, 0.88741722,\n",
      "       0.88741722, 0.89403974, 0.89403974, 0.90728477, 0.90728477,\n",
      "       0.91390728, 0.91390728, 0.9205298 , 0.9205298 , 0.93377483,\n",
      "       0.93377483, 0.94039735, 0.94039735, 0.94701987, 0.94701987,\n",
      "       0.9602649 , 0.9602649 , 0.96688742, 0.96688742, 0.97350993,\n",
      "       0.97350993, 0.98675497, 0.98675497, 1.        , 1.        ])}\n",
      "{0: 0.5268349889624724, 1: 0.5290424944812362}\n"
     ]
    }
   ],
   "source": [
    "# Compute ROC curve and ROC area for each class\n",
    "fpr = dict()\n",
    "tpr = dict()\n",
    "roc_auc = dict()\n",
    "for i in range(num_classes):\n",
    "    fpr[i], tpr[i], _ = roc_curve(y_true[:, i], y_pred[:, i])\n",
    "    roc_auc[i] = auc(fpr[i], tpr[i])\n",
    "print(fpr)\n",
    "print(tpr)\n",
    "print(roc_auc)"
   ]
  },
  {
   "cell_type": "code",
   "execution_count": 30,
   "metadata": {
    "id": "wV7IZy3Tf0Lo"
   },
   "outputs": [
    {
     "data": {
      "image/png": "[encoded data removed]",
      "text/plain": [
       "<Figure size 576x432 with 1 Axes>"
      ]
     },
     "metadata": {
      "needs_background": "light"
     },
     "output_type": "display_data"
    }
   ],
   "source": [
    "# Plot ROC curve\n",
    "plt.figure(figsize=(8, 6))\n",
    "for i in range(num_classes):\n",
    "    plt.plot(fpr[i], tpr[i], lw=2, label='ROC curve (area = %0.4f) for class %d' % (roc_auc[i], i))\n",
    "plt.plot([0, 1], [0, 1], color='navy', lw=2, linestyle='--')\n",
    "plt.xlim([0.0, 1.0])\n",
    "plt.ylim([0.0, 1.05])\n",
    "plt.xlabel('False Positive Rate')\n",
    "plt.ylabel('True Positive Rate')\n",
    "plt.title('Receiver Operating Characteristic (ROC) Curve')\n",
    "plt.legend(loc=\"lower right\")\n",
    "plt.show()"
   ]
  },
  {
   "cell_type": "code",
   "execution_count": null,
   "metadata": {},
   "outputs": [],
   "source": []
  }
 ],
 "metadata": {
  "colab": {
   "provenance": []
  },
  "kernelspec": {
   "display_name": "Python 3",
   "language": "python",
   "name": "python3"
  },
  "language_info": {
   "codemirror_mode": {
    "name": "ipython",
    "version": 3
   },
   "file_extension": ".py",
   "mimetype": "text/x-python",
   "name": "python",
   "nbconvert_exporter": "python",
   "pygments_lexer": "ipython3",
   "version": "3.7.6"
  }
 },
 "nbformat": 4,
 "nbformat_minor": 1
}
